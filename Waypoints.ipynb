{
 "cells": [
  {
   "cell_type": "code",
   "execution_count": 10,
   "metadata": {},
   "outputs": [],
   "source": [
    "import json\n",
    "import math\n",
    "all_waypoints = json.load(open('./ros/waypoint.json'))\n",
    "\n"
   ]
  },
  {
   "cell_type": "code",
   "execution_count": 32,
   "metadata": {},
   "outputs": [
    {
     "name": "stdout",
     "output_type": "stream",
     "text": [
      "0.005393878962320048\n",
      "10902\n",
      "20\n",
      "[{'twist': {'linear': {'y': 0.0, 'x': 1.6303373883953902, 'z': 0.0}, 'angular': {'y': 0.0, 'x': 0.0, 'z': 0.0}}, 'pose': {'position': {'y': 1128.82, 'x': 894.904, 'z': 0.0}, 'orientation': {'y': 0.0, 'x': -0.0, 'z': 0.0011082838629099998}}}, {'twist': {'linear': {'y': 0.0, 'x': 0.0, 'z': 0.0}, 'angular': {'y': 0.0, 'x': 0.0, 'z': 0.0}}, 'pose': {'position': {'y': 1128.82, 'x': 896.233, 'z': 0.0}, 'orientation': {'y': 0.0, 'x': -0.0, 'z': 0.001178096817277141}}}, {'twist': {'linear': {'y': 0.0, 'x': 5.147397249419595, 'z': 0.0}, 'angular': {'y': 0.0, 'x': 0.0, 'z': 0.0}}, 'pose': {'position': {'y': 1128.67, 'x': 909.48, 'z': 0.0}, 'orientation': {'y': 0.0, 'x': 0.0, 'z': 0.0}}}, {'twist': {'linear': {'y': 0.0, 'x': 5.1485626804428914, 'z': 0.0}, 'angular': {'y': 0.0, 'x': 0.0, 'z': 0.0}}, 'pose': {'position': {'y': 1128.67, 'x': 909.486, 'z': 0.0}, 'orientation': {'y': 0.0, 'x': 0.0, 'z': 0.0}}}, {'twist': {'linear': {'y': 0.0, 'x': 5.151280994383157, 'z': 0.0}, 'angular': {'y': 0.0, 'x': 0.0, 'z': 0.0}}, 'pose': {'position': {'y': 1128.67, 'x': 909.5, 'z': 0.0}, 'orientation': {'y': 0.0, 'x': 0.0, 'z': 0.0}}}, {'twist': {'linear': {'y': 0.0, 'x': 5.153221769521053, 'z': 0.0}, 'angular': {'y': 0.0, 'x': 0.0, 'z': 0.0}}, 'pose': {'position': {'y': 1128.67, 'x': 909.51, 'z': 0.0}, 'orientation': {'y': 0.0, 'x': 0.0, 'z': 0.0}}}, {'twist': {'linear': {'y': 0.0, 'x': 5.155549735550034, 'z': 0.0}, 'angular': {'y': 0.0, 'x': 0.0, 'z': 0.0}}, 'pose': {'position': {'y': 1128.67, 'x': 909.522, 'z': 0.0}, 'orientation': {'y': 0.0, 'x': 0.0, 'z': 0.0}}}, {'twist': {'linear': {'y': 0.0, 'x': 5.172976095749433, 'z': 0.0}, 'angular': {'y': 0.0, 'x': 0.0, 'z': 0.0}}, 'pose': {'position': {'y': 1128.67, 'x': 909.612, 'z': 0.0}, 'orientation': {'y': 0.0, 'x': 0.0, 'z': 0.0}}}, {'twist': {'linear': {'y': 0.0, 'x': 5.18803160556488, 'z': 0.0}, 'angular': {'y': 0.0, 'x': 0.0, 'z': 0.0}}, 'pose': {'position': {'y': 1128.67, 'x': 909.69, 'z': 0.0}, 'orientation': {'y': 0.0, 'x': 0.0, 'z': 0.0}}}, {'twist': {'linear': {'y': 0.0, 'x': 5.206501714031063, 'z': 0.0}, 'angular': {'y': 0.0, 'x': 0.0, 'z': 0.0}}, 'pose': {'position': {'y': 1128.67, 'x': 909.786, 'z': 0.0}, 'orientation': {'y': 0.0, 'x': 0.0, 'z': 0.0}}}, {'twist': {'linear': {'y': 0.0, 'x': 5.228350241876989, 'z': 0.0}, 'angular': {'y': 0.0, 'x': 0.0, 'z': 0.0}}, 'pose': {'position': {'y': 1128.67, 'x': 909.9, 'z': 0.0}, 'orientation': {'y': 0.0, 'x': 0.0, 'z': 0.0}}}, {'twist': {'linear': {'y': 0.0, 'x': 5.2447722503497785, 'z': 0.0}, 'angular': {'y': 0.0, 'x': 0.0, 'z': 0.0}}, 'pose': {'position': {'y': 1128.67, 'x': 909.986, 'z': 0.0}, 'orientation': {'y': 0.0, 'x': 0.0, 'z': 0.0}}}, {'twist': {'linear': {'y': 0.0, 'x': 5.282008422203254, 'z': 0.0}, 'angular': {'y': 0.0, 'x': 0.0, 'z': 0.0}}, 'pose': {'position': {'y': 1128.67, 'x': 910.182, 'z': 0.0}, 'orientation': {'y': 0.0, 'x': 0.0, 'z': 0.0}}}, {'twist': {'linear': {'y': 0.0, 'x': 5.3137175101869, 'z': 0.0}, 'angular': {'y': 0.0, 'x': 0.0, 'z': 0.0}}, 'pose': {'position': {'y': 1128.67, 'x': 910.35, 'z': 0.0}, 'orientation': {'y': 0.0, 'x': 0.0, 'z': 0.0}}}, {'twist': {'linear': {'y': 0.0, 'x': 5.336626286644912, 'z': 0.0}, 'angular': {'y': 0.0, 'x': 0.0, 'z': 0.0}}, 'pose': {'position': {'y': 1128.67, 'x': 910.472, 'z': 0.0}, 'orientation': {'y': 0.0, 'x': 0.0, 'z': 0.0}}}, {'twist': {'linear': {'y': 0.0, 'x': 5.386608481590153, 'z': 0.0}, 'angular': {'y': 0.0, 'x': 0.0, 'z': 0.0}}, 'pose': {'position': {'y': 1128.67, 'x': 910.74, 'z': 0.0}, 'orientation': {'y': 0.0, 'x': 0.0, 'z': 0.0034415992313997215}}}, {'twist': {'linear': {'y': 0.0, 'x': 5.427478941711482, 'z': 0.0}, 'angular': {'y': 0.0, 'x': 0.0, 'z': 0.0}}, 'pose': {'position': {'y': 1128.67, 'x': 910.961, 'z': 0.0}, 'orientation': {'y': 0.0, 'x': 0.0, 'z': 0.0}}}, {'twist': {'linear': {'y': 0.0, 'x': 5.471517446659773, 'z': 0.0}, 'angular': {'y': 0.0, 'x': 0.0, 'z': 0.0}}, 'pose': {'position': {'y': 1128.67, 'x': 911.201, 'z': 0.0}, 'orientation': {'y': 0.0, 'x': 0.0, 'z': 0.0029465216658714384}}}, {'twist': {'linear': {'y': 0.0, 'x': 5.518466970056035, 'z': 0.0}, 'angular': {'y': 0.0, 'x': 0.0, 'z': 0.0}}, 'pose': {'position': {'y': 1128.67, 'x': 911.459, 'z': 0.0}, 'orientation': {'y': 0.0, 'x': 0.0, 'z': 0.0027484450527187243}}}, {'twist': {'linear': {'y': 0.0, 'x': 5.551347606282306, 'z': 0.0}, 'angular': {'y': 0.0, 'x': 0.0, 'z': 0.0}}, 'pose': {'position': {'y': 1128.67, 'x': 911.641, 'z': 0.0}, 'orientation': {'y': 0.0, 'x': 0.0, 'z': 0.0}}}]\n"
     ]
    }
   ],
   "source": [
    "driver_pose = {\n",
    "      'position': {\n",
    "    'x': 1131.23,\n",
    "    'y': 1183.27,\n",
    "    'z': 0.1034537\n",
    "      },\n",
    "  'orientation': { \n",
    "    'x': 0.0,\n",
    "    'y': 0.0,\n",
    "    'z': 0.0436139994303,\n",
    "    'w': 0.99904845681\n",
    "  }\n",
    "  }\n",
    "\n",
    "def distance(self, waypoints, wp1, wp2):\n",
    "    dist = 0\n",
    "    dl = lambda a, b: math.sqrt((a.x-b.x)**2 + (a.y-b.y)**2  + (a.z-b.z)**2)\n",
    "    for i in range(wp1, wp2+1):\n",
    "        dist += dl(waypoints[wp1].pose.pose.position, waypoints[i].pose.pose.position)\n",
    "        wp1 = i\n",
    "    return dist\n",
    "\n",
    "\n",
    "def distance_between_poses(pose1, pose2):\n",
    "    position1 = pose1['position']\n",
    "    position2 = pose2['position']\n",
    "    return math.sqrt((position1['x']-position2['x'])**2 + (position1['y']-position2['y'])**2  + (position1['z']-position2['z'])**2)\n",
    "\n",
    "def closest_waypoint(car_pose):\n",
    "    closest_point = None\n",
    "    closest_point_distance = 10001000\n",
    "    for i, wp in enumerate(all_waypoints):\n",
    "        distance = distance_between_poses(car_pose, wp['pose'])\n",
    "        if distance < closest_point_distance:\n",
    "            closest_point_distance = distance\n",
    "            closest_point = i;\n",
    "    return closest_point;\n",
    "\n",
    "def next_waypoint(car_pose):\n",
    "    pi = 3.142\n",
    "    closest = closest_waypoint(car_pose)\n",
    "    \n",
    "    waypoint = all_waypoints[closest]\n",
    "    \n",
    "    x = car_pose['position']['x']\n",
    "    y = car_pose['position']['y']\n",
    "    theta = car_pose['orientation']['z']\n",
    "    \n",
    "    map_x =  waypoint['pose']['position']['x']\n",
    "    map_y =  waypoint['pose']['position']['y']\n",
    "    \n",
    "    heading = math.atan2((map_y-y),(map_x-x));\n",
    "\n",
    "    angle = abs(theta-heading);\n",
    "    \n",
    "    angle = min(2*pi - angle, angle);\n",
    "\n",
    "    if(angle > pi/4):\n",
    "        closest = closest + 1\n",
    "        if closest == len(all_waypoints):\n",
    "            closestWaypoint = 0\n",
    "\n",
    "    return closestWaypoint\n",
    "\n",
    "def get_next_waypoints(starting, n=20):\n",
    "    return [all_waypoints[i % len(all_waypoints)] for i in range(starting, starting+n)]\n",
    "\n",
    "diffs = []\n",
    "previous_wp = all_waypoints[0]\n",
    "for wp in all_waypoints[1:]:\n",
    "    orientation = wp['pose']['orientation']\n",
    "    porientation = previous_wp['pose']['orientation']\n",
    "    diffs.append(abs(orientation['z'] - porientation['z']))\n",
    "    previous_wp = wp\n",
    "    #print(distance_between_poses(driver_pose, wp['pose']))\n",
    "print(max(diffs))\n",
    "print(len(all_waypoints))\n",
    "print(len(get_next_waypoints(10900)))\n",
    "print(get_next_waypoints(10900))"
   ]
  },
  {
   "cell_type": "code",
   "execution_count": 33,
   "metadata": {},
   "outputs": [
    {
     "name": "stdout",
     "output_type": "stream",
     "text": [
      "High five! You successfully sent some data to your account on plotly. View your plot in your browser at https://plot.ly/~JamesAustin/0 or inside your plot.ly account where it is named 'basic-scatter'\n"
     ]
    },
    {
     "data": {
      "text/html": [
       "<iframe id=\"igraph\" scrolling=\"no\" style=\"border:none;\" seamless=\"seamless\" src=\"https://plot.ly/~JamesAustin/0.embed\" height=\"525px\" width=\"100%\"></iframe>"
      ],
      "text/plain": [
       "<plotly.tools.PlotlyDisplay object>"
      ]
     },
     "execution_count": 33,
     "metadata": {},
     "output_type": "execute_result"
    }
   ],
   "source": [
    "import plotly\n",
    "plotly.tools.set_credentials_file(username='JamesAustin', api_key='MAhAKZ9nIqFhkgLAD6W3')\n",
    "\n",
    "import plotly.plotly as py\n",
    "import plotly.graph_objs as go\n",
    "\n",
    "# Create random data with numpy\n",
    "import numpy as np\n",
    "\n",
    "N = 1000\n",
    "random_x = np.random.randn(N)\n",
    "random_y = np.random.randn(N)\n",
    "\n",
    "wps = get_next_waypoints(10900, n=200)\n",
    "\n",
    "# Create a trace\n",
    "trace = go.Scatter3d(\n",
    "    x = [wp['pose']['position']['x'] * 10 for wp in wps],\n",
    "    y = [wp['pose']['position']['y'] * 10 for wp in wps],\n",
    "    z = [wp['pose']['orientation']['z'] * 100 for wp in wps],\n",
    "    mode = 'markers'\n",
    ")\n",
    "\n",
    "data = [trace]\n",
    "\n",
    "# Plot and embed in ipython notebook!\n",
    "py.iplot(data, filename='basic-scatter')\n"
   ]
  },
  {
   "cell_type": "code",
   "execution_count": null,
   "metadata": {
    "collapsed": true
   },
   "outputs": [],
   "source": []
  }
 ],
 "metadata": {
  "kernelspec": {
   "display_name": "Python 3",
   "language": "python",
   "name": "python3"
  },
  "language_info": {
   "codemirror_mode": {
    "name": "ipython",
    "version": 3
   },
   "file_extension": ".py",
   "mimetype": "text/x-python",
   "name": "python",
   "nbconvert_exporter": "python",
   "pygments_lexer": "ipython3",
   "version": "3.6.4"
  }
 },
 "nbformat": 4,
 "nbformat_minor": 2
}
