{
 "cells": [
  {
   "cell_type": "code",
   "execution_count": 7,
   "metadata": {},
   "outputs": [
    {
     "name": "stdout",
     "output_type": "stream",
     "text": [
      "The autoreload extension is already loaded. To reload it, use:\n",
      "  %reload_ext autoreload\n"
     ]
    }
   ],
   "source": [
    "%load_ext autoreload\n",
    "%autoreload 2\n",
    "    \n",
    "import yaml\n",
    "from os import listdir\n",
    "from os.path import isfile, join\n",
    "from detector_model import get_model\n",
    "import scipy\n",
    "import numpy as np\n",
    "from keras_tqdm import TQDMNotebookCallback\n",
    "import matplotlib.pyplot as plt\n",
    "from permutator import permutate\n",
    "from toolbox.profiler import time_function\n",
    "\n",
    "num_classes = 3 #Red, Yellow, Green\n",
    "label_mappings = {\n",
    "    'Red': 0,\n",
    "    'Yellow': 1,\n",
    "    'Green': 2\n",
    "}  "
   ]
  },
  {
   "cell_type": "code",
   "execution_count": 8,
   "metadata": {},
   "outputs": [
    {
     "name": "stderr",
     "output_type": "stream",
     "text": [
      "/home/jamesaustin/anaconda3/lib/python3.6/site-packages/ipykernel_launcher.py:19: DeprecationWarning: `imread` is deprecated!\n",
      "`imread` is deprecated in SciPy 1.0.0, and will be removed in 1.2.0.\n",
      "Use ``imageio.imread`` instead.\n",
      "/home/jamesaustin/anaconda3/lib/python3.6/site-packages/ipykernel_launcher.py:20: DeprecationWarning: `imresize` is deprecated!\n",
      "`imresize` is deprecated in SciPy 1.0.0, and will be removed in 1.2.0.\n",
      "Use ``skimage.transform.resize`` instead.\n"
     ]
    }
   ],
   "source": [
    "def build_result_mask(size, annotations, scale=1.0):\n",
    "    mask = np.zeros((int(size[0]*scale), int(size[1]*scale), 1), dtype=np.uint8)\n",
    "    for annotation in annotations:\n",
    "        xmin = int(annotation['xmin'] * scale)\n",
    "        xmax = int((annotation['xmin'] + annotation['x_width']) * scale)\n",
    "        ymin = int(annotation['ymin'] * scale)\n",
    "        ymax = int((annotation['ymin'] + annotation['y_height']) * scale)\n",
    "        layer_number = label_mappings[annotation['class']]\n",
    "        \n",
    "        mask[ymin:ymax, xmin:xmax] = 1\n",
    "    return mask\n",
    "\n",
    "def get_annotations(path):\n",
    "    annotations = yaml.load(open(path, 'rb'))\n",
    "    return {x['filename'].split('/')[1]: x['annotations'] for x in annotations}\n",
    "\n",
    "def get_file(path, annotation):\n",
    "    scale = 0.8\n",
    "    base_image = scipy.misc.imread(path)\n",
    "    image = scipy.misc.imresize(base_image, scale)\n",
    "    #base_image = (base_image / 255) - 0.5\n",
    "    mask = build_result_mask(base_image.shape, annotation, scale=scale)    \n",
    "    return image, mask\n",
    "\n",
    "def get_sim_training_data():\n",
    "    annotations = get_annotations('data/sim_training_data/sim_data_annotations.yaml')\n",
    "    file_location = 'data/sim_training_data/sim_data_capture/'\n",
    "    all_files = [(f, join(file_location, f)) for f in listdir(file_location) if isfile(join(file_location, f))]\n",
    "    return [get_file(join(file_location, file_name), file_annotations) for file_name, file_annotations in annotations.items()]\n",
    "\n",
    "def show_image(*imgs, title=''):\n",
    "    if len(imgs) > 1:\n",
    "        img = np.concatenate(tuple([x for x in imgs]), axis=1)\n",
    "    else:\n",
    "        img = imgs[0]\n",
    "    fig = plt.figure(figsize=(10,100))\n",
    "    plt.imshow(img)\n",
    "    fig.suptitle(title)\n",
    "\n",
    "dataset = get_sim_training_data()"
   ]
  },
  {
   "cell_type": "code",
   "execution_count": 9,
   "metadata": {},
   "outputs": [
    {
     "name": "stderr",
     "output_type": "stream",
     "text": [
      "/home/jamesaustin/anaconda3/lib/python3.6/site-packages/ipykernel_launcher.py:2: DeprecationWarning: `imsave` is deprecated!\n",
      "`imsave` is deprecated in SciPy 1.0.0, and will be removed in 1.2.0.\n",
      "Use ``imageio.imwrite`` instead.\n",
      "  \n"
     ]
    }
   ],
   "source": [
    "np.save('./test_label', dataset[0][1])\n",
    "scipy.misc.imsave('./test_image.png', dataset[0][0])"
   ]
  },
  {
   "cell_type": "code",
   "execution_count": 11,
   "metadata": {},
   "outputs": [],
   "source": [
    "from sklearn.model_selection import train_test_split\n",
    "from sklearn.utils import shuffle\n",
    "import random\n",
    "import scipy\n",
    "\n",
    "dataset = shuffle(dataset)\n",
    "training_set, test_set = train_test_split(dataset, test_size=0.3)\n",
    "training_set, validation_set = train_test_split(training_set, test_size=0.1)\n",
    "\n",
    "def myGenerator(dataset, permutate_amount=0.0):\n",
    "    #loading data\n",
    "    while True:\n",
    "        for image, label in dataset:\n",
    "            if permutate_amount > random.random():\n",
    "                image, label = permutate(image, label)\n",
    "\n",
    "            result = [np.array([image]), np.array([label])]\n",
    "            yield result\n",
    "training_generator = myGenerator(training_set, permutate_amount=0.5)\n",
    "validating_generator = myGenerator(validation_set)\n",
    "\n"
   ]
  },
  {
   "cell_type": "code",
   "execution_count": 12,
   "metadata": {},
   "outputs": [],
   "source": [
    "import shutil\n",
    "import os\n",
    "\n",
    "def clear_stored_images():\n",
    "    try:\n",
    "        shutil.rmtree('./test_data/')\n",
    "    except Exception as e:\n",
    "        pass\n",
    "    os.makedirs('./test_data/')\n"
   ]
  },
  {
   "cell_type": "code",
   "execution_count": 18,
   "metadata": {},
   "outputs": [
    {
     "name": "stderr",
     "output_type": "stream",
     "text": [
      "/home/jamesaustin/anaconda3/lib/python3.6/site-packages/ipykernel_launcher.py:19: DeprecationWarning: `imsave` is deprecated!\n",
      "`imsave` is deprecated in SciPy 1.0.0, and will be removed in 1.2.0.\n",
      "Use ``imageio.imwrite`` instead.\n"
     ]
    },
    {
     "data": {
      "application/vnd.jupyter.widget-view+json": {
       "model_id": "71efbbde681145de8188583182880852",
       "version_major": 2,
       "version_minor": 0
      },
      "text/html": [
       "<p>Failed to display Jupyter Widget of type <code>HBox</code>.</p>\n",
       "<p>\n",
       "  If you're reading this message in the Jupyter Notebook or JupyterLab Notebook, it may mean\n",
       "  that the widgets JavaScript is still loading. If this message persists, it\n",
       "  likely means that the widgets JavaScript library is either not installed or\n",
       "  not enabled. See the <a href=\"https://ipywidgets.readthedocs.io/en/stable/user_install.html\">Jupyter\n",
       "  Widgets Documentation</a> for setup instructions.\n",
       "</p>\n",
       "<p>\n",
       "  If you're reading this message in another frontend (for example, a static\n",
       "  rendering on GitHub or <a href=\"https://nbviewer.jupyter.org/\">NBViewer</a>),\n",
       "  it may mean that your frontend doesn't currently support widgets.\n",
       "</p>\n"
      ],
      "text/plain": [
       "HBox(children=(IntProgress(value=0, description='Training'), HTML(value='')))"
      ]
     },
     "metadata": {},
     "output_type": "display_data"
    },
    {
     "data": {
      "application/vnd.jupyter.widget-view+json": {
       "model_id": "48e10322298a4d91b71163539c1547ee",
       "version_major": 2,
       "version_minor": 0
      },
      "text/html": [
       "<p>Failed to display Jupyter Widget of type <code>HBox</code>.</p>\n",
       "<p>\n",
       "  If you're reading this message in the Jupyter Notebook or JupyterLab Notebook, it may mean\n",
       "  that the widgets JavaScript is still loading. If this message persists, it\n",
       "  likely means that the widgets JavaScript library is either not installed or\n",
       "  not enabled. See the <a href=\"https://ipywidgets.readthedocs.io/en/stable/user_install.html\">Jupyter\n",
       "  Widgets Documentation</a> for setup instructions.\n",
       "</p>\n",
       "<p>\n",
       "  If you're reading this message in another frontend (for example, a static\n",
       "  rendering on GitHub or <a href=\"https://nbviewer.jupyter.org/\">NBViewer</a>),\n",
       "  it may mean that your frontend doesn't currently support widgets.\n",
       "</p>\n"
      ],
      "text/plain": [
       "HBox(children=(IntProgress(value=0, description='Epoch 0', max=173), HTML(value='')))"
      ]
     },
     "metadata": {},
     "output_type": "display_data"
    },
    {
     "name": "stderr",
     "output_type": "stream",
     "text": [
      "Exception in thread Thread-4:\n",
      "Traceback (most recent call last):\n",
      "  File \"/home/jamesaustin/anaconda3/lib/python3.6/threading.py\", line 916, in _bootstrap_inner\n",
      "    self.run()\n",
      "  File \"/home/jamesaustin/anaconda3/lib/python3.6/site-packages/tqdm/_monitor.py\", line 63, in run\n",
      "    for instance in self.tqdm_cls._instances:\n",
      "  File \"/home/jamesaustin/anaconda3/lib/python3.6/_weakrefset.py\", line 60, in __iter__\n",
      "    for itemref in self.data:\n",
      "RuntimeError: Set changed size during iteration\n",
      "\n"
     ]
    },
    {
     "name": "stdout",
     "output_type": "stream",
     "text": [
      "\n",
      "Epoch 00001: saving model to ./tmp/weights__5.01--0.30.hdf5\n",
      "Function (get_prediction) Finished: 0.166674s\n",
      "Function (get_prediction) Finished: 0.019436s\n",
      "Function (get_prediction) Finished: 0.018045s\n",
      "Function (get_prediction) Finished: 0.019173s\n",
      "Function (get_prediction) Finished: 0.018274s\n",
      "Function (get_prediction) Finished: 0.020343s\n",
      "Function (get_prediction) Finished: 0.017138s\n",
      "Function (get_prediction) Finished: 0.019788s\n"
     ]
    },
    {
     "name": "stderr",
     "output_type": "stream",
     "text": [
      "/home/jamesaustin/anaconda3/lib/python3.6/site-packages/ipykernel_launcher.py:36: DeprecationWarning: `imsave` is deprecated!\n",
      "`imsave` is deprecated in SciPy 1.0.0, and will be removed in 1.2.0.\n",
      "Use ``imageio.imwrite`` instead.\n"
     ]
    },
    {
     "data": {
      "application/vnd.jupyter.widget-view+json": {
       "model_id": "a946e5ccf0f54ecaa52cb961fa83ceea",
       "version_major": 2,
       "version_minor": 0
      },
      "text/html": [
       "<p>Failed to display Jupyter Widget of type <code>HBox</code>.</p>\n",
       "<p>\n",
       "  If you're reading this message in the Jupyter Notebook or JupyterLab Notebook, it may mean\n",
       "  that the widgets JavaScript is still loading. If this message persists, it\n",
       "  likely means that the widgets JavaScript library is either not installed or\n",
       "  not enabled. See the <a href=\"https://ipywidgets.readthedocs.io/en/stable/user_install.html\">Jupyter\n",
       "  Widgets Documentation</a> for setup instructions.\n",
       "</p>\n",
       "<p>\n",
       "  If you're reading this message in another frontend (for example, a static\n",
       "  rendering on GitHub or <a href=\"https://nbviewer.jupyter.org/\">NBViewer</a>),\n",
       "  it may mean that your frontend doesn't currently support widgets.\n",
       "</p>\n"
      ],
      "text/plain": [
       "HBox(children=(IntProgress(value=0, description='Epoch 1', max=173), HTML(value='')))"
      ]
     },
     "metadata": {},
     "output_type": "display_data"
    },
    {
     "name": "stdout",
     "output_type": "stream",
     "text": [
      "\n",
      "Epoch 00002: saving model to ./tmp/weights__5.02--0.33.hdf5\n",
      "Function (get_prediction) Finished: 0.019856s\n",
      "Function (get_prediction) Finished: 0.021093s\n",
      "Function (get_prediction) Finished: 0.019738s\n",
      "Function (get_prediction) Finished: 0.017306s\n",
      "Function (get_prediction) Finished: 0.01763s\n",
      "Function (get_prediction) Finished: 0.02005s\n",
      "Function (get_prediction) Finished: 0.018929s\n",
      "Function (get_prediction) Finished: 0.02194s\n"
     ]
    },
    {
     "data": {
      "application/vnd.jupyter.widget-view+json": {
       "model_id": "b4414c4c3a674fbcbd4c98ce986c1be4",
       "version_major": 2,
       "version_minor": 0
      },
      "text/html": [
       "<p>Failed to display Jupyter Widget of type <code>HBox</code>.</p>\n",
       "<p>\n",
       "  If you're reading this message in the Jupyter Notebook or JupyterLab Notebook, it may mean\n",
       "  that the widgets JavaScript is still loading. If this message persists, it\n",
       "  likely means that the widgets JavaScript library is either not installed or\n",
       "  not enabled. See the <a href=\"https://ipywidgets.readthedocs.io/en/stable/user_install.html\">Jupyter\n",
       "  Widgets Documentation</a> for setup instructions.\n",
       "</p>\n",
       "<p>\n",
       "  If you're reading this message in another frontend (for example, a static\n",
       "  rendering on GitHub or <a href=\"https://nbviewer.jupyter.org/\">NBViewer</a>),\n",
       "  it may mean that your frontend doesn't currently support widgets.\n",
       "</p>\n"
      ],
      "text/plain": [
       "HBox(children=(IntProgress(value=0, description='Epoch 2', max=173), HTML(value='')))"
      ]
     },
     "metadata": {},
     "output_type": "display_data"
    },
    {
     "name": "stdout",
     "output_type": "stream",
     "text": [
      "\n",
      "Epoch 00003: saving model to ./tmp/weights__5.03--0.35.hdf5\n",
      "Function (get_prediction) Finished: 0.019998s\n",
      "Function (get_prediction) Finished: 0.018174s\n",
      "Function (get_prediction) Finished: 0.016826s\n",
      "Function (get_prediction) Finished: 0.01572s\n",
      "Function (get_prediction) Finished: 0.015712s\n",
      "Function (get_prediction) Finished: 0.018921s\n",
      "Function (get_prediction) Finished: 0.017436s\n",
      "Function (get_prediction) Finished: 0.020672s\n"
     ]
    },
    {
     "data": {
      "application/vnd.jupyter.widget-view+json": {
       "model_id": "674c3794624f464291d1e4cb08f04fee",
       "version_major": 2,
       "version_minor": 0
      },
      "text/html": [
       "<p>Failed to display Jupyter Widget of type <code>HBox</code>.</p>\n",
       "<p>\n",
       "  If you're reading this message in the Jupyter Notebook or JupyterLab Notebook, it may mean\n",
       "  that the widgets JavaScript is still loading. If this message persists, it\n",
       "  likely means that the widgets JavaScript library is either not installed or\n",
       "  not enabled. See the <a href=\"https://ipywidgets.readthedocs.io/en/stable/user_install.html\">Jupyter\n",
       "  Widgets Documentation</a> for setup instructions.\n",
       "</p>\n",
       "<p>\n",
       "  If you're reading this message in another frontend (for example, a static\n",
       "  rendering on GitHub or <a href=\"https://nbviewer.jupyter.org/\">NBViewer</a>),\n",
       "  it may mean that your frontend doesn't currently support widgets.\n",
       "</p>\n"
      ],
      "text/plain": [
       "HBox(children=(IntProgress(value=0, description='Epoch 3', max=173), HTML(value='')))"
      ]
     },
     "metadata": {},
     "output_type": "display_data"
    },
    {
     "name": "stdout",
     "output_type": "stream",
     "text": [
      "\n",
      "Epoch 00004: saving model to ./tmp/weights__5.04--0.41.hdf5\n",
      "Function (get_prediction) Finished: 0.020182s\n",
      "Function (get_prediction) Finished: 0.020227s\n",
      "Function (get_prediction) Finished: 0.019143s\n",
      "Function (get_prediction) Finished: 0.016618s\n",
      "Function (get_prediction) Finished: 0.018393s\n",
      "Function (get_prediction) Finished: 0.020526s\n",
      "Function (get_prediction) Finished: 0.018685s\n",
      "Function (get_prediction) Finished: 0.020697s\n"
     ]
    },
    {
     "data": {
      "application/vnd.jupyter.widget-view+json": {
       "model_id": "ffa25d09266940a8984b1d50dccd0952",
       "version_major": 2,
       "version_minor": 0
      },
      "text/html": [
       "<p>Failed to display Jupyter Widget of type <code>HBox</code>.</p>\n",
       "<p>\n",
       "  If you're reading this message in the Jupyter Notebook or JupyterLab Notebook, it may mean\n",
       "  that the widgets JavaScript is still loading. If this message persists, it\n",
       "  likely means that the widgets JavaScript library is either not installed or\n",
       "  not enabled. See the <a href=\"https://ipywidgets.readthedocs.io/en/stable/user_install.html\">Jupyter\n",
       "  Widgets Documentation</a> for setup instructions.\n",
       "</p>\n",
       "<p>\n",
       "  If you're reading this message in another frontend (for example, a static\n",
       "  rendering on GitHub or <a href=\"https://nbviewer.jupyter.org/\">NBViewer</a>),\n",
       "  it may mean that your frontend doesn't currently support widgets.\n",
       "</p>\n"
      ],
      "text/plain": [
       "HBox(children=(IntProgress(value=0, description='Epoch 4', max=173), HTML(value='')))"
      ]
     },
     "metadata": {},
     "output_type": "display_data"
    },
    {
     "name": "stdout",
     "output_type": "stream",
     "text": [
      "\n",
      "Epoch 00005: saving model to ./tmp/weights__5.05--0.42.hdf5\n",
      "Function (get_prediction) Finished: 0.020242s\n",
      "Function (get_prediction) Finished: 0.020745s\n",
      "Function (get_prediction) Finished: 0.019643s\n",
      "Function (get_prediction) Finished: 0.017805s\n",
      "Function (get_prediction) Finished: 0.017527s\n",
      "Function (get_prediction) Finished: 0.020935s\n",
      "Function (get_prediction) Finished: 0.018692s\n",
      "Function (get_prediction) Finished: 0.020195s\n"
     ]
    },
    {
     "data": {
      "application/vnd.jupyter.widget-view+json": {
       "model_id": "9fba55565e1c4548a34d489af9de8e09",
       "version_major": 2,
       "version_minor": 0
      },
      "text/html": [
       "<p>Failed to display Jupyter Widget of type <code>HBox</code>.</p>\n",
       "<p>\n",
       "  If you're reading this message in the Jupyter Notebook or JupyterLab Notebook, it may mean\n",
       "  that the widgets JavaScript is still loading. If this message persists, it\n",
       "  likely means that the widgets JavaScript library is either not installed or\n",
       "  not enabled. See the <a href=\"https://ipywidgets.readthedocs.io/en/stable/user_install.html\">Jupyter\n",
       "  Widgets Documentation</a> for setup instructions.\n",
       "</p>\n",
       "<p>\n",
       "  If you're reading this message in another frontend (for example, a static\n",
       "  rendering on GitHub or <a href=\"https://nbviewer.jupyter.org/\">NBViewer</a>),\n",
       "  it may mean that your frontend doesn't currently support widgets.\n",
       "</p>\n"
      ],
      "text/plain": [
       "HBox(children=(IntProgress(value=0, description='Epoch 5', max=173), HTML(value='')))"
      ]
     },
     "metadata": {},
     "output_type": "display_data"
    },
    {
     "name": "stdout",
     "output_type": "stream",
     "text": [
      "\n",
      "Epoch 00006: saving model to ./tmp/weights__5.06--0.42.hdf5\n",
      "Function (get_prediction) Finished: 0.020883s\n",
      "Function (get_prediction) Finished: 0.021666s\n",
      "Function (get_prediction) Finished: 0.019963s\n",
      "Function (get_prediction) Finished: 0.017467s\n",
      "Function (get_prediction) Finished: 0.017911s\n",
      "Function (get_prediction) Finished: 0.023779s\n",
      "Function (get_prediction) Finished: 0.019867s\n",
      "Function (get_prediction) Finished: 0.020798s\n"
     ]
    },
    {
     "data": {
      "application/vnd.jupyter.widget-view+json": {
       "model_id": "54866d38aa4845e8a4178e28ca0b098d",
       "version_major": 2,
       "version_minor": 0
      },
      "text/html": [
       "<p>Failed to display Jupyter Widget of type <code>HBox</code>.</p>\n",
       "<p>\n",
       "  If you're reading this message in the Jupyter Notebook or JupyterLab Notebook, it may mean\n",
       "  that the widgets JavaScript is still loading. If this message persists, it\n",
       "  likely means that the widgets JavaScript library is either not installed or\n",
       "  not enabled. See the <a href=\"https://ipywidgets.readthedocs.io/en/stable/user_install.html\">Jupyter\n",
       "  Widgets Documentation</a> for setup instructions.\n",
       "</p>\n",
       "<p>\n",
       "  If you're reading this message in another frontend (for example, a static\n",
       "  rendering on GitHub or <a href=\"https://nbviewer.jupyter.org/\">NBViewer</a>),\n",
       "  it may mean that your frontend doesn't currently support widgets.\n",
       "</p>\n"
      ],
      "text/plain": [
       "HBox(children=(IntProgress(value=0, description='Epoch 6', max=173), HTML(value='')))"
      ]
     },
     "metadata": {},
     "output_type": "display_data"
    },
    {
     "name": "stdout",
     "output_type": "stream",
     "text": [
      "\n",
      "Epoch 00007: saving model to ./tmp/weights__5.07--0.44.hdf5\n",
      "Function (get_prediction) Finished: 0.02013s\n",
      "Function (get_prediction) Finished: 0.020296s\n",
      "Function (get_prediction) Finished: 0.019348s\n",
      "Function (get_prediction) Finished: 0.018684s\n",
      "Function (get_prediction) Finished: 0.01784s\n",
      "Function (get_prediction) Finished: 0.021171s\n",
      "Function (get_prediction) Finished: 0.018025s\n",
      "Function (get_prediction) Finished: 0.019966s\n"
     ]
    },
    {
     "data": {
      "application/vnd.jupyter.widget-view+json": {
       "model_id": "d8bc318f603649d28f7dbb5dead0a39c",
       "version_major": 2,
       "version_minor": 0
      },
      "text/html": [
       "<p>Failed to display Jupyter Widget of type <code>HBox</code>.</p>\n",
       "<p>\n",
       "  If you're reading this message in the Jupyter Notebook or JupyterLab Notebook, it may mean\n",
       "  that the widgets JavaScript is still loading. If this message persists, it\n",
       "  likely means that the widgets JavaScript library is either not installed or\n",
       "  not enabled. See the <a href=\"https://ipywidgets.readthedocs.io/en/stable/user_install.html\">Jupyter\n",
       "  Widgets Documentation</a> for setup instructions.\n",
       "</p>\n",
       "<p>\n",
       "  If you're reading this message in another frontend (for example, a static\n",
       "  rendering on GitHub or <a href=\"https://nbviewer.jupyter.org/\">NBViewer</a>),\n",
       "  it may mean that your frontend doesn't currently support widgets.\n",
       "</p>\n"
      ],
      "text/plain": [
       "HBox(children=(IntProgress(value=0, description='Epoch 7', max=173), HTML(value='')))"
      ]
     },
     "metadata": {},
     "output_type": "display_data"
    },
    {
     "name": "stdout",
     "output_type": "stream",
     "text": [
      "\n",
      "Epoch 00008: saving model to ./tmp/weights__5.08--0.46.hdf5\n",
      "Function (get_prediction) Finished: 0.021948s\n",
      "Function (get_prediction) Finished: 0.021946s\n",
      "Function (get_prediction) Finished: 0.019329s\n",
      "Function (get_prediction) Finished: 0.022056s\n",
      "Function (get_prediction) Finished: 0.020111s\n",
      "Function (get_prediction) Finished: 0.020933s\n",
      "Function (get_prediction) Finished: 0.018484s\n",
      "Function (get_prediction) Finished: 0.021085s\n"
     ]
    },
    {
     "data": {
      "application/vnd.jupyter.widget-view+json": {
       "model_id": "5d8b28c148264bb4b5911d5b85480acc",
       "version_major": 2,
       "version_minor": 0
      },
      "text/html": [
       "<p>Failed to display Jupyter Widget of type <code>HBox</code>.</p>\n",
       "<p>\n",
       "  If you're reading this message in the Jupyter Notebook or JupyterLab Notebook, it may mean\n",
       "  that the widgets JavaScript is still loading. If this message persists, it\n",
       "  likely means that the widgets JavaScript library is either not installed or\n",
       "  not enabled. See the <a href=\"https://ipywidgets.readthedocs.io/en/stable/user_install.html\">Jupyter\n",
       "  Widgets Documentation</a> for setup instructions.\n",
       "</p>\n",
       "<p>\n",
       "  If you're reading this message in another frontend (for example, a static\n",
       "  rendering on GitHub or <a href=\"https://nbviewer.jupyter.org/\">NBViewer</a>),\n",
       "  it may mean that your frontend doesn't currently support widgets.\n",
       "</p>\n"
      ],
      "text/plain": [
       "HBox(children=(IntProgress(value=0, description='Epoch 8', max=173), HTML(value='')))"
      ]
     },
     "metadata": {},
     "output_type": "display_data"
    },
    {
     "name": "stdout",
     "output_type": "stream",
     "text": [
      "\n",
      "Epoch 00009: saving model to ./tmp/weights__5.09--0.49.hdf5\n",
      "Function (get_prediction) Finished: 0.021083s\n",
      "Function (get_prediction) Finished: 0.020984s\n",
      "Function (get_prediction) Finished: 0.019388s\n",
      "Function (get_prediction) Finished: 0.017834s\n",
      "Function (get_prediction) Finished: 0.017688s\n",
      "Function (get_prediction) Finished: 0.020396s\n",
      "Function (get_prediction) Finished: 0.01863s\n",
      "Function (get_prediction) Finished: 0.021468s\n"
     ]
    },
    {
     "data": {
      "application/vnd.jupyter.widget-view+json": {
       "model_id": "52e4d213ff124e5da7eb3e0edb40d8cd",
       "version_major": 2,
       "version_minor": 0
      },
      "text/html": [
       "<p>Failed to display Jupyter Widget of type <code>HBox</code>.</p>\n",
       "<p>\n",
       "  If you're reading this message in the Jupyter Notebook or JupyterLab Notebook, it may mean\n",
       "  that the widgets JavaScript is still loading. If this message persists, it\n",
       "  likely means that the widgets JavaScript library is either not installed or\n",
       "  not enabled. See the <a href=\"https://ipywidgets.readthedocs.io/en/stable/user_install.html\">Jupyter\n",
       "  Widgets Documentation</a> for setup instructions.\n",
       "</p>\n",
       "<p>\n",
       "  If you're reading this message in another frontend (for example, a static\n",
       "  rendering on GitHub or <a href=\"https://nbviewer.jupyter.org/\">NBViewer</a>),\n",
       "  it may mean that your frontend doesn't currently support widgets.\n",
       "</p>\n"
      ],
      "text/plain": [
       "HBox(children=(IntProgress(value=0, description='Epoch 9', max=173), HTML(value='')))"
      ]
     },
     "metadata": {},
     "output_type": "display_data"
    },
    {
     "name": "stdout",
     "output_type": "stream",
     "text": [
      "\n",
      "Epoch 00010: saving model to ./tmp/weights__5.10--0.50.hdf5\n",
      "Function (get_prediction) Finished: 0.020558s\n",
      "Function (get_prediction) Finished: 0.019455s\n",
      "Function (get_prediction) Finished: 0.019145s\n",
      "Function (get_prediction) Finished: 0.019064s\n",
      "Function (get_prediction) Finished: 0.01917s\n",
      "Function (get_prediction) Finished: 0.01913s\n",
      "Function (get_prediction) Finished: 0.019412s\n",
      "Function (get_prediction) Finished: 0.021049s\n"
     ]
    },
    {
     "data": {
      "application/vnd.jupyter.widget-view+json": {
       "model_id": "526af13e60ac409b83bb6beb369eb946",
       "version_major": 2,
       "version_minor": 0
      },
      "text/html": [
       "<p>Failed to display Jupyter Widget of type <code>HBox</code>.</p>\n",
       "<p>\n",
       "  If you're reading this message in the Jupyter Notebook or JupyterLab Notebook, it may mean\n",
       "  that the widgets JavaScript is still loading. If this message persists, it\n",
       "  likely means that the widgets JavaScript library is either not installed or\n",
       "  not enabled. See the <a href=\"https://ipywidgets.readthedocs.io/en/stable/user_install.html\">Jupyter\n",
       "  Widgets Documentation</a> for setup instructions.\n",
       "</p>\n",
       "<p>\n",
       "  If you're reading this message in another frontend (for example, a static\n",
       "  rendering on GitHub or <a href=\"https://nbviewer.jupyter.org/\">NBViewer</a>),\n",
       "  it may mean that your frontend doesn't currently support widgets.\n",
       "</p>\n"
      ],
      "text/plain": [
       "HBox(children=(IntProgress(value=0, description='Epoch 10', max=173), HTML(value='')))"
      ]
     },
     "metadata": {},
     "output_type": "display_data"
    },
    {
     "name": "stdout",
     "output_type": "stream",
     "text": [
      "\n",
      "Epoch 00011: saving model to ./tmp/weights__5.11--0.51.hdf5\n",
      "Function (get_prediction) Finished: 0.019958s\n",
      "Function (get_prediction) Finished: 0.020482s\n",
      "Function (get_prediction) Finished: 0.020083s\n",
      "Function (get_prediction) Finished: 0.024981s\n",
      "Function (get_prediction) Finished: 0.018094s\n",
      "Function (get_prediction) Finished: 0.019402s\n",
      "Function (get_prediction) Finished: 0.018233s\n",
      "Function (get_prediction) Finished: 0.020203s\n"
     ]
    },
    {
     "data": {
      "application/vnd.jupyter.widget-view+json": {
       "model_id": "f2991e05db2241c3879dc8bd05e3a48b",
       "version_major": 2,
       "version_minor": 0
      },
      "text/html": [
       "<p>Failed to display Jupyter Widget of type <code>HBox</code>.</p>\n",
       "<p>\n",
       "  If you're reading this message in the Jupyter Notebook or JupyterLab Notebook, it may mean\n",
       "  that the widgets JavaScript is still loading. If this message persists, it\n",
       "  likely means that the widgets JavaScript library is either not installed or\n",
       "  not enabled. See the <a href=\"https://ipywidgets.readthedocs.io/en/stable/user_install.html\">Jupyter\n",
       "  Widgets Documentation</a> for setup instructions.\n",
       "</p>\n",
       "<p>\n",
       "  If you're reading this message in another frontend (for example, a static\n",
       "  rendering on GitHub or <a href=\"https://nbviewer.jupyter.org/\">NBViewer</a>),\n",
       "  it may mean that your frontend doesn't currently support widgets.\n",
       "</p>\n"
      ],
      "text/plain": [
       "HBox(children=(IntProgress(value=0, description='Epoch 11', max=173), HTML(value='')))"
      ]
     },
     "metadata": {},
     "output_type": "display_data"
    },
    {
     "name": "stdout",
     "output_type": "stream",
     "text": [
      "\n",
      "Epoch 00012: saving model to ./tmp/weights__5.12--0.52.hdf5\n",
      "Function (get_prediction) Finished: 0.020572s\n",
      "Function (get_prediction) Finished: 0.02027s\n",
      "Function (get_prediction) Finished: 0.018432s\n",
      "Function (get_prediction) Finished: 0.017928s\n",
      "Function (get_prediction) Finished: 0.018124s\n",
      "Function (get_prediction) Finished: 0.019575s\n",
      "Function (get_prediction) Finished: 0.019102s\n",
      "Function (get_prediction) Finished: 0.020582s\n"
     ]
    },
    {
     "data": {
      "application/vnd.jupyter.widget-view+json": {
       "model_id": "5fa62719130048b6ad36d94589de6cc2",
       "version_major": 2,
       "version_minor": 0
      },
      "text/html": [
       "<p>Failed to display Jupyter Widget of type <code>HBox</code>.</p>\n",
       "<p>\n",
       "  If you're reading this message in the Jupyter Notebook or JupyterLab Notebook, it may mean\n",
       "  that the widgets JavaScript is still loading. If this message persists, it\n",
       "  likely means that the widgets JavaScript library is either not installed or\n",
       "  not enabled. See the <a href=\"https://ipywidgets.readthedocs.io/en/stable/user_install.html\">Jupyter\n",
       "  Widgets Documentation</a> for setup instructions.\n",
       "</p>\n",
       "<p>\n",
       "  If you're reading this message in another frontend (for example, a static\n",
       "  rendering on GitHub or <a href=\"https://nbviewer.jupyter.org/\">NBViewer</a>),\n",
       "  it may mean that your frontend doesn't currently support widgets.\n",
       "</p>\n"
      ],
      "text/plain": [
       "HBox(children=(IntProgress(value=0, description='Epoch 12', max=173), HTML(value='')))"
      ]
     },
     "metadata": {},
     "output_type": "display_data"
    },
    {
     "name": "stdout",
     "output_type": "stream",
     "text": [
      "\n",
      "Epoch 00013: saving model to ./tmp/weights__5.13--0.52.hdf5\n",
      "Function (get_prediction) Finished: 0.020083s\n",
      "Function (get_prediction) Finished: 0.019812s\n",
      "Function (get_prediction) Finished: 0.018695s\n",
      "Function (get_prediction) Finished: 0.018102s\n",
      "Function (get_prediction) Finished: 0.017061s\n",
      "Function (get_prediction) Finished: 0.018194s\n",
      "Function (get_prediction) Finished: 0.019966s\n",
      "Function (get_prediction) Finished: 0.020214s\n"
     ]
    },
    {
     "data": {
      "application/vnd.jupyter.widget-view+json": {
       "model_id": "7015474f4a624ccdb1babe8447a7c8bb",
       "version_major": 2,
       "version_minor": 0
      },
      "text/html": [
       "<p>Failed to display Jupyter Widget of type <code>HBox</code>.</p>\n",
       "<p>\n",
       "  If you're reading this message in the Jupyter Notebook or JupyterLab Notebook, it may mean\n",
       "  that the widgets JavaScript is still loading. If this message persists, it\n",
       "  likely means that the widgets JavaScript library is either not installed or\n",
       "  not enabled. See the <a href=\"https://ipywidgets.readthedocs.io/en/stable/user_install.html\">Jupyter\n",
       "  Widgets Documentation</a> for setup instructions.\n",
       "</p>\n",
       "<p>\n",
       "  If you're reading this message in another frontend (for example, a static\n",
       "  rendering on GitHub or <a href=\"https://nbviewer.jupyter.org/\">NBViewer</a>),\n",
       "  it may mean that your frontend doesn't currently support widgets.\n",
       "</p>\n"
      ],
      "text/plain": [
       "HBox(children=(IntProgress(value=0, description='Epoch 13', max=173), HTML(value='')))"
      ]
     },
     "metadata": {},
     "output_type": "display_data"
    },
    {
     "name": "stdout",
     "output_type": "stream",
     "text": [
      "\n",
      "Epoch 00014: saving model to ./tmp/weights__5.14--0.52.hdf5\n",
      "Function (get_prediction) Finished: 0.021039s\n",
      "Function (get_prediction) Finished: 0.020146s\n",
      "Function (get_prediction) Finished: 0.016465s\n",
      "Function (get_prediction) Finished: 0.016207s\n",
      "Function (get_prediction) Finished: 0.01689s\n",
      "Function (get_prediction) Finished: 0.018516s\n",
      "Function (get_prediction) Finished: 0.017184s\n",
      "Function (get_prediction) Finished: 0.021254s\n"
     ]
    },
    {
     "data": {
      "application/vnd.jupyter.widget-view+json": {
       "model_id": "285912296c084524b7cee5df1ec2983b",
       "version_major": 2,
       "version_minor": 0
      },
      "text/html": [
       "<p>Failed to display Jupyter Widget of type <code>HBox</code>.</p>\n",
       "<p>\n",
       "  If you're reading this message in the Jupyter Notebook or JupyterLab Notebook, it may mean\n",
       "  that the widgets JavaScript is still loading. If this message persists, it\n",
       "  likely means that the widgets JavaScript library is either not installed or\n",
       "  not enabled. See the <a href=\"https://ipywidgets.readthedocs.io/en/stable/user_install.html\">Jupyter\n",
       "  Widgets Documentation</a> for setup instructions.\n",
       "</p>\n",
       "<p>\n",
       "  If you're reading this message in another frontend (for example, a static\n",
       "  rendering on GitHub or <a href=\"https://nbviewer.jupyter.org/\">NBViewer</a>),\n",
       "  it may mean that your frontend doesn't currently support widgets.\n",
       "</p>\n"
      ],
      "text/plain": [
       "HBox(children=(IntProgress(value=0, description='Epoch 14', max=173), HTML(value='')))"
      ]
     },
     "metadata": {},
     "output_type": "display_data"
    },
    {
     "name": "stdout",
     "output_type": "stream",
     "text": [
      "\n",
      "Epoch 00015: saving model to ./tmp/weights__5.15--0.53.hdf5\n",
      "Function (get_prediction) Finished: 0.019082s\n",
      "Function (get_prediction) Finished: 0.017808s\n",
      "Function (get_prediction) Finished: 0.016962s\n",
      "Function (get_prediction) Finished: 0.015828s\n",
      "Function (get_prediction) Finished: 0.015921s\n",
      "Function (get_prediction) Finished: 0.019552s\n",
      "Function (get_prediction) Finished: 0.018896s\n",
      "Function (get_prediction) Finished: 0.018705s\n"
     ]
    },
    {
     "data": {
      "application/vnd.jupyter.widget-view+json": {
       "model_id": "274405ee31e04d34a6a541fd5401279e",
       "version_major": 2,
       "version_minor": 0
      },
      "text/html": [
       "<p>Failed to display Jupyter Widget of type <code>HBox</code>.</p>\n",
       "<p>\n",
       "  If you're reading this message in the Jupyter Notebook or JupyterLab Notebook, it may mean\n",
       "  that the widgets JavaScript is still loading. If this message persists, it\n",
       "  likely means that the widgets JavaScript library is either not installed or\n",
       "  not enabled. See the <a href=\"https://ipywidgets.readthedocs.io/en/stable/user_install.html\">Jupyter\n",
       "  Widgets Documentation</a> for setup instructions.\n",
       "</p>\n",
       "<p>\n",
       "  If you're reading this message in another frontend (for example, a static\n",
       "  rendering on GitHub or <a href=\"https://nbviewer.jupyter.org/\">NBViewer</a>),\n",
       "  it may mean that your frontend doesn't currently support widgets.\n",
       "</p>\n"
      ],
      "text/plain": [
       "HBox(children=(IntProgress(value=0, description='Epoch 15', max=173), HTML(value='')))"
      ]
     },
     "metadata": {},
     "output_type": "display_data"
    },
    {
     "name": "stdout",
     "output_type": "stream",
     "text": [
      "\n",
      "Epoch 00016: saving model to ./tmp/weights__5.16--0.54.hdf5\n",
      "Function (get_prediction) Finished: 0.019066s\n",
      "Function (get_prediction) Finished: 0.023341s\n",
      "Function (get_prediction) Finished: 0.016775s\n",
      "Function (get_prediction) Finished: 0.015735s\n",
      "Function (get_prediction) Finished: 0.017601s\n",
      "Function (get_prediction) Finished: 0.017732s\n",
      "Function (get_prediction) Finished: 0.017508s\n",
      "Function (get_prediction) Finished: 0.019778s\n"
     ]
    },
    {
     "data": {
      "application/vnd.jupyter.widget-view+json": {
       "model_id": "ff6af77e705044b8afb96a8465a505c0",
       "version_major": 2,
       "version_minor": 0
      },
      "text/html": [
       "<p>Failed to display Jupyter Widget of type <code>HBox</code>.</p>\n",
       "<p>\n",
       "  If you're reading this message in the Jupyter Notebook or JupyterLab Notebook, it may mean\n",
       "  that the widgets JavaScript is still loading. If this message persists, it\n",
       "  likely means that the widgets JavaScript library is either not installed or\n",
       "  not enabled. See the <a href=\"https://ipywidgets.readthedocs.io/en/stable/user_install.html\">Jupyter\n",
       "  Widgets Documentation</a> for setup instructions.\n",
       "</p>\n",
       "<p>\n",
       "  If you're reading this message in another frontend (for example, a static\n",
       "  rendering on GitHub or <a href=\"https://nbviewer.jupyter.org/\">NBViewer</a>),\n",
       "  it may mean that your frontend doesn't currently support widgets.\n",
       "</p>\n"
      ],
      "text/plain": [
       "HBox(children=(IntProgress(value=0, description='Epoch 16', max=173), HTML(value='')))"
      ]
     },
     "metadata": {},
     "output_type": "display_data"
    },
    {
     "name": "stdout",
     "output_type": "stream",
     "text": [
      "\n",
      "Epoch 00017: saving model to ./tmp/weights__5.17--0.55.hdf5\n",
      "Function (get_prediction) Finished: 0.019994s\n",
      "Function (get_prediction) Finished: 0.019975s\n",
      "Function (get_prediction) Finished: 0.01717s\n",
      "Function (get_prediction) Finished: 0.01863s\n",
      "Function (get_prediction) Finished: 0.018577s\n",
      "Function (get_prediction) Finished: 0.019401s\n",
      "Function (get_prediction) Finished: 0.018231s\n",
      "Function (get_prediction) Finished: 0.020496s\n"
     ]
    },
    {
     "data": {
      "application/vnd.jupyter.widget-view+json": {
       "model_id": "cd6b1075198742d2b2b5b70b48ab4fb3",
       "version_major": 2,
       "version_minor": 0
      },
      "text/html": [
       "<p>Failed to display Jupyter Widget of type <code>HBox</code>.</p>\n",
       "<p>\n",
       "  If you're reading this message in the Jupyter Notebook or JupyterLab Notebook, it may mean\n",
       "  that the widgets JavaScript is still loading. If this message persists, it\n",
       "  likely means that the widgets JavaScript library is either not installed or\n",
       "  not enabled. See the <a href=\"https://ipywidgets.readthedocs.io/en/stable/user_install.html\">Jupyter\n",
       "  Widgets Documentation</a> for setup instructions.\n",
       "</p>\n",
       "<p>\n",
       "  If you're reading this message in another frontend (for example, a static\n",
       "  rendering on GitHub or <a href=\"https://nbviewer.jupyter.org/\">NBViewer</a>),\n",
       "  it may mean that your frontend doesn't currently support widgets.\n",
       "</p>\n"
      ],
      "text/plain": [
       "HBox(children=(IntProgress(value=0, description='Epoch 17', max=173), HTML(value='')))"
      ]
     },
     "metadata": {},
     "output_type": "display_data"
    },
    {
     "name": "stdout",
     "output_type": "stream",
     "text": [
      "\n",
      "Epoch 00018: saving model to ./tmp/weights__5.18--0.53.hdf5\n",
      "Function (get_prediction) Finished: 0.020941s\n",
      "Function (get_prediction) Finished: 0.020765s\n",
      "Function (get_prediction) Finished: 0.020124s\n",
      "Function (get_prediction) Finished: 0.020441s\n",
      "Function (get_prediction) Finished: 0.018405s\n",
      "Function (get_prediction) Finished: 0.020631s\n",
      "Function (get_prediction) Finished: 0.018807s\n",
      "Function (get_prediction) Finished: 0.019898s\n"
     ]
    },
    {
     "data": {
      "application/vnd.jupyter.widget-view+json": {
       "model_id": "e9ea0689dde44be6972748894734566b",
       "version_major": 2,
       "version_minor": 0
      },
      "text/html": [
       "<p>Failed to display Jupyter Widget of type <code>HBox</code>.</p>\n",
       "<p>\n",
       "  If you're reading this message in the Jupyter Notebook or JupyterLab Notebook, it may mean\n",
       "  that the widgets JavaScript is still loading. If this message persists, it\n",
       "  likely means that the widgets JavaScript library is either not installed or\n",
       "  not enabled. See the <a href=\"https://ipywidgets.readthedocs.io/en/stable/user_install.html\">Jupyter\n",
       "  Widgets Documentation</a> for setup instructions.\n",
       "</p>\n",
       "<p>\n",
       "  If you're reading this message in another frontend (for example, a static\n",
       "  rendering on GitHub or <a href=\"https://nbviewer.jupyter.org/\">NBViewer</a>),\n",
       "  it may mean that your frontend doesn't currently support widgets.\n",
       "</p>\n"
      ],
      "text/plain": [
       "HBox(children=(IntProgress(value=0, description='Epoch 18', max=173), HTML(value='')))"
      ]
     },
     "metadata": {},
     "output_type": "display_data"
    },
    {
     "name": "stdout",
     "output_type": "stream",
     "text": [
      "\n",
      "Epoch 00019: saving model to ./tmp/weights__5.19--0.56.hdf5\n",
      "Function (get_prediction) Finished: 0.020003s\n",
      "Function (get_prediction) Finished: 0.019871s\n",
      "Function (get_prediction) Finished: 0.020027s\n",
      "Function (get_prediction) Finished: 0.02134s\n",
      "Function (get_prediction) Finished: 0.021629s\n",
      "Function (get_prediction) Finished: 0.022184s\n",
      "Function (get_prediction) Finished: 0.019273s\n",
      "Function (get_prediction) Finished: 0.022894s\n"
     ]
    },
    {
     "data": {
      "application/vnd.jupyter.widget-view+json": {
       "model_id": "063dcf07ee08427d8d09530becea130d",
       "version_major": 2,
       "version_minor": 0
      },
      "text/html": [
       "<p>Failed to display Jupyter Widget of type <code>HBox</code>.</p>\n",
       "<p>\n",
       "  If you're reading this message in the Jupyter Notebook or JupyterLab Notebook, it may mean\n",
       "  that the widgets JavaScript is still loading. If this message persists, it\n",
       "  likely means that the widgets JavaScript library is either not installed or\n",
       "  not enabled. See the <a href=\"https://ipywidgets.readthedocs.io/en/stable/user_install.html\">Jupyter\n",
       "  Widgets Documentation</a> for setup instructions.\n",
       "</p>\n",
       "<p>\n",
       "  If you're reading this message in another frontend (for example, a static\n",
       "  rendering on GitHub or <a href=\"https://nbviewer.jupyter.org/\">NBViewer</a>),\n",
       "  it may mean that your frontend doesn't currently support widgets.\n",
       "</p>\n"
      ],
      "text/plain": [
       "HBox(children=(IntProgress(value=0, description='Epoch 19', max=173), HTML(value='')))"
      ]
     },
     "metadata": {},
     "output_type": "display_data"
    },
    {
     "name": "stdout",
     "output_type": "stream",
     "text": [
      "\n",
      "Epoch 00020: saving model to ./tmp/weights__5.20--0.67.hdf5\n",
      "Function (get_prediction) Finished: 0.020853s\n",
      "Function (get_prediction) Finished: 0.020183s\n",
      "Function (get_prediction) Finished: 0.020163s\n",
      "Function (get_prediction) Finished: 0.017919s\n",
      "Function (get_prediction) Finished: 0.017919s\n",
      "Function (get_prediction) Finished: 0.019823s\n",
      "Function (get_prediction) Finished: 0.019688s\n",
      "Function (get_prediction) Finished: 0.023288s\n"
     ]
    },
    {
     "data": {
      "application/vnd.jupyter.widget-view+json": {
       "model_id": "2624e43191134a4697d8b7126023252a",
       "version_major": 2,
       "version_minor": 0
      },
      "text/html": [
       "<p>Failed to display Jupyter Widget of type <code>HBox</code>.</p>\n",
       "<p>\n",
       "  If you're reading this message in the Jupyter Notebook or JupyterLab Notebook, it may mean\n",
       "  that the widgets JavaScript is still loading. If this message persists, it\n",
       "  likely means that the widgets JavaScript library is either not installed or\n",
       "  not enabled. See the <a href=\"https://ipywidgets.readthedocs.io/en/stable/user_install.html\">Jupyter\n",
       "  Widgets Documentation</a> for setup instructions.\n",
       "</p>\n",
       "<p>\n",
       "  If you're reading this message in another frontend (for example, a static\n",
       "  rendering on GitHub or <a href=\"https://nbviewer.jupyter.org/\">NBViewer</a>),\n",
       "  it may mean that your frontend doesn't currently support widgets.\n",
       "</p>\n"
      ],
      "text/plain": [
       "HBox(children=(IntProgress(value=0, description='Epoch 20', max=173), HTML(value='')))"
      ]
     },
     "metadata": {},
     "output_type": "display_data"
    },
    {
     "name": "stdout",
     "output_type": "stream",
     "text": [
      "\n",
      "Epoch 00021: saving model to ./tmp/weights__5.21--0.59.hdf5\n",
      "Function (get_prediction) Finished: 0.021001s\n",
      "Function (get_prediction) Finished: 0.023679s\n",
      "Function (get_prediction) Finished: 0.018944s\n",
      "Function (get_prediction) Finished: 0.018538s\n",
      "Function (get_prediction) Finished: 0.017276s\n",
      "Function (get_prediction) Finished: 0.0201s\n",
      "Function (get_prediction) Finished: 0.018977s\n",
      "Function (get_prediction) Finished: 0.020661s\n"
     ]
    },
    {
     "data": {
      "application/vnd.jupyter.widget-view+json": {
       "model_id": "a85ec26fc0d04ec195485ce47a874f19",
       "version_major": 2,
       "version_minor": 0
      },
      "text/html": [
       "<p>Failed to display Jupyter Widget of type <code>HBox</code>.</p>\n",
       "<p>\n",
       "  If you're reading this message in the Jupyter Notebook or JupyterLab Notebook, it may mean\n",
       "  that the widgets JavaScript is still loading. If this message persists, it\n",
       "  likely means that the widgets JavaScript library is either not installed or\n",
       "  not enabled. See the <a href=\"https://ipywidgets.readthedocs.io/en/stable/user_install.html\">Jupyter\n",
       "  Widgets Documentation</a> for setup instructions.\n",
       "</p>\n",
       "<p>\n",
       "  If you're reading this message in another frontend (for example, a static\n",
       "  rendering on GitHub or <a href=\"https://nbviewer.jupyter.org/\">NBViewer</a>),\n",
       "  it may mean that your frontend doesn't currently support widgets.\n",
       "</p>\n"
      ],
      "text/plain": [
       "HBox(children=(IntProgress(value=0, description='Epoch 21', max=173), HTML(value='')))"
      ]
     },
     "metadata": {},
     "output_type": "display_data"
    },
    {
     "name": "stdout",
     "output_type": "stream",
     "text": [
      "\n",
      "Epoch 00022: saving model to ./tmp/weights__5.22--0.62.hdf5\n",
      "Function (get_prediction) Finished: 0.0202s\n",
      "Function (get_prediction) Finished: 0.019003s\n",
      "Function (get_prediction) Finished: 0.018876s\n",
      "Function (get_prediction) Finished: 0.017529s\n",
      "Function (get_prediction) Finished: 0.019223s\n",
      "Function (get_prediction) Finished: 0.020521s\n",
      "Function (get_prediction) Finished: 0.018836s\n",
      "Function (get_prediction) Finished: 0.020519s\n"
     ]
    },
    {
     "data": {
      "application/vnd.jupyter.widget-view+json": {
       "model_id": "0183a0fdf8f8441e9ab8924caea9217a",
       "version_major": 2,
       "version_minor": 0
      },
      "text/html": [
       "<p>Failed to display Jupyter Widget of type <code>HBox</code>.</p>\n",
       "<p>\n",
       "  If you're reading this message in the Jupyter Notebook or JupyterLab Notebook, it may mean\n",
       "  that the widgets JavaScript is still loading. If this message persists, it\n",
       "  likely means that the widgets JavaScript library is either not installed or\n",
       "  not enabled. See the <a href=\"https://ipywidgets.readthedocs.io/en/stable/user_install.html\">Jupyter\n",
       "  Widgets Documentation</a> for setup instructions.\n",
       "</p>\n",
       "<p>\n",
       "  If you're reading this message in another frontend (for example, a static\n",
       "  rendering on GitHub or <a href=\"https://nbviewer.jupyter.org/\">NBViewer</a>),\n",
       "  it may mean that your frontend doesn't currently support widgets.\n",
       "</p>\n"
      ],
      "text/plain": [
       "HBox(children=(IntProgress(value=0, description='Epoch 22', max=173), HTML(value='')))"
      ]
     },
     "metadata": {},
     "output_type": "display_data"
    },
    {
     "name": "stdout",
     "output_type": "stream",
     "text": [
      "\n",
      "Epoch 00023: saving model to ./tmp/weights__5.23--0.63.hdf5\n",
      "Function (get_prediction) Finished: 0.01883s\n",
      "Function (get_prediction) Finished: 0.019018s\n",
      "Function (get_prediction) Finished: 0.0192s\n",
      "Function (get_prediction) Finished: 0.020442s\n",
      "Function (get_prediction) Finished: 0.020044s\n",
      "Function (get_prediction) Finished: 0.022403s\n",
      "Function (get_prediction) Finished: 0.022252s\n",
      "Function (get_prediction) Finished: 0.025241s\n"
     ]
    },
    {
     "data": {
      "application/vnd.jupyter.widget-view+json": {
       "model_id": "81271fab8211481bb62c8657695d12ec",
       "version_major": 2,
       "version_minor": 0
      },
      "text/html": [
       "<p>Failed to display Jupyter Widget of type <code>HBox</code>.</p>\n",
       "<p>\n",
       "  If you're reading this message in the Jupyter Notebook or JupyterLab Notebook, it may mean\n",
       "  that the widgets JavaScript is still loading. If this message persists, it\n",
       "  likely means that the widgets JavaScript library is either not installed or\n",
       "  not enabled. See the <a href=\"https://ipywidgets.readthedocs.io/en/stable/user_install.html\">Jupyter\n",
       "  Widgets Documentation</a> for setup instructions.\n",
       "</p>\n",
       "<p>\n",
       "  If you're reading this message in another frontend (for example, a static\n",
       "  rendering on GitHub or <a href=\"https://nbviewer.jupyter.org/\">NBViewer</a>),\n",
       "  it may mean that your frontend doesn't currently support widgets.\n",
       "</p>\n"
      ],
      "text/plain": [
       "HBox(children=(IntProgress(value=0, description='Epoch 23', max=173), HTML(value='')))"
      ]
     },
     "metadata": {},
     "output_type": "display_data"
    },
    {
     "name": "stdout",
     "output_type": "stream",
     "text": [
      "\n",
      "Epoch 00024: saving model to ./tmp/weights__5.24--0.62.hdf5\n",
      "Function (get_prediction) Finished: 0.020025s\n",
      "Function (get_prediction) Finished: 0.021487s\n",
      "Function (get_prediction) Finished: 0.01877s\n",
      "Function (get_prediction) Finished: 0.018821s\n",
      "Function (get_prediction) Finished: 0.018416s\n",
      "Function (get_prediction) Finished: 0.020499s\n",
      "Function (get_prediction) Finished: 0.017478s\n",
      "Function (get_prediction) Finished: 0.024036s\n"
     ]
    },
    {
     "data": {
      "application/vnd.jupyter.widget-view+json": {
       "model_id": "3a0a7ce4b6f34b709b9276ed91d53de9",
       "version_major": 2,
       "version_minor": 0
      },
      "text/html": [
       "<p>Failed to display Jupyter Widget of type <code>HBox</code>.</p>\n",
       "<p>\n",
       "  If you're reading this message in the Jupyter Notebook or JupyterLab Notebook, it may mean\n",
       "  that the widgets JavaScript is still loading. If this message persists, it\n",
       "  likely means that the widgets JavaScript library is either not installed or\n",
       "  not enabled. See the <a href=\"https://ipywidgets.readthedocs.io/en/stable/user_install.html\">Jupyter\n",
       "  Widgets Documentation</a> for setup instructions.\n",
       "</p>\n",
       "<p>\n",
       "  If you're reading this message in another frontend (for example, a static\n",
       "  rendering on GitHub or <a href=\"https://nbviewer.jupyter.org/\">NBViewer</a>),\n",
       "  it may mean that your frontend doesn't currently support widgets.\n",
       "</p>\n"
      ],
      "text/plain": [
       "HBox(children=(IntProgress(value=0, description='Epoch 24', max=173), HTML(value='')))"
      ]
     },
     "metadata": {},
     "output_type": "display_data"
    },
    {
     "name": "stdout",
     "output_type": "stream",
     "text": [
      "\n",
      "Epoch 00025: saving model to ./tmp/weights__5.25--0.51.hdf5\n",
      "Function (get_prediction) Finished: 0.019121s\n",
      "Function (get_prediction) Finished: 0.019333s\n",
      "Function (get_prediction) Finished: 0.019377s\n",
      "Function (get_prediction) Finished: 0.018555s\n",
      "Function (get_prediction) Finished: 0.017578s\n",
      "Function (get_prediction) Finished: 0.020173s\n",
      "Function (get_prediction) Finished: 0.016192s\n",
      "Function (get_prediction) Finished: 0.018609s\n"
     ]
    },
    {
     "data": {
      "application/vnd.jupyter.widget-view+json": {
       "model_id": "30d6aa1579fc441c9d4643ac5dd70edb",
       "version_major": 2,
       "version_minor": 0
      },
      "text/html": [
       "<p>Failed to display Jupyter Widget of type <code>HBox</code>.</p>\n",
       "<p>\n",
       "  If you're reading this message in the Jupyter Notebook or JupyterLab Notebook, it may mean\n",
       "  that the widgets JavaScript is still loading. If this message persists, it\n",
       "  likely means that the widgets JavaScript library is either not installed or\n",
       "  not enabled. See the <a href=\"https://ipywidgets.readthedocs.io/en/stable/user_install.html\">Jupyter\n",
       "  Widgets Documentation</a> for setup instructions.\n",
       "</p>\n",
       "<p>\n",
       "  If you're reading this message in another frontend (for example, a static\n",
       "  rendering on GitHub or <a href=\"https://nbviewer.jupyter.org/\">NBViewer</a>),\n",
       "  it may mean that your frontend doesn't currently support widgets.\n",
       "</p>\n"
      ],
      "text/plain": [
       "HBox(children=(IntProgress(value=0, description='Epoch 25', max=173), HTML(value='')))"
      ]
     },
     "metadata": {},
     "output_type": "display_data"
    },
    {
     "name": "stdout",
     "output_type": "stream",
     "text": [
      "\n",
      "Epoch 00026: saving model to ./tmp/weights__5.26--0.72.hdf5\n",
      "Function (get_prediction) Finished: 0.020628s\n",
      "Function (get_prediction) Finished: 0.020891s\n",
      "Function (get_prediction) Finished: 0.021253s\n",
      "Function (get_prediction) Finished: 0.018318s\n",
      "Function (get_prediction) Finished: 0.017625s\n",
      "Function (get_prediction) Finished: 0.019803s\n",
      "Function (get_prediction) Finished: 0.017442s\n",
      "Function (get_prediction) Finished: 0.020256s\n"
     ]
    },
    {
     "data": {
      "application/vnd.jupyter.widget-view+json": {
       "model_id": "ce75abc6700b456a908645942e6776e5",
       "version_major": 2,
       "version_minor": 0
      },
      "text/html": [
       "<p>Failed to display Jupyter Widget of type <code>HBox</code>.</p>\n",
       "<p>\n",
       "  If you're reading this message in the Jupyter Notebook or JupyterLab Notebook, it may mean\n",
       "  that the widgets JavaScript is still loading. If this message persists, it\n",
       "  likely means that the widgets JavaScript library is either not installed or\n",
       "  not enabled. See the <a href=\"https://ipywidgets.readthedocs.io/en/stable/user_install.html\">Jupyter\n",
       "  Widgets Documentation</a> for setup instructions.\n",
       "</p>\n",
       "<p>\n",
       "  If you're reading this message in another frontend (for example, a static\n",
       "  rendering on GitHub or <a href=\"https://nbviewer.jupyter.org/\">NBViewer</a>),\n",
       "  it may mean that your frontend doesn't currently support widgets.\n",
       "</p>\n"
      ],
      "text/plain": [
       "HBox(children=(IntProgress(value=0, description='Epoch 26', max=173), HTML(value='')))"
      ]
     },
     "metadata": {},
     "output_type": "display_data"
    },
    {
     "name": "stdout",
     "output_type": "stream",
     "text": [
      "\n",
      "Epoch 00027: saving model to ./tmp/weights__5.27--0.74.hdf5\n",
      "Function (get_prediction) Finished: 0.021675s\n",
      "Function (get_prediction) Finished: 0.034152s\n",
      "Function (get_prediction) Finished: 0.019047s\n",
      "Function (get_prediction) Finished: 0.016204s\n",
      "Function (get_prediction) Finished: 0.015518s\n",
      "Function (get_prediction) Finished: 0.019761s\n",
      "Function (get_prediction) Finished: 0.016945s\n",
      "Function (get_prediction) Finished: 0.019252s\n"
     ]
    },
    {
     "data": {
      "application/vnd.jupyter.widget-view+json": {
       "model_id": "f312932f4ab641e28217a59422115f2f",
       "version_major": 2,
       "version_minor": 0
      },
      "text/html": [
       "<p>Failed to display Jupyter Widget of type <code>HBox</code>.</p>\n",
       "<p>\n",
       "  If you're reading this message in the Jupyter Notebook or JupyterLab Notebook, it may mean\n",
       "  that the widgets JavaScript is still loading. If this message persists, it\n",
       "  likely means that the widgets JavaScript library is either not installed or\n",
       "  not enabled. See the <a href=\"https://ipywidgets.readthedocs.io/en/stable/user_install.html\">Jupyter\n",
       "  Widgets Documentation</a> for setup instructions.\n",
       "</p>\n",
       "<p>\n",
       "  If you're reading this message in another frontend (for example, a static\n",
       "  rendering on GitHub or <a href=\"https://nbviewer.jupyter.org/\">NBViewer</a>),\n",
       "  it may mean that your frontend doesn't currently support widgets.\n",
       "</p>\n"
      ],
      "text/plain": [
       "HBox(children=(IntProgress(value=0, description='Epoch 27', max=173), HTML(value='')))"
      ]
     },
     "metadata": {},
     "output_type": "display_data"
    },
    {
     "name": "stdout",
     "output_type": "stream",
     "text": [
      "\n",
      "Epoch 00028: saving model to ./tmp/weights__5.28--0.76.hdf5\n",
      "Function (get_prediction) Finished: 0.023238s\n",
      "Function (get_prediction) Finished: 0.021774s\n",
      "Function (get_prediction) Finished: 0.019575s\n",
      "Function (get_prediction) Finished: 0.01819s\n",
      "Function (get_prediction) Finished: 0.018228s\n",
      "Function (get_prediction) Finished: 0.01973s\n",
      "Function (get_prediction) Finished: 0.018578s\n",
      "Function (get_prediction) Finished: 0.021028s\n"
     ]
    },
    {
     "data": {
      "application/vnd.jupyter.widget-view+json": {
       "model_id": "c176eb2073884efea6fc2fb2390346dd",
       "version_major": 2,
       "version_minor": 0
      },
      "text/html": [
       "<p>Failed to display Jupyter Widget of type <code>HBox</code>.</p>\n",
       "<p>\n",
       "  If you're reading this message in the Jupyter Notebook or JupyterLab Notebook, it may mean\n",
       "  that the widgets JavaScript is still loading. If this message persists, it\n",
       "  likely means that the widgets JavaScript library is either not installed or\n",
       "  not enabled. See the <a href=\"https://ipywidgets.readthedocs.io/en/stable/user_install.html\">Jupyter\n",
       "  Widgets Documentation</a> for setup instructions.\n",
       "</p>\n",
       "<p>\n",
       "  If you're reading this message in another frontend (for example, a static\n",
       "  rendering on GitHub or <a href=\"https://nbviewer.jupyter.org/\">NBViewer</a>),\n",
       "  it may mean that your frontend doesn't currently support widgets.\n",
       "</p>\n"
      ],
      "text/plain": [
       "HBox(children=(IntProgress(value=0, description='Epoch 28', max=173), HTML(value='')))"
      ]
     },
     "metadata": {},
     "output_type": "display_data"
    },
    {
     "name": "stdout",
     "output_type": "stream",
     "text": [
      "\n",
      "Epoch 00029: saving model to ./tmp/weights__5.29--0.75.hdf5\n",
      "Function (get_prediction) Finished: 0.022495s\n",
      "Function (get_prediction) Finished: 0.020565s\n",
      "Function (get_prediction) Finished: 0.018502s\n",
      "Function (get_prediction) Finished: 0.017654s\n",
      "Function (get_prediction) Finished: 0.017974s\n",
      "Function (get_prediction) Finished: 0.020007s\n",
      "Function (get_prediction) Finished: 0.01974s\n",
      "Function (get_prediction) Finished: 0.022275s\n"
     ]
    },
    {
     "data": {
      "application/vnd.jupyter.widget-view+json": {
       "model_id": "a618bd4377ba4424a919568c49216917",
       "version_major": 2,
       "version_minor": 0
      },
      "text/html": [
       "<p>Failed to display Jupyter Widget of type <code>HBox</code>.</p>\n",
       "<p>\n",
       "  If you're reading this message in the Jupyter Notebook or JupyterLab Notebook, it may mean\n",
       "  that the widgets JavaScript is still loading. If this message persists, it\n",
       "  likely means that the widgets JavaScript library is either not installed or\n",
       "  not enabled. See the <a href=\"https://ipywidgets.readthedocs.io/en/stable/user_install.html\">Jupyter\n",
       "  Widgets Documentation</a> for setup instructions.\n",
       "</p>\n",
       "<p>\n",
       "  If you're reading this message in another frontend (for example, a static\n",
       "  rendering on GitHub or <a href=\"https://nbviewer.jupyter.org/\">NBViewer</a>),\n",
       "  it may mean that your frontend doesn't currently support widgets.\n",
       "</p>\n"
      ],
      "text/plain": [
       "HBox(children=(IntProgress(value=0, description='Epoch 29', max=173), HTML(value='')))"
      ]
     },
     "metadata": {},
     "output_type": "display_data"
    },
    {
     "name": "stdout",
     "output_type": "stream",
     "text": [
      "\n",
      "Epoch 00030: saving model to ./tmp/weights__5.30--0.81.hdf5\n",
      "Function (get_prediction) Finished: 0.020143s\n",
      "Function (get_prediction) Finished: 0.021136s\n",
      "Function (get_prediction) Finished: 0.020126s\n",
      "Function (get_prediction) Finished: 0.018566s\n",
      "Function (get_prediction) Finished: 0.018221s\n",
      "Function (get_prediction) Finished: 0.02162s\n",
      "Function (get_prediction) Finished: 0.018724s\n",
      "Function (get_prediction) Finished: 0.020282s\n"
     ]
    },
    {
     "data": {
      "application/vnd.jupyter.widget-view+json": {
       "model_id": "c87692b4241144ec9fa2357b20f2a4fb",
       "version_major": 2,
       "version_minor": 0
      },
      "text/html": [
       "<p>Failed to display Jupyter Widget of type <code>HBox</code>.</p>\n",
       "<p>\n",
       "  If you're reading this message in the Jupyter Notebook or JupyterLab Notebook, it may mean\n",
       "  that the widgets JavaScript is still loading. If this message persists, it\n",
       "  likely means that the widgets JavaScript library is either not installed or\n",
       "  not enabled. See the <a href=\"https://ipywidgets.readthedocs.io/en/stable/user_install.html\">Jupyter\n",
       "  Widgets Documentation</a> for setup instructions.\n",
       "</p>\n",
       "<p>\n",
       "  If you're reading this message in another frontend (for example, a static\n",
       "  rendering on GitHub or <a href=\"https://nbviewer.jupyter.org/\">NBViewer</a>),\n",
       "  it may mean that your frontend doesn't currently support widgets.\n",
       "</p>\n"
      ],
      "text/plain": [
       "HBox(children=(IntProgress(value=0, description='Epoch 30', max=173), HTML(value='')))"
      ]
     },
     "metadata": {},
     "output_type": "display_data"
    },
    {
     "name": "stdout",
     "output_type": "stream",
     "text": [
      "\n",
      "Epoch 00031: saving model to ./tmp/weights__5.31--0.57.hdf5\n",
      "Function (get_prediction) Finished: 0.03362s\n",
      "Function (get_prediction) Finished: 0.020605s\n",
      "Function (get_prediction) Finished: 0.01944s\n",
      "Function (get_prediction) Finished: 0.018408s\n",
      "Function (get_prediction) Finished: 0.017756s\n",
      "Function (get_prediction) Finished: 0.020861s\n",
      "Function (get_prediction) Finished: 0.018784s\n",
      "Function (get_prediction) Finished: 0.020728s\n"
     ]
    },
    {
     "data": {
      "application/vnd.jupyter.widget-view+json": {
       "model_id": "8b24020a80d2457284e164ab8780dc96",
       "version_major": 2,
       "version_minor": 0
      },
      "text/html": [
       "<p>Failed to display Jupyter Widget of type <code>HBox</code>.</p>\n",
       "<p>\n",
       "  If you're reading this message in the Jupyter Notebook or JupyterLab Notebook, it may mean\n",
       "  that the widgets JavaScript is still loading. If this message persists, it\n",
       "  likely means that the widgets JavaScript library is either not installed or\n",
       "  not enabled. See the <a href=\"https://ipywidgets.readthedocs.io/en/stable/user_install.html\">Jupyter\n",
       "  Widgets Documentation</a> for setup instructions.\n",
       "</p>\n",
       "<p>\n",
       "  If you're reading this message in another frontend (for example, a static\n",
       "  rendering on GitHub or <a href=\"https://nbviewer.jupyter.org/\">NBViewer</a>),\n",
       "  it may mean that your frontend doesn't currently support widgets.\n",
       "</p>\n"
      ],
      "text/plain": [
       "HBox(children=(IntProgress(value=0, description='Epoch 31', max=173), HTML(value='')))"
      ]
     },
     "metadata": {},
     "output_type": "display_data"
    },
    {
     "name": "stdout",
     "output_type": "stream",
     "text": [
      "\n",
      "Epoch 00032: saving model to ./tmp/weights__5.32--0.60.hdf5\n",
      "Function (get_prediction) Finished: 0.020447s\n",
      "Function (get_prediction) Finished: 0.019537s\n",
      "Function (get_prediction) Finished: 0.019639s\n",
      "Function (get_prediction) Finished: 0.018583s\n",
      "Function (get_prediction) Finished: 0.018163s\n",
      "Function (get_prediction) Finished: 0.020839s\n",
      "Function (get_prediction) Finished: 0.01787s\n",
      "Function (get_prediction) Finished: 0.024226s\n"
     ]
    },
    {
     "data": {
      "application/vnd.jupyter.widget-view+json": {
       "model_id": "0175951854994ac8a699c38d6473f5ba",
       "version_major": 2,
       "version_minor": 0
      },
      "text/html": [
       "<p>Failed to display Jupyter Widget of type <code>HBox</code>.</p>\n",
       "<p>\n",
       "  If you're reading this message in the Jupyter Notebook or JupyterLab Notebook, it may mean\n",
       "  that the widgets JavaScript is still loading. If this message persists, it\n",
       "  likely means that the widgets JavaScript library is either not installed or\n",
       "  not enabled. See the <a href=\"https://ipywidgets.readthedocs.io/en/stable/user_install.html\">Jupyter\n",
       "  Widgets Documentation</a> for setup instructions.\n",
       "</p>\n",
       "<p>\n",
       "  If you're reading this message in another frontend (for example, a static\n",
       "  rendering on GitHub or <a href=\"https://nbviewer.jupyter.org/\">NBViewer</a>),\n",
       "  it may mean that your frontend doesn't currently support widgets.\n",
       "</p>\n"
      ],
      "text/plain": [
       "HBox(children=(IntProgress(value=0, description='Epoch 32', max=173), HTML(value='')))"
      ]
     },
     "metadata": {},
     "output_type": "display_data"
    },
    {
     "name": "stdout",
     "output_type": "stream",
     "text": [
      "\n",
      "Epoch 00033: saving model to ./tmp/weights__5.33--0.80.hdf5\n",
      "Function (get_prediction) Finished: 0.019558s\n",
      "Function (get_prediction) Finished: 0.020587s\n",
      "Function (get_prediction) Finished: 0.022379s\n",
      "Function (get_prediction) Finished: 0.018225s\n",
      "Function (get_prediction) Finished: 0.01847s\n",
      "Function (get_prediction) Finished: 0.019437s\n",
      "Function (get_prediction) Finished: 0.018546s\n",
      "Function (get_prediction) Finished: 0.020165s\n"
     ]
    },
    {
     "data": {
      "application/vnd.jupyter.widget-view+json": {
       "model_id": "69ede6809aaf400390a2a8cc7d71a5a0",
       "version_major": 2,
       "version_minor": 0
      },
      "text/html": [
       "<p>Failed to display Jupyter Widget of type <code>HBox</code>.</p>\n",
       "<p>\n",
       "  If you're reading this message in the Jupyter Notebook or JupyterLab Notebook, it may mean\n",
       "  that the widgets JavaScript is still loading. If this message persists, it\n",
       "  likely means that the widgets JavaScript library is either not installed or\n",
       "  not enabled. See the <a href=\"https://ipywidgets.readthedocs.io/en/stable/user_install.html\">Jupyter\n",
       "  Widgets Documentation</a> for setup instructions.\n",
       "</p>\n",
       "<p>\n",
       "  If you're reading this message in another frontend (for example, a static\n",
       "  rendering on GitHub or <a href=\"https://nbviewer.jupyter.org/\">NBViewer</a>),\n",
       "  it may mean that your frontend doesn't currently support widgets.\n",
       "</p>\n"
      ],
      "text/plain": [
       "HBox(children=(IntProgress(value=0, description='Epoch 33', max=173), HTML(value='')))"
      ]
     },
     "metadata": {},
     "output_type": "display_data"
    },
    {
     "name": "stdout",
     "output_type": "stream",
     "text": [
      "\n",
      "Epoch 00034: saving model to ./tmp/weights__5.34--0.77.hdf5\n",
      "Function (get_prediction) Finished: 0.020292s\n",
      "Function (get_prediction) Finished: 0.02133s\n",
      "Function (get_prediction) Finished: 0.017825s\n",
      "Function (get_prediction) Finished: 0.016187s\n",
      "Function (get_prediction) Finished: 0.016487s\n",
      "Function (get_prediction) Finished: 0.018721s\n",
      "Function (get_prediction) Finished: 0.01956s\n",
      "Function (get_prediction) Finished: 0.019542s\n"
     ]
    },
    {
     "data": {
      "application/vnd.jupyter.widget-view+json": {
       "model_id": "a7ce5ed20b7f47aa8d158163b4d5aac9",
       "version_major": 2,
       "version_minor": 0
      },
      "text/html": [
       "<p>Failed to display Jupyter Widget of type <code>HBox</code>.</p>\n",
       "<p>\n",
       "  If you're reading this message in the Jupyter Notebook or JupyterLab Notebook, it may mean\n",
       "  that the widgets JavaScript is still loading. If this message persists, it\n",
       "  likely means that the widgets JavaScript library is either not installed or\n",
       "  not enabled. See the <a href=\"https://ipywidgets.readthedocs.io/en/stable/user_install.html\">Jupyter\n",
       "  Widgets Documentation</a> for setup instructions.\n",
       "</p>\n",
       "<p>\n",
       "  If you're reading this message in another frontend (for example, a static\n",
       "  rendering on GitHub or <a href=\"https://nbviewer.jupyter.org/\">NBViewer</a>),\n",
       "  it may mean that your frontend doesn't currently support widgets.\n",
       "</p>\n"
      ],
      "text/plain": [
       "HBox(children=(IntProgress(value=0, description='Epoch 34', max=173), HTML(value='')))"
      ]
     },
     "metadata": {},
     "output_type": "display_data"
    },
    {
     "name": "stdout",
     "output_type": "stream",
     "text": [
      "\n",
      "Epoch 00035: saving model to ./tmp/weights__5.35--0.82.hdf5\n",
      "Function (get_prediction) Finished: 0.019782s\n",
      "Function (get_prediction) Finished: 0.02039s\n",
      "Function (get_prediction) Finished: 0.016505s\n",
      "Function (get_prediction) Finished: 0.015998s\n",
      "Function (get_prediction) Finished: 0.016225s\n",
      "Function (get_prediction) Finished: 0.019293s\n",
      "Function (get_prediction) Finished: 0.016458s\n",
      "Function (get_prediction) Finished: 0.021258s\n"
     ]
    },
    {
     "data": {
      "application/vnd.jupyter.widget-view+json": {
       "model_id": "012c280a7d8c4e32ac9ad1719496f317",
       "version_major": 2,
       "version_minor": 0
      },
      "text/html": [
       "<p>Failed to display Jupyter Widget of type <code>HBox</code>.</p>\n",
       "<p>\n",
       "  If you're reading this message in the Jupyter Notebook or JupyterLab Notebook, it may mean\n",
       "  that the widgets JavaScript is still loading. If this message persists, it\n",
       "  likely means that the widgets JavaScript library is either not installed or\n",
       "  not enabled. See the <a href=\"https://ipywidgets.readthedocs.io/en/stable/user_install.html\">Jupyter\n",
       "  Widgets Documentation</a> for setup instructions.\n",
       "</p>\n",
       "<p>\n",
       "  If you're reading this message in another frontend (for example, a static\n",
       "  rendering on GitHub or <a href=\"https://nbviewer.jupyter.org/\">NBViewer</a>),\n",
       "  it may mean that your frontend doesn't currently support widgets.\n",
       "</p>\n"
      ],
      "text/plain": [
       "HBox(children=(IntProgress(value=0, description='Epoch 35', max=173), HTML(value='')))"
      ]
     },
     "metadata": {},
     "output_type": "display_data"
    },
    {
     "name": "stdout",
     "output_type": "stream",
     "text": [
      "\n",
      "Epoch 00036: saving model to ./tmp/weights__5.36--0.82.hdf5\n",
      "Function (get_prediction) Finished: 0.019865s\n",
      "Function (get_prediction) Finished: 0.019714s\n",
      "Function (get_prediction) Finished: 0.018694s\n",
      "Function (get_prediction) Finished: 0.019464s\n",
      "Function (get_prediction) Finished: 0.02795s\n",
      "Function (get_prediction) Finished: 0.020926s\n",
      "Function (get_prediction) Finished: 0.018352s\n",
      "Function (get_prediction) Finished: 0.023826s\n"
     ]
    },
    {
     "data": {
      "application/vnd.jupyter.widget-view+json": {
       "model_id": "7f04f6746b444fbb9b898a2664a1acd3",
       "version_major": 2,
       "version_minor": 0
      },
      "text/html": [
       "<p>Failed to display Jupyter Widget of type <code>HBox</code>.</p>\n",
       "<p>\n",
       "  If you're reading this message in the Jupyter Notebook or JupyterLab Notebook, it may mean\n",
       "  that the widgets JavaScript is still loading. If this message persists, it\n",
       "  likely means that the widgets JavaScript library is either not installed or\n",
       "  not enabled. See the <a href=\"https://ipywidgets.readthedocs.io/en/stable/user_install.html\">Jupyter\n",
       "  Widgets Documentation</a> for setup instructions.\n",
       "</p>\n",
       "<p>\n",
       "  If you're reading this message in another frontend (for example, a static\n",
       "  rendering on GitHub or <a href=\"https://nbviewer.jupyter.org/\">NBViewer</a>),\n",
       "  it may mean that your frontend doesn't currently support widgets.\n",
       "</p>\n"
      ],
      "text/plain": [
       "HBox(children=(IntProgress(value=0, description='Epoch 36', max=173), HTML(value='')))"
      ]
     },
     "metadata": {},
     "output_type": "display_data"
    },
    {
     "name": "stdout",
     "output_type": "stream",
     "text": [
      "\n",
      "Epoch 00037: saving model to ./tmp/weights__5.37--0.79.hdf5\n",
      "Function (get_prediction) Finished: 0.020305s\n",
      "Function (get_prediction) Finished: 0.021375s\n",
      "Function (get_prediction) Finished: 0.019983s\n",
      "Function (get_prediction) Finished: 0.018958s\n",
      "Function (get_prediction) Finished: 0.021014s\n",
      "Function (get_prediction) Finished: 0.020473s\n",
      "Function (get_prediction) Finished: 0.019789s\n",
      "Function (get_prediction) Finished: 0.022207s\n"
     ]
    },
    {
     "data": {
      "application/vnd.jupyter.widget-view+json": {
       "model_id": "a18544da48e14b2bb5838b0adc65454d",
       "version_major": 2,
       "version_minor": 0
      },
      "text/html": [
       "<p>Failed to display Jupyter Widget of type <code>HBox</code>.</p>\n",
       "<p>\n",
       "  If you're reading this message in the Jupyter Notebook or JupyterLab Notebook, it may mean\n",
       "  that the widgets JavaScript is still loading. If this message persists, it\n",
       "  likely means that the widgets JavaScript library is either not installed or\n",
       "  not enabled. See the <a href=\"https://ipywidgets.readthedocs.io/en/stable/user_install.html\">Jupyter\n",
       "  Widgets Documentation</a> for setup instructions.\n",
       "</p>\n",
       "<p>\n",
       "  If you're reading this message in another frontend (for example, a static\n",
       "  rendering on GitHub or <a href=\"https://nbviewer.jupyter.org/\">NBViewer</a>),\n",
       "  it may mean that your frontend doesn't currently support widgets.\n",
       "</p>\n"
      ],
      "text/plain": [
       "HBox(children=(IntProgress(value=0, description='Epoch 37', max=173), HTML(value='')))"
      ]
     },
     "metadata": {},
     "output_type": "display_data"
    },
    {
     "name": "stdout",
     "output_type": "stream",
     "text": [
      "\n",
      "Epoch 00038: saving model to ./tmp/weights__5.38--0.84.hdf5\n",
      "Function (get_prediction) Finished: 0.020499s\n",
      "Function (get_prediction) Finished: 0.019839s\n",
      "Function (get_prediction) Finished: 0.018734s\n",
      "Function (get_prediction) Finished: 0.019712s\n",
      "Function (get_prediction) Finished: 0.018881s\n",
      "Function (get_prediction) Finished: 0.020513s\n",
      "Function (get_prediction) Finished: 0.01828s\n",
      "Function (get_prediction) Finished: 0.021794s\n"
     ]
    },
    {
     "data": {
      "application/vnd.jupyter.widget-view+json": {
       "model_id": "e23d2f4c2dd0433dbe07108d34602ac0",
       "version_major": 2,
       "version_minor": 0
      },
      "text/html": [
       "<p>Failed to display Jupyter Widget of type <code>HBox</code>.</p>\n",
       "<p>\n",
       "  If you're reading this message in the Jupyter Notebook or JupyterLab Notebook, it may mean\n",
       "  that the widgets JavaScript is still loading. If this message persists, it\n",
       "  likely means that the widgets JavaScript library is either not installed or\n",
       "  not enabled. See the <a href=\"https://ipywidgets.readthedocs.io/en/stable/user_install.html\">Jupyter\n",
       "  Widgets Documentation</a> for setup instructions.\n",
       "</p>\n",
       "<p>\n",
       "  If you're reading this message in another frontend (for example, a static\n",
       "  rendering on GitHub or <a href=\"https://nbviewer.jupyter.org/\">NBViewer</a>),\n",
       "  it may mean that your frontend doesn't currently support widgets.\n",
       "</p>\n"
      ],
      "text/plain": [
       "HBox(children=(IntProgress(value=0, description='Epoch 38', max=173), HTML(value='')))"
      ]
     },
     "metadata": {},
     "output_type": "display_data"
    },
    {
     "name": "stdout",
     "output_type": "stream",
     "text": [
      "\n",
      "Epoch 00039: saving model to ./tmp/weights__5.39--0.82.hdf5\n",
      "Function (get_prediction) Finished: 0.020608s\n",
      "Function (get_prediction) Finished: 0.019637s\n",
      "Function (get_prediction) Finished: 0.01925s\n",
      "Function (get_prediction) Finished: 0.017831s\n",
      "Function (get_prediction) Finished: 0.017928s\n",
      "Function (get_prediction) Finished: 0.019652s\n",
      "Function (get_prediction) Finished: 0.017376s\n",
      "Function (get_prediction) Finished: 0.020136s\n"
     ]
    },
    {
     "data": {
      "application/vnd.jupyter.widget-view+json": {
       "model_id": "eaae9a2b48cd40fd97142b5fd278a925",
       "version_major": 2,
       "version_minor": 0
      },
      "text/html": [
       "<p>Failed to display Jupyter Widget of type <code>HBox</code>.</p>\n",
       "<p>\n",
       "  If you're reading this message in the Jupyter Notebook or JupyterLab Notebook, it may mean\n",
       "  that the widgets JavaScript is still loading. If this message persists, it\n",
       "  likely means that the widgets JavaScript library is either not installed or\n",
       "  not enabled. See the <a href=\"https://ipywidgets.readthedocs.io/en/stable/user_install.html\">Jupyter\n",
       "  Widgets Documentation</a> for setup instructions.\n",
       "</p>\n",
       "<p>\n",
       "  If you're reading this message in another frontend (for example, a static\n",
       "  rendering on GitHub or <a href=\"https://nbviewer.jupyter.org/\">NBViewer</a>),\n",
       "  it may mean that your frontend doesn't currently support widgets.\n",
       "</p>\n"
      ],
      "text/plain": [
       "HBox(children=(IntProgress(value=0, description='Epoch 39', max=173), HTML(value='')))"
      ]
     },
     "metadata": {},
     "output_type": "display_data"
    },
    {
     "name": "stdout",
     "output_type": "stream",
     "text": [
      "\n",
      "Epoch 00040: saving model to ./tmp/weights__5.40--0.83.hdf5\n",
      "Function (get_prediction) Finished: 0.018515s\n",
      "Function (get_prediction) Finished: 0.01894s\n",
      "Function (get_prediction) Finished: 0.019606s\n",
      "Function (get_prediction) Finished: 0.018557s\n",
      "Function (get_prediction) Finished: 0.018251s\n",
      "Function (get_prediction) Finished: 0.020039s\n",
      "Function (get_prediction) Finished: 0.018201s\n",
      "Function (get_prediction) Finished: 0.022599s\n"
     ]
    },
    {
     "data": {
      "application/vnd.jupyter.widget-view+json": {
       "model_id": "f636ef60ac3c458f94c1ba978b9c00a4",
       "version_major": 2,
       "version_minor": 0
      },
      "text/html": [
       "<p>Failed to display Jupyter Widget of type <code>HBox</code>.</p>\n",
       "<p>\n",
       "  If you're reading this message in the Jupyter Notebook or JupyterLab Notebook, it may mean\n",
       "  that the widgets JavaScript is still loading. If this message persists, it\n",
       "  likely means that the widgets JavaScript library is either not installed or\n",
       "  not enabled. See the <a href=\"https://ipywidgets.readthedocs.io/en/stable/user_install.html\">Jupyter\n",
       "  Widgets Documentation</a> for setup instructions.\n",
       "</p>\n",
       "<p>\n",
       "  If you're reading this message in another frontend (for example, a static\n",
       "  rendering on GitHub or <a href=\"https://nbviewer.jupyter.org/\">NBViewer</a>),\n",
       "  it may mean that your frontend doesn't currently support widgets.\n",
       "</p>\n"
      ],
      "text/plain": [
       "HBox(children=(IntProgress(value=0, description='Epoch 40', max=173), HTML(value='')))"
      ]
     },
     "metadata": {},
     "output_type": "display_data"
    },
    {
     "name": "stdout",
     "output_type": "stream",
     "text": [
      "\n",
      "Epoch 00041: saving model to ./tmp/weights__5.41--0.84.hdf5\n",
      "Function (get_prediction) Finished: 0.021604s\n",
      "Function (get_prediction) Finished: 0.02033s\n",
      "Function (get_prediction) Finished: 0.024595s\n",
      "Function (get_prediction) Finished: 0.020366s\n",
      "Function (get_prediction) Finished: 0.020832s\n",
      "Function (get_prediction) Finished: 0.02243s\n",
      "Function (get_prediction) Finished: 0.022079s\n",
      "Function (get_prediction) Finished: 0.020996s\n"
     ]
    },
    {
     "data": {
      "application/vnd.jupyter.widget-view+json": {
       "model_id": "d7d7edb716d147d28addad14a141407e",
       "version_major": 2,
       "version_minor": 0
      },
      "text/html": [
       "<p>Failed to display Jupyter Widget of type <code>HBox</code>.</p>\n",
       "<p>\n",
       "  If you're reading this message in the Jupyter Notebook or JupyterLab Notebook, it may mean\n",
       "  that the widgets JavaScript is still loading. If this message persists, it\n",
       "  likely means that the widgets JavaScript library is either not installed or\n",
       "  not enabled. See the <a href=\"https://ipywidgets.readthedocs.io/en/stable/user_install.html\">Jupyter\n",
       "  Widgets Documentation</a> for setup instructions.\n",
       "</p>\n",
       "<p>\n",
       "  If you're reading this message in another frontend (for example, a static\n",
       "  rendering on GitHub or <a href=\"https://nbviewer.jupyter.org/\">NBViewer</a>),\n",
       "  it may mean that your frontend doesn't currently support widgets.\n",
       "</p>\n"
      ],
      "text/plain": [
       "HBox(children=(IntProgress(value=0, description='Epoch 41', max=173), HTML(value='')))"
      ]
     },
     "metadata": {},
     "output_type": "display_data"
    },
    {
     "name": "stdout",
     "output_type": "stream",
     "text": [
      "\n",
      "Epoch 00042: saving model to ./tmp/weights__5.42--0.80.hdf5\n",
      "Function (get_prediction) Finished: 0.020118s\n",
      "Function (get_prediction) Finished: 0.019701s\n",
      "Function (get_prediction) Finished: 0.018716s\n",
      "Function (get_prediction) Finished: 0.018962s\n",
      "Function (get_prediction) Finished: 0.019452s\n",
      "Function (get_prediction) Finished: 0.019449s\n",
      "Function (get_prediction) Finished: 0.01873s\n",
      "Function (get_prediction) Finished: 0.01948s\n"
     ]
    },
    {
     "data": {
      "application/vnd.jupyter.widget-view+json": {
       "model_id": "baac45661dc44004ae6ec778910274b2",
       "version_major": 2,
       "version_minor": 0
      },
      "text/html": [
       "<p>Failed to display Jupyter Widget of type <code>HBox</code>.</p>\n",
       "<p>\n",
       "  If you're reading this message in the Jupyter Notebook or JupyterLab Notebook, it may mean\n",
       "  that the widgets JavaScript is still loading. If this message persists, it\n",
       "  likely means that the widgets JavaScript library is either not installed or\n",
       "  not enabled. See the <a href=\"https://ipywidgets.readthedocs.io/en/stable/user_install.html\">Jupyter\n",
       "  Widgets Documentation</a> for setup instructions.\n",
       "</p>\n",
       "<p>\n",
       "  If you're reading this message in another frontend (for example, a static\n",
       "  rendering on GitHub or <a href=\"https://nbviewer.jupyter.org/\">NBViewer</a>),\n",
       "  it may mean that your frontend doesn't currently support widgets.\n",
       "</p>\n"
      ],
      "text/plain": [
       "HBox(children=(IntProgress(value=0, description='Epoch 42', max=173), HTML(value='')))"
      ]
     },
     "metadata": {},
     "output_type": "display_data"
    },
    {
     "name": "stdout",
     "output_type": "stream",
     "text": [
      "\n",
      "Epoch 00043: saving model to ./tmp/weights__5.43--0.84.hdf5\n",
      "Function (get_prediction) Finished: 0.020347s\n",
      "Function (get_prediction) Finished: 0.021006s\n",
      "Function (get_prediction) Finished: 0.018886s\n",
      "Function (get_prediction) Finished: 0.017799s\n",
      "Function (get_prediction) Finished: 0.019496s\n",
      "Function (get_prediction) Finished: 0.020907s\n",
      "Function (get_prediction) Finished: 0.019554s\n",
      "Function (get_prediction) Finished: 0.020742s\n"
     ]
    },
    {
     "data": {
      "application/vnd.jupyter.widget-view+json": {
       "model_id": "6de057b305384fe58ff01d3373aa112d",
       "version_major": 2,
       "version_minor": 0
      },
      "text/html": [
       "<p>Failed to display Jupyter Widget of type <code>HBox</code>.</p>\n",
       "<p>\n",
       "  If you're reading this message in the Jupyter Notebook or JupyterLab Notebook, it may mean\n",
       "  that the widgets JavaScript is still loading. If this message persists, it\n",
       "  likely means that the widgets JavaScript library is either not installed or\n",
       "  not enabled. See the <a href=\"https://ipywidgets.readthedocs.io/en/stable/user_install.html\">Jupyter\n",
       "  Widgets Documentation</a> for setup instructions.\n",
       "</p>\n",
       "<p>\n",
       "  If you're reading this message in another frontend (for example, a static\n",
       "  rendering on GitHub or <a href=\"https://nbviewer.jupyter.org/\">NBViewer</a>),\n",
       "  it may mean that your frontend doesn't currently support widgets.\n",
       "</p>\n"
      ],
      "text/plain": [
       "HBox(children=(IntProgress(value=0, description='Epoch 43', max=173), HTML(value='')))"
      ]
     },
     "metadata": {},
     "output_type": "display_data"
    },
    {
     "name": "stdout",
     "output_type": "stream",
     "text": [
      "\n",
      "Epoch 00044: saving model to ./tmp/weights__5.44--0.84.hdf5\n",
      "Function (get_prediction) Finished: 0.02029s\n",
      "Function (get_prediction) Finished: 0.021537s\n",
      "Function (get_prediction) Finished: 0.019764s\n",
      "Function (get_prediction) Finished: 0.017632s\n",
      "Function (get_prediction) Finished: 0.017789s\n",
      "Function (get_prediction) Finished: 0.019613s\n",
      "Function (get_prediction) Finished: 0.019049s\n",
      "Function (get_prediction) Finished: 0.023993s\n"
     ]
    },
    {
     "data": {
      "application/vnd.jupyter.widget-view+json": {
       "model_id": "b7202df0a5c541dd94f9c8cd00223338",
       "version_major": 2,
       "version_minor": 0
      },
      "text/html": [
       "<p>Failed to display Jupyter Widget of type <code>HBox</code>.</p>\n",
       "<p>\n",
       "  If you're reading this message in the Jupyter Notebook or JupyterLab Notebook, it may mean\n",
       "  that the widgets JavaScript is still loading. If this message persists, it\n",
       "  likely means that the widgets JavaScript library is either not installed or\n",
       "  not enabled. See the <a href=\"https://ipywidgets.readthedocs.io/en/stable/user_install.html\">Jupyter\n",
       "  Widgets Documentation</a> for setup instructions.\n",
       "</p>\n",
       "<p>\n",
       "  If you're reading this message in another frontend (for example, a static\n",
       "  rendering on GitHub or <a href=\"https://nbviewer.jupyter.org/\">NBViewer</a>),\n",
       "  it may mean that your frontend doesn't currently support widgets.\n",
       "</p>\n"
      ],
      "text/plain": [
       "HBox(children=(IntProgress(value=0, description='Epoch 44', max=173), HTML(value='')))"
      ]
     },
     "metadata": {},
     "output_type": "display_data"
    },
    {
     "name": "stdout",
     "output_type": "stream",
     "text": [
      "\n",
      "Epoch 00045: saving model to ./tmp/weights__5.45--0.82.hdf5\n",
      "Function (get_prediction) Finished: 0.020429s\n",
      "Function (get_prediction) Finished: 0.01928s\n",
      "Function (get_prediction) Finished: 0.019176s\n",
      "Function (get_prediction) Finished: 0.017868s\n",
      "Function (get_prediction) Finished: 0.018894s\n",
      "Function (get_prediction) Finished: 0.020189s\n",
      "Function (get_prediction) Finished: 0.01896s\n",
      "Function (get_prediction) Finished: 0.020387s\n"
     ]
    },
    {
     "data": {
      "application/vnd.jupyter.widget-view+json": {
       "model_id": "f6ecfcfc796945eb8cf589a7a2719c3e",
       "version_major": 2,
       "version_minor": 0
      },
      "text/html": [
       "<p>Failed to display Jupyter Widget of type <code>HBox</code>.</p>\n",
       "<p>\n",
       "  If you're reading this message in the Jupyter Notebook or JupyterLab Notebook, it may mean\n",
       "  that the widgets JavaScript is still loading. If this message persists, it\n",
       "  likely means that the widgets JavaScript library is either not installed or\n",
       "  not enabled. See the <a href=\"https://ipywidgets.readthedocs.io/en/stable/user_install.html\">Jupyter\n",
       "  Widgets Documentation</a> for setup instructions.\n",
       "</p>\n",
       "<p>\n",
       "  If you're reading this message in another frontend (for example, a static\n",
       "  rendering on GitHub or <a href=\"https://nbviewer.jupyter.org/\">NBViewer</a>),\n",
       "  it may mean that your frontend doesn't currently support widgets.\n",
       "</p>\n"
      ],
      "text/plain": [
       "HBox(children=(IntProgress(value=0, description='Epoch 45', max=173), HTML(value='')))"
      ]
     },
     "metadata": {},
     "output_type": "display_data"
    },
    {
     "name": "stdout",
     "output_type": "stream",
     "text": [
      "\n",
      "Epoch 00046: saving model to ./tmp/weights__5.46--0.84.hdf5\n",
      "Function (get_prediction) Finished: 0.019933s\n",
      "Function (get_prediction) Finished: 0.019991s\n",
      "Function (get_prediction) Finished: 0.019246s\n",
      "Function (get_prediction) Finished: 0.017963s\n",
      "Function (get_prediction) Finished: 0.017974s\n",
      "Function (get_prediction) Finished: 0.019674s\n",
      "Function (get_prediction) Finished: 0.018198s\n",
      "Function (get_prediction) Finished: 0.021634s\n"
     ]
    },
    {
     "data": {
      "application/vnd.jupyter.widget-view+json": {
       "model_id": "d8cd0e35db014d08865021b210ff9370",
       "version_major": 2,
       "version_minor": 0
      },
      "text/html": [
       "<p>Failed to display Jupyter Widget of type <code>HBox</code>.</p>\n",
       "<p>\n",
       "  If you're reading this message in the Jupyter Notebook or JupyterLab Notebook, it may mean\n",
       "  that the widgets JavaScript is still loading. If this message persists, it\n",
       "  likely means that the widgets JavaScript library is either not installed or\n",
       "  not enabled. See the <a href=\"https://ipywidgets.readthedocs.io/en/stable/user_install.html\">Jupyter\n",
       "  Widgets Documentation</a> for setup instructions.\n",
       "</p>\n",
       "<p>\n",
       "  If you're reading this message in another frontend (for example, a static\n",
       "  rendering on GitHub or <a href=\"https://nbviewer.jupyter.org/\">NBViewer</a>),\n",
       "  it may mean that your frontend doesn't currently support widgets.\n",
       "</p>\n"
      ],
      "text/plain": [
       "HBox(children=(IntProgress(value=0, description='Epoch 46', max=173), HTML(value='')))"
      ]
     },
     "metadata": {},
     "output_type": "display_data"
    },
    {
     "name": "stdout",
     "output_type": "stream",
     "text": [
      "\n",
      "Epoch 00047: saving model to ./tmp/weights__5.47--0.82.hdf5\n",
      "Function (get_prediction) Finished: 0.020703s\n",
      "Function (get_prediction) Finished: 0.020723s\n",
      "Function (get_prediction) Finished: 0.026708s\n",
      "Function (get_prediction) Finished: 0.018101s\n",
      "Function (get_prediction) Finished: 0.018376s\n",
      "Function (get_prediction) Finished: 0.021434s\n",
      "Function (get_prediction) Finished: 0.020536s\n",
      "Function (get_prediction) Finished: 0.02068s\n"
     ]
    },
    {
     "data": {
      "application/vnd.jupyter.widget-view+json": {
       "model_id": "2d06632963ec485882c4006c3ba9248a",
       "version_major": 2,
       "version_minor": 0
      },
      "text/html": [
       "<p>Failed to display Jupyter Widget of type <code>HBox</code>.</p>\n",
       "<p>\n",
       "  If you're reading this message in the Jupyter Notebook or JupyterLab Notebook, it may mean\n",
       "  that the widgets JavaScript is still loading. If this message persists, it\n",
       "  likely means that the widgets JavaScript library is either not installed or\n",
       "  not enabled. See the <a href=\"https://ipywidgets.readthedocs.io/en/stable/user_install.html\">Jupyter\n",
       "  Widgets Documentation</a> for setup instructions.\n",
       "</p>\n",
       "<p>\n",
       "  If you're reading this message in another frontend (for example, a static\n",
       "  rendering on GitHub or <a href=\"https://nbviewer.jupyter.org/\">NBViewer</a>),\n",
       "  it may mean that your frontend doesn't currently support widgets.\n",
       "</p>\n"
      ],
      "text/plain": [
       "HBox(children=(IntProgress(value=0, description='Epoch 47', max=173), HTML(value='')))"
      ]
     },
     "metadata": {},
     "output_type": "display_data"
    },
    {
     "name": "stdout",
     "output_type": "stream",
     "text": [
      "\n",
      "Epoch 00048: saving model to ./tmp/weights__5.48--0.83.hdf5\n",
      "Function (get_prediction) Finished: 0.021316s\n",
      "Function (get_prediction) Finished: 0.020353s\n",
      "Function (get_prediction) Finished: 0.018719s\n",
      "Function (get_prediction) Finished: 0.018016s\n",
      "Function (get_prediction) Finished: 0.018611s\n",
      "Function (get_prediction) Finished: 0.020687s\n",
      "Function (get_prediction) Finished: 0.017808s\n",
      "Function (get_prediction) Finished: 0.02013s\n"
     ]
    },
    {
     "data": {
      "application/vnd.jupyter.widget-view+json": {
       "model_id": "b6b6ccec16514ba98c9e5bec7b2c513d",
       "version_major": 2,
       "version_minor": 0
      },
      "text/html": [
       "<p>Failed to display Jupyter Widget of type <code>HBox</code>.</p>\n",
       "<p>\n",
       "  If you're reading this message in the Jupyter Notebook or JupyterLab Notebook, it may mean\n",
       "  that the widgets JavaScript is still loading. If this message persists, it\n",
       "  likely means that the widgets JavaScript library is either not installed or\n",
       "  not enabled. See the <a href=\"https://ipywidgets.readthedocs.io/en/stable/user_install.html\">Jupyter\n",
       "  Widgets Documentation</a> for setup instructions.\n",
       "</p>\n",
       "<p>\n",
       "  If you're reading this message in another frontend (for example, a static\n",
       "  rendering on GitHub or <a href=\"https://nbviewer.jupyter.org/\">NBViewer</a>),\n",
       "  it may mean that your frontend doesn't currently support widgets.\n",
       "</p>\n"
      ],
      "text/plain": [
       "HBox(children=(IntProgress(value=0, description='Epoch 48', max=173), HTML(value='')))"
      ]
     },
     "metadata": {},
     "output_type": "display_data"
    },
    {
     "name": "stdout",
     "output_type": "stream",
     "text": [
      "\n",
      "Epoch 00049: saving model to ./tmp/weights__5.49--0.76.hdf5\n",
      "Function (get_prediction) Finished: 0.020476s\n",
      "Function (get_prediction) Finished: 0.020922s\n",
      "Function (get_prediction) Finished: 0.023393s\n",
      "Function (get_prediction) Finished: 0.017992s\n",
      "Function (get_prediction) Finished: 0.018962s\n",
      "Function (get_prediction) Finished: 0.01966s\n",
      "Function (get_prediction) Finished: 0.018598s\n",
      "Function (get_prediction) Finished: 0.019227s\n"
     ]
    },
    {
     "data": {
      "application/vnd.jupyter.widget-view+json": {
       "model_id": "dde9601f52b547df98cce36434b8ef48",
       "version_major": 2,
       "version_minor": 0
      },
      "text/html": [
       "<p>Failed to display Jupyter Widget of type <code>HBox</code>.</p>\n",
       "<p>\n",
       "  If you're reading this message in the Jupyter Notebook or JupyterLab Notebook, it may mean\n",
       "  that the widgets JavaScript is still loading. If this message persists, it\n",
       "  likely means that the widgets JavaScript library is either not installed or\n",
       "  not enabled. See the <a href=\"https://ipywidgets.readthedocs.io/en/stable/user_install.html\">Jupyter\n",
       "  Widgets Documentation</a> for setup instructions.\n",
       "</p>\n",
       "<p>\n",
       "  If you're reading this message in another frontend (for example, a static\n",
       "  rendering on GitHub or <a href=\"https://nbviewer.jupyter.org/\">NBViewer</a>),\n",
       "  it may mean that your frontend doesn't currently support widgets.\n",
       "</p>\n"
      ],
      "text/plain": [
       "HBox(children=(IntProgress(value=0, description='Epoch 49', max=173), HTML(value='')))"
      ]
     },
     "metadata": {},
     "output_type": "display_data"
    },
    {
     "name": "stdout",
     "output_type": "stream",
     "text": [
      "\n",
      "Epoch 00050: saving model to ./tmp/weights__5.50--0.84.hdf5\n",
      "Function (get_prediction) Finished: 0.022704s\n",
      "Function (get_prediction) Finished: 0.019158s\n",
      "Function (get_prediction) Finished: 0.018634s\n",
      "Function (get_prediction) Finished: 0.018304s\n",
      "Function (get_prediction) Finished: 0.018552s\n",
      "Function (get_prediction) Finished: 0.020848s\n",
      "Function (get_prediction) Finished: 0.018533s\n",
      "Function (get_prediction) Finished: 0.019684s\n"
     ]
    },
    {
     "data": {
      "application/vnd.jupyter.widget-view+json": {
       "model_id": "b0708e218bff45b09839cfed0cb1585e",
       "version_major": 2,
       "version_minor": 0
      },
      "text/html": [
       "<p>Failed to display Jupyter Widget of type <code>HBox</code>.</p>\n",
       "<p>\n",
       "  If you're reading this message in the Jupyter Notebook or JupyterLab Notebook, it may mean\n",
       "  that the widgets JavaScript is still loading. If this message persists, it\n",
       "  likely means that the widgets JavaScript library is either not installed or\n",
       "  not enabled. See the <a href=\"https://ipywidgets.readthedocs.io/en/stable/user_install.html\">Jupyter\n",
       "  Widgets Documentation</a> for setup instructions.\n",
       "</p>\n",
       "<p>\n",
       "  If you're reading this message in another frontend (for example, a static\n",
       "  rendering on GitHub or <a href=\"https://nbviewer.jupyter.org/\">NBViewer</a>),\n",
       "  it may mean that your frontend doesn't currently support widgets.\n",
       "</p>\n"
      ],
      "text/plain": [
       "HBox(children=(IntProgress(value=0, description='Epoch 50', max=173), HTML(value='')))"
      ]
     },
     "metadata": {},
     "output_type": "display_data"
    },
    {
     "name": "stdout",
     "output_type": "stream",
     "text": [
      "\n",
      "Epoch 00051: saving model to ./tmp/weights__5.51--0.84.hdf5\n",
      "Function (get_prediction) Finished: 0.023962s\n",
      "Function (get_prediction) Finished: 0.020277s\n",
      "Function (get_prediction) Finished: 0.019316s\n",
      "Function (get_prediction) Finished: 0.01891s\n",
      "Function (get_prediction) Finished: 0.018383s\n",
      "Function (get_prediction) Finished: 0.023856s\n",
      "Function (get_prediction) Finished: 0.018475s\n",
      "Function (get_prediction) Finished: 0.019981s\n"
     ]
    },
    {
     "data": {
      "application/vnd.jupyter.widget-view+json": {
       "model_id": "b10f2c066bbe4d6fa32dcfc5b0539412",
       "version_major": 2,
       "version_minor": 0
      },
      "text/html": [
       "<p>Failed to display Jupyter Widget of type <code>HBox</code>.</p>\n",
       "<p>\n",
       "  If you're reading this message in the Jupyter Notebook or JupyterLab Notebook, it may mean\n",
       "  that the widgets JavaScript is still loading. If this message persists, it\n",
       "  likely means that the widgets JavaScript library is either not installed or\n",
       "  not enabled. See the <a href=\"https://ipywidgets.readthedocs.io/en/stable/user_install.html\">Jupyter\n",
       "  Widgets Documentation</a> for setup instructions.\n",
       "</p>\n",
       "<p>\n",
       "  If you're reading this message in another frontend (for example, a static\n",
       "  rendering on GitHub or <a href=\"https://nbviewer.jupyter.org/\">NBViewer</a>),\n",
       "  it may mean that your frontend doesn't currently support widgets.\n",
       "</p>\n"
      ],
      "text/plain": [
       "HBox(children=(IntProgress(value=0, description='Epoch 51', max=173), HTML(value='')))"
      ]
     },
     "metadata": {},
     "output_type": "display_data"
    },
    {
     "name": "stdout",
     "output_type": "stream",
     "text": [
      "\n",
      "Epoch 00052: saving model to ./tmp/weights__5.52--0.72.hdf5\n",
      "Function (get_prediction) Finished: 0.023398s\n",
      "Function (get_prediction) Finished: 0.020063s\n",
      "Function (get_prediction) Finished: 0.021434s\n",
      "Function (get_prediction) Finished: 0.019242s\n",
      "Function (get_prediction) Finished: 0.01874s\n",
      "Function (get_prediction) Finished: 0.020313s\n",
      "Function (get_prediction) Finished: 0.018552s\n",
      "Function (get_prediction) Finished: 0.01935s\n"
     ]
    },
    {
     "data": {
      "application/vnd.jupyter.widget-view+json": {
       "model_id": "ef4d0e74c80b493b8911857052d7ca02",
       "version_major": 2,
       "version_minor": 0
      },
      "text/html": [
       "<p>Failed to display Jupyter Widget of type <code>HBox</code>.</p>\n",
       "<p>\n",
       "  If you're reading this message in the Jupyter Notebook or JupyterLab Notebook, it may mean\n",
       "  that the widgets JavaScript is still loading. If this message persists, it\n",
       "  likely means that the widgets JavaScript library is either not installed or\n",
       "  not enabled. See the <a href=\"https://ipywidgets.readthedocs.io/en/stable/user_install.html\">Jupyter\n",
       "  Widgets Documentation</a> for setup instructions.\n",
       "</p>\n",
       "<p>\n",
       "  If you're reading this message in another frontend (for example, a static\n",
       "  rendering on GitHub or <a href=\"https://nbviewer.jupyter.org/\">NBViewer</a>),\n",
       "  it may mean that your frontend doesn't currently support widgets.\n",
       "</p>\n"
      ],
      "text/plain": [
       "HBox(children=(IntProgress(value=0, description='Epoch 52', max=173), HTML(value='')))"
      ]
     },
     "metadata": {},
     "output_type": "display_data"
    },
    {
     "name": "stdout",
     "output_type": "stream",
     "text": [
      "\n",
      "Epoch 00053: saving model to ./tmp/weights__5.53--0.84.hdf5\n",
      "Function (get_prediction) Finished: 0.024401s\n",
      "Function (get_prediction) Finished: 0.020639s\n",
      "Function (get_prediction) Finished: 0.01872s\n",
      "Function (get_prediction) Finished: 0.017293s\n",
      "Function (get_prediction) Finished: 0.017569s\n",
      "Function (get_prediction) Finished: 0.020176s\n",
      "Function (get_prediction) Finished: 0.018833s\n",
      "Function (get_prediction) Finished: 0.021574s\n"
     ]
    },
    {
     "data": {
      "application/vnd.jupyter.widget-view+json": {
       "model_id": "06677645982d442098a0d8ab22ee25e0",
       "version_major": 2,
       "version_minor": 0
      },
      "text/html": [
       "<p>Failed to display Jupyter Widget of type <code>HBox</code>.</p>\n",
       "<p>\n",
       "  If you're reading this message in the Jupyter Notebook or JupyterLab Notebook, it may mean\n",
       "  that the widgets JavaScript is still loading. If this message persists, it\n",
       "  likely means that the widgets JavaScript library is either not installed or\n",
       "  not enabled. See the <a href=\"https://ipywidgets.readthedocs.io/en/stable/user_install.html\">Jupyter\n",
       "  Widgets Documentation</a> for setup instructions.\n",
       "</p>\n",
       "<p>\n",
       "  If you're reading this message in another frontend (for example, a static\n",
       "  rendering on GitHub or <a href=\"https://nbviewer.jupyter.org/\">NBViewer</a>),\n",
       "  it may mean that your frontend doesn't currently support widgets.\n",
       "</p>\n"
      ],
      "text/plain": [
       "HBox(children=(IntProgress(value=0, description='Epoch 53', max=173), HTML(value='')))"
      ]
     },
     "metadata": {},
     "output_type": "display_data"
    },
    {
     "name": "stdout",
     "output_type": "stream",
     "text": [
      "\n",
      "Epoch 00054: saving model to ./tmp/weights__5.54--0.85.hdf5\n",
      "Function (get_prediction) Finished: 0.020331s\n",
      "Function (get_prediction) Finished: 0.020979s\n",
      "Function (get_prediction) Finished: 0.02111s\n",
      "Function (get_prediction) Finished: 0.019089s\n",
      "Function (get_prediction) Finished: 0.018299s\n",
      "Function (get_prediction) Finished: 0.03299s\n",
      "Function (get_prediction) Finished: 0.019463s\n",
      "Function (get_prediction) Finished: 0.02094s\n"
     ]
    },
    {
     "data": {
      "application/vnd.jupyter.widget-view+json": {
       "model_id": "37eae8e65ca34a039a30431a622d1f9b",
       "version_major": 2,
       "version_minor": 0
      },
      "text/html": [
       "<p>Failed to display Jupyter Widget of type <code>HBox</code>.</p>\n",
       "<p>\n",
       "  If you're reading this message in the Jupyter Notebook or JupyterLab Notebook, it may mean\n",
       "  that the widgets JavaScript is still loading. If this message persists, it\n",
       "  likely means that the widgets JavaScript library is either not installed or\n",
       "  not enabled. See the <a href=\"https://ipywidgets.readthedocs.io/en/stable/user_install.html\">Jupyter\n",
       "  Widgets Documentation</a> for setup instructions.\n",
       "</p>\n",
       "<p>\n",
       "  If you're reading this message in another frontend (for example, a static\n",
       "  rendering on GitHub or <a href=\"https://nbviewer.jupyter.org/\">NBViewer</a>),\n",
       "  it may mean that your frontend doesn't currently support widgets.\n",
       "</p>\n"
      ],
      "text/plain": [
       "HBox(children=(IntProgress(value=0, description='Epoch 54', max=173), HTML(value='')))"
      ]
     },
     "metadata": {},
     "output_type": "display_data"
    },
    {
     "name": "stdout",
     "output_type": "stream",
     "text": [
      "\n",
      "Epoch 00055: saving model to ./tmp/weights__5.55--0.86.hdf5\n",
      "Function (get_prediction) Finished: 0.021271s\n",
      "Function (get_prediction) Finished: 0.02283s\n",
      "Function (get_prediction) Finished: 0.019202s\n",
      "Function (get_prediction) Finished: 0.018603s\n",
      "Function (get_prediction) Finished: 0.017726s\n",
      "Function (get_prediction) Finished: 0.019641s\n",
      "Function (get_prediction) Finished: 0.018249s\n",
      "Function (get_prediction) Finished: 0.019752s\n"
     ]
    },
    {
     "data": {
      "application/vnd.jupyter.widget-view+json": {
       "model_id": "71fe42e12a624e5ab9d7a7ce962ea309",
       "version_major": 2,
       "version_minor": 0
      },
      "text/html": [
       "<p>Failed to display Jupyter Widget of type <code>HBox</code>.</p>\n",
       "<p>\n",
       "  If you're reading this message in the Jupyter Notebook or JupyterLab Notebook, it may mean\n",
       "  that the widgets JavaScript is still loading. If this message persists, it\n",
       "  likely means that the widgets JavaScript library is either not installed or\n",
       "  not enabled. See the <a href=\"https://ipywidgets.readthedocs.io/en/stable/user_install.html\">Jupyter\n",
       "  Widgets Documentation</a> for setup instructions.\n",
       "</p>\n",
       "<p>\n",
       "  If you're reading this message in another frontend (for example, a static\n",
       "  rendering on GitHub or <a href=\"https://nbviewer.jupyter.org/\">NBViewer</a>),\n",
       "  it may mean that your frontend doesn't currently support widgets.\n",
       "</p>\n"
      ],
      "text/plain": [
       "HBox(children=(IntProgress(value=0, description='Epoch 55', max=173), HTML(value='')))"
      ]
     },
     "metadata": {},
     "output_type": "display_data"
    },
    {
     "name": "stdout",
     "output_type": "stream",
     "text": [
      "\n",
      "Epoch 00056: saving model to ./tmp/weights__5.56--0.79.hdf5\n",
      "Function (get_prediction) Finished: 0.019714s\n",
      "Function (get_prediction) Finished: 0.025762s\n",
      "Function (get_prediction) Finished: 0.031259s\n",
      "Function (get_prediction) Finished: 0.022297s\n",
      "Function (get_prediction) Finished: 0.018561s\n",
      "Function (get_prediction) Finished: 0.020144s\n",
      "Function (get_prediction) Finished: 0.018652s\n",
      "Function (get_prediction) Finished: 0.019915s\n"
     ]
    },
    {
     "data": {
      "application/vnd.jupyter.widget-view+json": {
       "model_id": "7701058ffb7e4adab14c6f234c06f90a",
       "version_major": 2,
       "version_minor": 0
      },
      "text/html": [
       "<p>Failed to display Jupyter Widget of type <code>HBox</code>.</p>\n",
       "<p>\n",
       "  If you're reading this message in the Jupyter Notebook or JupyterLab Notebook, it may mean\n",
       "  that the widgets JavaScript is still loading. If this message persists, it\n",
       "  likely means that the widgets JavaScript library is either not installed or\n",
       "  not enabled. See the <a href=\"https://ipywidgets.readthedocs.io/en/stable/user_install.html\">Jupyter\n",
       "  Widgets Documentation</a> for setup instructions.\n",
       "</p>\n",
       "<p>\n",
       "  If you're reading this message in another frontend (for example, a static\n",
       "  rendering on GitHub or <a href=\"https://nbviewer.jupyter.org/\">NBViewer</a>),\n",
       "  it may mean that your frontend doesn't currently support widgets.\n",
       "</p>\n"
      ],
      "text/plain": [
       "HBox(children=(IntProgress(value=0, description='Epoch 56', max=173), HTML(value='')))"
      ]
     },
     "metadata": {},
     "output_type": "display_data"
    },
    {
     "name": "stdout",
     "output_type": "stream",
     "text": [
      "\n",
      "Epoch 00057: saving model to ./tmp/weights__5.57--0.85.hdf5\n",
      "Function (get_prediction) Finished: 0.019991s\n",
      "Function (get_prediction) Finished: 0.020113s\n",
      "Function (get_prediction) Finished: 0.023234s\n",
      "Function (get_prediction) Finished: 0.017863s\n",
      "Function (get_prediction) Finished: 0.017526s\n",
      "Function (get_prediction) Finished: 0.020027s\n",
      "Function (get_prediction) Finished: 0.021345s\n",
      "Function (get_prediction) Finished: 0.021143s\n"
     ]
    },
    {
     "data": {
      "application/vnd.jupyter.widget-view+json": {
       "model_id": "1e78725c7dca41c3a49c01955273b6b7",
       "version_major": 2,
       "version_minor": 0
      },
      "text/html": [
       "<p>Failed to display Jupyter Widget of type <code>HBox</code>.</p>\n",
       "<p>\n",
       "  If you're reading this message in the Jupyter Notebook or JupyterLab Notebook, it may mean\n",
       "  that the widgets JavaScript is still loading. If this message persists, it\n",
       "  likely means that the widgets JavaScript library is either not installed or\n",
       "  not enabled. See the <a href=\"https://ipywidgets.readthedocs.io/en/stable/user_install.html\">Jupyter\n",
       "  Widgets Documentation</a> for setup instructions.\n",
       "</p>\n",
       "<p>\n",
       "  If you're reading this message in another frontend (for example, a static\n",
       "  rendering on GitHub or <a href=\"https://nbviewer.jupyter.org/\">NBViewer</a>),\n",
       "  it may mean that your frontend doesn't currently support widgets.\n",
       "</p>\n"
      ],
      "text/plain": [
       "HBox(children=(IntProgress(value=0, description='Epoch 57', max=173), HTML(value='')))"
      ]
     },
     "metadata": {},
     "output_type": "display_data"
    },
    {
     "name": "stdout",
     "output_type": "stream",
     "text": [
      "\n",
      "Epoch 00058: saving model to ./tmp/weights__5.58--0.85.hdf5\n",
      "Function (get_prediction) Finished: 0.019068s\n",
      "Function (get_prediction) Finished: 0.019413s\n",
      "Function (get_prediction) Finished: 0.01925s\n",
      "Function (get_prediction) Finished: 0.018613s\n",
      "Function (get_prediction) Finished: 0.018337s\n",
      "Function (get_prediction) Finished: 0.021496s\n",
      "Function (get_prediction) Finished: 0.018803s\n",
      "Function (get_prediction) Finished: 0.019863s\n"
     ]
    },
    {
     "data": {
      "application/vnd.jupyter.widget-view+json": {
       "model_id": "b5db02d9df7c4e5888c7837112182576",
       "version_major": 2,
       "version_minor": 0
      },
      "text/html": [
       "<p>Failed to display Jupyter Widget of type <code>HBox</code>.</p>\n",
       "<p>\n",
       "  If you're reading this message in the Jupyter Notebook or JupyterLab Notebook, it may mean\n",
       "  that the widgets JavaScript is still loading. If this message persists, it\n",
       "  likely means that the widgets JavaScript library is either not installed or\n",
       "  not enabled. See the <a href=\"https://ipywidgets.readthedocs.io/en/stable/user_install.html\">Jupyter\n",
       "  Widgets Documentation</a> for setup instructions.\n",
       "</p>\n",
       "<p>\n",
       "  If you're reading this message in another frontend (for example, a static\n",
       "  rendering on GitHub or <a href=\"https://nbviewer.jupyter.org/\">NBViewer</a>),\n",
       "  it may mean that your frontend doesn't currently support widgets.\n",
       "</p>\n"
      ],
      "text/plain": [
       "HBox(children=(IntProgress(value=0, description='Epoch 58', max=173), HTML(value='')))"
      ]
     },
     "metadata": {},
     "output_type": "display_data"
    },
    {
     "name": "stdout",
     "output_type": "stream",
     "text": [
      "\n",
      "Epoch 00059: saving model to ./tmp/weights__5.59--0.81.hdf5\n",
      "Function (get_prediction) Finished: 0.019961s\n",
      "Function (get_prediction) Finished: 0.020007s\n",
      "Function (get_prediction) Finished: 0.020348s\n",
      "Function (get_prediction) Finished: 0.017901s\n",
      "Function (get_prediction) Finished: 0.017865s\n",
      "Function (get_prediction) Finished: 0.020092s\n",
      "Function (get_prediction) Finished: 0.019331s\n",
      "Function (get_prediction) Finished: 0.02011s\n"
     ]
    },
    {
     "data": {
      "application/vnd.jupyter.widget-view+json": {
       "model_id": "7e2c6955d8344c0d87a8ce85bd0c69ac",
       "version_major": 2,
       "version_minor": 0
      },
      "text/html": [
       "<p>Failed to display Jupyter Widget of type <code>HBox</code>.</p>\n",
       "<p>\n",
       "  If you're reading this message in the Jupyter Notebook or JupyterLab Notebook, it may mean\n",
       "  that the widgets JavaScript is still loading. If this message persists, it\n",
       "  likely means that the widgets JavaScript library is either not installed or\n",
       "  not enabled. See the <a href=\"https://ipywidgets.readthedocs.io/en/stable/user_install.html\">Jupyter\n",
       "  Widgets Documentation</a> for setup instructions.\n",
       "</p>\n",
       "<p>\n",
       "  If you're reading this message in another frontend (for example, a static\n",
       "  rendering on GitHub or <a href=\"https://nbviewer.jupyter.org/\">NBViewer</a>),\n",
       "  it may mean that your frontend doesn't currently support widgets.\n",
       "</p>\n"
      ],
      "text/plain": [
       "HBox(children=(IntProgress(value=0, description='Epoch 59', max=173), HTML(value='')))"
      ]
     },
     "metadata": {},
     "output_type": "display_data"
    },
    {
     "name": "stdout",
     "output_type": "stream",
     "text": [
      "\n",
      "Epoch 00060: saving model to ./tmp/weights__5.60--0.85.hdf5\n",
      "Function (get_prediction) Finished: 0.020751s\n",
      "Function (get_prediction) Finished: 0.019708s\n",
      "Function (get_prediction) Finished: 0.01855s\n",
      "Function (get_prediction) Finished: 0.020046s\n",
      "Function (get_prediction) Finished: 0.023537s\n",
      "Function (get_prediction) Finished: 0.02062s\n",
      "Function (get_prediction) Finished: 0.01874s\n",
      "Function (get_prediction) Finished: 0.02006s\n"
     ]
    },
    {
     "data": {
      "application/vnd.jupyter.widget-view+json": {
       "model_id": "a3d4060a8cd24420a77e6da5e301e7d9",
       "version_major": 2,
       "version_minor": 0
      },
      "text/html": [
       "<p>Failed to display Jupyter Widget of type <code>HBox</code>.</p>\n",
       "<p>\n",
       "  If you're reading this message in the Jupyter Notebook or JupyterLab Notebook, it may mean\n",
       "  that the widgets JavaScript is still loading. If this message persists, it\n",
       "  likely means that the widgets JavaScript library is either not installed or\n",
       "  not enabled. See the <a href=\"https://ipywidgets.readthedocs.io/en/stable/user_install.html\">Jupyter\n",
       "  Widgets Documentation</a> for setup instructions.\n",
       "</p>\n",
       "<p>\n",
       "  If you're reading this message in another frontend (for example, a static\n",
       "  rendering on GitHub or <a href=\"https://nbviewer.jupyter.org/\">NBViewer</a>),\n",
       "  it may mean that your frontend doesn't currently support widgets.\n",
       "</p>\n"
      ],
      "text/plain": [
       "HBox(children=(IntProgress(value=0, description='Epoch 60', max=173), HTML(value='')))"
      ]
     },
     "metadata": {},
     "output_type": "display_data"
    },
    {
     "name": "stdout",
     "output_type": "stream",
     "text": [
      "\n",
      "Epoch 00061: saving model to ./tmp/weights__5.61--0.86.hdf5\n",
      "Function (get_prediction) Finished: 0.020298s\n",
      "Function (get_prediction) Finished: 0.01992s\n",
      "Function (get_prediction) Finished: 0.019255s\n",
      "Function (get_prediction) Finished: 0.01881s\n",
      "Function (get_prediction) Finished: 0.024864s\n",
      "Function (get_prediction) Finished: 0.02021s\n",
      "Function (get_prediction) Finished: 0.01849s\n",
      "Function (get_prediction) Finished: 0.02001s\n"
     ]
    },
    {
     "data": {
      "application/vnd.jupyter.widget-view+json": {
       "model_id": "5c7d3ac7d6794a6883f4a6f7027d3c7c",
       "version_major": 2,
       "version_minor": 0
      },
      "text/html": [
       "<p>Failed to display Jupyter Widget of type <code>HBox</code>.</p>\n",
       "<p>\n",
       "  If you're reading this message in the Jupyter Notebook or JupyterLab Notebook, it may mean\n",
       "  that the widgets JavaScript is still loading. If this message persists, it\n",
       "  likely means that the widgets JavaScript library is either not installed or\n",
       "  not enabled. See the <a href=\"https://ipywidgets.readthedocs.io/en/stable/user_install.html\">Jupyter\n",
       "  Widgets Documentation</a> for setup instructions.\n",
       "</p>\n",
       "<p>\n",
       "  If you're reading this message in another frontend (for example, a static\n",
       "  rendering on GitHub or <a href=\"https://nbviewer.jupyter.org/\">NBViewer</a>),\n",
       "  it may mean that your frontend doesn't currently support widgets.\n",
       "</p>\n"
      ],
      "text/plain": [
       "HBox(children=(IntProgress(value=0, description='Epoch 61', max=173), HTML(value='')))"
      ]
     },
     "metadata": {},
     "output_type": "display_data"
    },
    {
     "name": "stdout",
     "output_type": "stream",
     "text": [
      "\n",
      "Epoch 00062: saving model to ./tmp/weights__5.62--0.86.hdf5\n",
      "Function (get_prediction) Finished: 0.020493s\n",
      "Function (get_prediction) Finished: 0.019618s\n",
      "Function (get_prediction) Finished: 0.029658s\n",
      "Function (get_prediction) Finished: 0.018297s\n",
      "Function (get_prediction) Finished: 0.01788s\n",
      "Function (get_prediction) Finished: 0.02033s\n",
      "Function (get_prediction) Finished: 0.01942s\n",
      "Function (get_prediction) Finished: 0.020066s\n"
     ]
    },
    {
     "data": {
      "application/vnd.jupyter.widget-view+json": {
       "model_id": "36f73a78d56c4edb9d455c24a48cf138",
       "version_major": 2,
       "version_minor": 0
      },
      "text/html": [
       "<p>Failed to display Jupyter Widget of type <code>HBox</code>.</p>\n",
       "<p>\n",
       "  If you're reading this message in the Jupyter Notebook or JupyterLab Notebook, it may mean\n",
       "  that the widgets JavaScript is still loading. If this message persists, it\n",
       "  likely means that the widgets JavaScript library is either not installed or\n",
       "  not enabled. See the <a href=\"https://ipywidgets.readthedocs.io/en/stable/user_install.html\">Jupyter\n",
       "  Widgets Documentation</a> for setup instructions.\n",
       "</p>\n",
       "<p>\n",
       "  If you're reading this message in another frontend (for example, a static\n",
       "  rendering on GitHub or <a href=\"https://nbviewer.jupyter.org/\">NBViewer</a>),\n",
       "  it may mean that your frontend doesn't currently support widgets.\n",
       "</p>\n"
      ],
      "text/plain": [
       "HBox(children=(IntProgress(value=0, description='Epoch 62', max=173), HTML(value='')))"
      ]
     },
     "metadata": {},
     "output_type": "display_data"
    },
    {
     "name": "stdout",
     "output_type": "stream",
     "text": [
      "\n",
      "Epoch 00063: saving model to ./tmp/weights__5.63--0.87.hdf5\n",
      "Function (get_prediction) Finished: 0.023786s\n",
      "Function (get_prediction) Finished: 0.018968s\n",
      "Function (get_prediction) Finished: 0.020708s\n",
      "Function (get_prediction) Finished: 0.02089s\n",
      "Function (get_prediction) Finished: 0.021016s\n",
      "Function (get_prediction) Finished: 0.024635s\n",
      "Function (get_prediction) Finished: 0.021167s\n",
      "Function (get_prediction) Finished: 0.021577s\n"
     ]
    },
    {
     "data": {
      "application/vnd.jupyter.widget-view+json": {
       "model_id": "e1d36a4e605942b285b04135761e39ea",
       "version_major": 2,
       "version_minor": 0
      },
      "text/html": [
       "<p>Failed to display Jupyter Widget of type <code>HBox</code>.</p>\n",
       "<p>\n",
       "  If you're reading this message in the Jupyter Notebook or JupyterLab Notebook, it may mean\n",
       "  that the widgets JavaScript is still loading. If this message persists, it\n",
       "  likely means that the widgets JavaScript library is either not installed or\n",
       "  not enabled. See the <a href=\"https://ipywidgets.readthedocs.io/en/stable/user_install.html\">Jupyter\n",
       "  Widgets Documentation</a> for setup instructions.\n",
       "</p>\n",
       "<p>\n",
       "  If you're reading this message in another frontend (for example, a static\n",
       "  rendering on GitHub or <a href=\"https://nbviewer.jupyter.org/\">NBViewer</a>),\n",
       "  it may mean that your frontend doesn't currently support widgets.\n",
       "</p>\n"
      ],
      "text/plain": [
       "HBox(children=(IntProgress(value=0, description='Epoch 63', max=173), HTML(value='')))"
      ]
     },
     "metadata": {},
     "output_type": "display_data"
    },
    {
     "name": "stdout",
     "output_type": "stream",
     "text": [
      "\n",
      "Epoch 00064: saving model to ./tmp/weights__5.64--0.87.hdf5\n",
      "Function (get_prediction) Finished: 0.01797s\n",
      "Function (get_prediction) Finished: 0.019463s\n",
      "Function (get_prediction) Finished: 0.017091s\n",
      "Function (get_prediction) Finished: 0.016401s\n",
      "Function (get_prediction) Finished: 0.01653s\n",
      "Function (get_prediction) Finished: 0.018115s\n",
      "Function (get_prediction) Finished: 0.019341s\n",
      "Function (get_prediction) Finished: 0.019895s\n"
     ]
    },
    {
     "data": {
      "application/vnd.jupyter.widget-view+json": {
       "model_id": "61e936bae29143279f01d5928e4adb94",
       "version_major": 2,
       "version_minor": 0
      },
      "text/html": [
       "<p>Failed to display Jupyter Widget of type <code>HBox</code>.</p>\n",
       "<p>\n",
       "  If you're reading this message in the Jupyter Notebook or JupyterLab Notebook, it may mean\n",
       "  that the widgets JavaScript is still loading. If this message persists, it\n",
       "  likely means that the widgets JavaScript library is either not installed or\n",
       "  not enabled. See the <a href=\"https://ipywidgets.readthedocs.io/en/stable/user_install.html\">Jupyter\n",
       "  Widgets Documentation</a> for setup instructions.\n",
       "</p>\n",
       "<p>\n",
       "  If you're reading this message in another frontend (for example, a static\n",
       "  rendering on GitHub or <a href=\"https://nbviewer.jupyter.org/\">NBViewer</a>),\n",
       "  it may mean that your frontend doesn't currently support widgets.\n",
       "</p>\n"
      ],
      "text/plain": [
       "HBox(children=(IntProgress(value=0, description='Epoch 64', max=173), HTML(value='')))"
      ]
     },
     "metadata": {},
     "output_type": "display_data"
    },
    {
     "name": "stdout",
     "output_type": "stream",
     "text": [
      "\n",
      "Epoch 00065: saving model to ./tmp/weights__5.65--0.77.hdf5\n",
      "Function (get_prediction) Finished: 0.019694s\n",
      "Function (get_prediction) Finished: 0.019615s\n",
      "Function (get_prediction) Finished: 0.018783s\n",
      "Function (get_prediction) Finished: 0.018469s\n",
      "Function (get_prediction) Finished: 0.016189s\n",
      "Function (get_prediction) Finished: 0.019985s\n",
      "Function (get_prediction) Finished: 0.016476s\n",
      "Function (get_prediction) Finished: 0.017686s\n"
     ]
    },
    {
     "data": {
      "application/vnd.jupyter.widget-view+json": {
       "model_id": "8731ca19266d41b1ac0aa9ead8e9230d",
       "version_major": 2,
       "version_minor": 0
      },
      "text/html": [
       "<p>Failed to display Jupyter Widget of type <code>HBox</code>.</p>\n",
       "<p>\n",
       "  If you're reading this message in the Jupyter Notebook or JupyterLab Notebook, it may mean\n",
       "  that the widgets JavaScript is still loading. If this message persists, it\n",
       "  likely means that the widgets JavaScript library is either not installed or\n",
       "  not enabled. See the <a href=\"https://ipywidgets.readthedocs.io/en/stable/user_install.html\">Jupyter\n",
       "  Widgets Documentation</a> for setup instructions.\n",
       "</p>\n",
       "<p>\n",
       "  If you're reading this message in another frontend (for example, a static\n",
       "  rendering on GitHub or <a href=\"https://nbviewer.jupyter.org/\">NBViewer</a>),\n",
       "  it may mean that your frontend doesn't currently support widgets.\n",
       "</p>\n"
      ],
      "text/plain": [
       "HBox(children=(IntProgress(value=0, description='Epoch 65', max=173), HTML(value='')))"
      ]
     },
     "metadata": {},
     "output_type": "display_data"
    },
    {
     "name": "stdout",
     "output_type": "stream",
     "text": [
      "\n",
      "Epoch 00066: saving model to ./tmp/weights__5.66--0.76.hdf5\n",
      "Function (get_prediction) Finished: 0.021649s\n",
      "Function (get_prediction) Finished: 0.020125s\n",
      "Function (get_prediction) Finished: 0.019298s\n",
      "Function (get_prediction) Finished: 0.018029s\n",
      "Function (get_prediction) Finished: 0.017959s\n",
      "Function (get_prediction) Finished: 0.019363s\n",
      "Function (get_prediction) Finished: 0.018814s\n",
      "Function (get_prediction) Finished: 0.019699s\n"
     ]
    },
    {
     "data": {
      "application/vnd.jupyter.widget-view+json": {
       "model_id": "1bdc9c1ad1fb49aebd91ebc553749c93",
       "version_major": 2,
       "version_minor": 0
      },
      "text/html": [
       "<p>Failed to display Jupyter Widget of type <code>HBox</code>.</p>\n",
       "<p>\n",
       "  If you're reading this message in the Jupyter Notebook or JupyterLab Notebook, it may mean\n",
       "  that the widgets JavaScript is still loading. If this message persists, it\n",
       "  likely means that the widgets JavaScript library is either not installed or\n",
       "  not enabled. See the <a href=\"https://ipywidgets.readthedocs.io/en/stable/user_install.html\">Jupyter\n",
       "  Widgets Documentation</a> for setup instructions.\n",
       "</p>\n",
       "<p>\n",
       "  If you're reading this message in another frontend (for example, a static\n",
       "  rendering on GitHub or <a href=\"https://nbviewer.jupyter.org/\">NBViewer</a>),\n",
       "  it may mean that your frontend doesn't currently support widgets.\n",
       "</p>\n"
      ],
      "text/plain": [
       "HBox(children=(IntProgress(value=0, description='Epoch 66', max=173), HTML(value='')))"
      ]
     },
     "metadata": {},
     "output_type": "display_data"
    },
    {
     "name": "stdout",
     "output_type": "stream",
     "text": [
      "\n",
      "Epoch 00067: saving model to ./tmp/weights__5.67--0.85.hdf5\n",
      "Function (get_prediction) Finished: 0.021161s\n",
      "Function (get_prediction) Finished: 0.020998s\n",
      "Function (get_prediction) Finished: 0.020177s\n",
      "Function (get_prediction) Finished: 0.01813s\n",
      "Function (get_prediction) Finished: 0.018241s\n",
      "Function (get_prediction) Finished: 0.019872s\n",
      "Function (get_prediction) Finished: 0.018292s\n",
      "Function (get_prediction) Finished: 0.020774s\n"
     ]
    },
    {
     "data": {
      "application/vnd.jupyter.widget-view+json": {
       "model_id": "b67dec13e3c74d4dbaf15a3a3de2fb63",
       "version_major": 2,
       "version_minor": 0
      },
      "text/html": [
       "<p>Failed to display Jupyter Widget of type <code>HBox</code>.</p>\n",
       "<p>\n",
       "  If you're reading this message in the Jupyter Notebook or JupyterLab Notebook, it may mean\n",
       "  that the widgets JavaScript is still loading. If this message persists, it\n",
       "  likely means that the widgets JavaScript library is either not installed or\n",
       "  not enabled. See the <a href=\"https://ipywidgets.readthedocs.io/en/stable/user_install.html\">Jupyter\n",
       "  Widgets Documentation</a> for setup instructions.\n",
       "</p>\n",
       "<p>\n",
       "  If you're reading this message in another frontend (for example, a static\n",
       "  rendering on GitHub or <a href=\"https://nbviewer.jupyter.org/\">NBViewer</a>),\n",
       "  it may mean that your frontend doesn't currently support widgets.\n",
       "</p>\n"
      ],
      "text/plain": [
       "HBox(children=(IntProgress(value=0, description='Epoch 67', max=173), HTML(value='')))"
      ]
     },
     "metadata": {},
     "output_type": "display_data"
    },
    {
     "name": "stdout",
     "output_type": "stream",
     "text": [
      "\n",
      "Epoch 00068: saving model to ./tmp/weights__5.68--0.86.hdf5\n",
      "Function (get_prediction) Finished: 0.019634s\n",
      "Function (get_prediction) Finished: 0.01956s\n",
      "Function (get_prediction) Finished: 0.021898s\n",
      "Function (get_prediction) Finished: 0.022312s\n",
      "Function (get_prediction) Finished: 0.02047s\n",
      "Function (get_prediction) Finished: 0.020047s\n",
      "Function (get_prediction) Finished: 0.019037s\n",
      "Function (get_prediction) Finished: 0.02513s\n"
     ]
    },
    {
     "data": {
      "application/vnd.jupyter.widget-view+json": {
       "model_id": "3e6aede36ea84d1a814c3c03b8c17d4a",
       "version_major": 2,
       "version_minor": 0
      },
      "text/html": [
       "<p>Failed to display Jupyter Widget of type <code>HBox</code>.</p>\n",
       "<p>\n",
       "  If you're reading this message in the Jupyter Notebook or JupyterLab Notebook, it may mean\n",
       "  that the widgets JavaScript is still loading. If this message persists, it\n",
       "  likely means that the widgets JavaScript library is either not installed or\n",
       "  not enabled. See the <a href=\"https://ipywidgets.readthedocs.io/en/stable/user_install.html\">Jupyter\n",
       "  Widgets Documentation</a> for setup instructions.\n",
       "</p>\n",
       "<p>\n",
       "  If you're reading this message in another frontend (for example, a static\n",
       "  rendering on GitHub or <a href=\"https://nbviewer.jupyter.org/\">NBViewer</a>),\n",
       "  it may mean that your frontend doesn't currently support widgets.\n",
       "</p>\n"
      ],
      "text/plain": [
       "HBox(children=(IntProgress(value=0, description='Epoch 68', max=173), HTML(value='')))"
      ]
     },
     "metadata": {},
     "output_type": "display_data"
    },
    {
     "name": "stdout",
     "output_type": "stream",
     "text": [
      "\n",
      "Epoch 00069: saving model to ./tmp/weights__5.69--0.86.hdf5\n",
      "Function (get_prediction) Finished: 0.020042s\n",
      "Function (get_prediction) Finished: 0.02046s\n",
      "Function (get_prediction) Finished: 0.018959s\n",
      "Function (get_prediction) Finished: 0.018244s\n",
      "Function (get_prediction) Finished: 0.018223s\n",
      "Function (get_prediction) Finished: 0.022344s\n",
      "Function (get_prediction) Finished: 0.019877s\n",
      "Function (get_prediction) Finished: 0.023757s\n"
     ]
    },
    {
     "data": {
      "application/vnd.jupyter.widget-view+json": {
       "model_id": "94ff19ef4a034d74930576a5a2514e89",
       "version_major": 2,
       "version_minor": 0
      },
      "text/html": [
       "<p>Failed to display Jupyter Widget of type <code>HBox</code>.</p>\n",
       "<p>\n",
       "  If you're reading this message in the Jupyter Notebook or JupyterLab Notebook, it may mean\n",
       "  that the widgets JavaScript is still loading. If this message persists, it\n",
       "  likely means that the widgets JavaScript library is either not installed or\n",
       "  not enabled. See the <a href=\"https://ipywidgets.readthedocs.io/en/stable/user_install.html\">Jupyter\n",
       "  Widgets Documentation</a> for setup instructions.\n",
       "</p>\n",
       "<p>\n",
       "  If you're reading this message in another frontend (for example, a static\n",
       "  rendering on GitHub or <a href=\"https://nbviewer.jupyter.org/\">NBViewer</a>),\n",
       "  it may mean that your frontend doesn't currently support widgets.\n",
       "</p>\n"
      ],
      "text/plain": [
       "HBox(children=(IntProgress(value=0, description='Epoch 69', max=173), HTML(value='')))"
      ]
     },
     "metadata": {},
     "output_type": "display_data"
    },
    {
     "name": "stdout",
     "output_type": "stream",
     "text": [
      "\n",
      "Epoch 00070: saving model to ./tmp/weights__5.70--0.78.hdf5\n",
      "Function (get_prediction) Finished: 0.019603s\n",
      "Function (get_prediction) Finished: 0.020445s\n",
      "Function (get_prediction) Finished: 0.019331s\n",
      "Function (get_prediction) Finished: 0.017911s\n",
      "Function (get_prediction) Finished: 0.017278s\n",
      "Function (get_prediction) Finished: 0.019555s\n",
      "Function (get_prediction) Finished: 0.018647s\n",
      "Function (get_prediction) Finished: 0.021359s\n"
     ]
    },
    {
     "data": {
      "application/vnd.jupyter.widget-view+json": {
       "model_id": "0ff0c416175c44918b7d37b030e0ed38",
       "version_major": 2,
       "version_minor": 0
      },
      "text/html": [
       "<p>Failed to display Jupyter Widget of type <code>HBox</code>.</p>\n",
       "<p>\n",
       "  If you're reading this message in the Jupyter Notebook or JupyterLab Notebook, it may mean\n",
       "  that the widgets JavaScript is still loading. If this message persists, it\n",
       "  likely means that the widgets JavaScript library is either not installed or\n",
       "  not enabled. See the <a href=\"https://ipywidgets.readthedocs.io/en/stable/user_install.html\">Jupyter\n",
       "  Widgets Documentation</a> for setup instructions.\n",
       "</p>\n",
       "<p>\n",
       "  If you're reading this message in another frontend (for example, a static\n",
       "  rendering on GitHub or <a href=\"https://nbviewer.jupyter.org/\">NBViewer</a>),\n",
       "  it may mean that your frontend doesn't currently support widgets.\n",
       "</p>\n"
      ],
      "text/plain": [
       "HBox(children=(IntProgress(value=0, description='Epoch 70', max=173), HTML(value='')))"
      ]
     },
     "metadata": {},
     "output_type": "display_data"
    },
    {
     "name": "stdout",
     "output_type": "stream",
     "text": [
      "\n",
      "Epoch 00071: saving model to ./tmp/weights__5.71--0.67.hdf5\n",
      "Function (get_prediction) Finished: 0.021163s\n",
      "Function (get_prediction) Finished: 0.019831s\n",
      "Function (get_prediction) Finished: 0.019092s\n",
      "Function (get_prediction) Finished: 0.017756s\n",
      "Function (get_prediction) Finished: 0.015621s\n",
      "Function (get_prediction) Finished: 0.018604s\n",
      "Function (get_prediction) Finished: 0.016644s\n",
      "Function (get_prediction) Finished: 0.019664s\n"
     ]
    },
    {
     "data": {
      "application/vnd.jupyter.widget-view+json": {
       "model_id": "d759c172d85a46fb97433ce53e704dde",
       "version_major": 2,
       "version_minor": 0
      },
      "text/html": [
       "<p>Failed to display Jupyter Widget of type <code>HBox</code>.</p>\n",
       "<p>\n",
       "  If you're reading this message in the Jupyter Notebook or JupyterLab Notebook, it may mean\n",
       "  that the widgets JavaScript is still loading. If this message persists, it\n",
       "  likely means that the widgets JavaScript library is either not installed or\n",
       "  not enabled. See the <a href=\"https://ipywidgets.readthedocs.io/en/stable/user_install.html\">Jupyter\n",
       "  Widgets Documentation</a> for setup instructions.\n",
       "</p>\n",
       "<p>\n",
       "  If you're reading this message in another frontend (for example, a static\n",
       "  rendering on GitHub or <a href=\"https://nbviewer.jupyter.org/\">NBViewer</a>),\n",
       "  it may mean that your frontend doesn't currently support widgets.\n",
       "</p>\n"
      ],
      "text/plain": [
       "HBox(children=(IntProgress(value=0, description='Epoch 71', max=173), HTML(value='')))"
      ]
     },
     "metadata": {},
     "output_type": "display_data"
    },
    {
     "name": "stdout",
     "output_type": "stream",
     "text": [
      "\n",
      "Epoch 00072: saving model to ./tmp/weights__5.72--0.86.hdf5\n",
      "Function (get_prediction) Finished: 0.020988s\n",
      "Function (get_prediction) Finished: 0.020166s\n",
      "Function (get_prediction) Finished: 0.018796s\n",
      "Function (get_prediction) Finished: 0.017847s\n",
      "Function (get_prediction) Finished: 0.018132s\n",
      "Function (get_prediction) Finished: 0.020611s\n",
      "Function (get_prediction) Finished: 0.018561s\n",
      "Function (get_prediction) Finished: 0.020756s\n"
     ]
    },
    {
     "data": {
      "application/vnd.jupyter.widget-view+json": {
       "model_id": "486ad079d30949db82bbf7881e5c759a",
       "version_major": 2,
       "version_minor": 0
      },
      "text/html": [
       "<p>Failed to display Jupyter Widget of type <code>HBox</code>.</p>\n",
       "<p>\n",
       "  If you're reading this message in the Jupyter Notebook or JupyterLab Notebook, it may mean\n",
       "  that the widgets JavaScript is still loading. If this message persists, it\n",
       "  likely means that the widgets JavaScript library is either not installed or\n",
       "  not enabled. See the <a href=\"https://ipywidgets.readthedocs.io/en/stable/user_install.html\">Jupyter\n",
       "  Widgets Documentation</a> for setup instructions.\n",
       "</p>\n",
       "<p>\n",
       "  If you're reading this message in another frontend (for example, a static\n",
       "  rendering on GitHub or <a href=\"https://nbviewer.jupyter.org/\">NBViewer</a>),\n",
       "  it may mean that your frontend doesn't currently support widgets.\n",
       "</p>\n"
      ],
      "text/plain": [
       "HBox(children=(IntProgress(value=0, description='Epoch 72', max=173), HTML(value='')))"
      ]
     },
     "metadata": {},
     "output_type": "display_data"
    },
    {
     "name": "stdout",
     "output_type": "stream",
     "text": [
      "\n",
      "Epoch 00073: saving model to ./tmp/weights__5.73--0.88.hdf5\n",
      "Function (get_prediction) Finished: 0.02005s\n",
      "Function (get_prediction) Finished: 0.021111s\n",
      "Function (get_prediction) Finished: 0.020627s\n",
      "Function (get_prediction) Finished: 0.019162s\n",
      "Function (get_prediction) Finished: 0.0213s\n",
      "Function (get_prediction) Finished: 0.020045s\n",
      "Function (get_prediction) Finished: 0.018385s\n",
      "Function (get_prediction) Finished: 0.02484s\n"
     ]
    },
    {
     "data": {
      "application/vnd.jupyter.widget-view+json": {
       "model_id": "a1b6807435cc4038a5c1c1d9801daf30",
       "version_major": 2,
       "version_minor": 0
      },
      "text/html": [
       "<p>Failed to display Jupyter Widget of type <code>HBox</code>.</p>\n",
       "<p>\n",
       "  If you're reading this message in the Jupyter Notebook or JupyterLab Notebook, it may mean\n",
       "  that the widgets JavaScript is still loading. If this message persists, it\n",
       "  likely means that the widgets JavaScript library is either not installed or\n",
       "  not enabled. See the <a href=\"https://ipywidgets.readthedocs.io/en/stable/user_install.html\">Jupyter\n",
       "  Widgets Documentation</a> for setup instructions.\n",
       "</p>\n",
       "<p>\n",
       "  If you're reading this message in another frontend (for example, a static\n",
       "  rendering on GitHub or <a href=\"https://nbviewer.jupyter.org/\">NBViewer</a>),\n",
       "  it may mean that your frontend doesn't currently support widgets.\n",
       "</p>\n"
      ],
      "text/plain": [
       "HBox(children=(IntProgress(value=0, description='Epoch 73', max=173), HTML(value='')))"
      ]
     },
     "metadata": {},
     "output_type": "display_data"
    },
    {
     "name": "stdout",
     "output_type": "stream",
     "text": [
      "\n",
      "Epoch 00074: saving model to ./tmp/weights__5.74--0.87.hdf5\n",
      "Function (get_prediction) Finished: 0.021107s\n",
      "Function (get_prediction) Finished: 0.017374s\n",
      "Function (get_prediction) Finished: 0.016368s\n",
      "Function (get_prediction) Finished: 0.016463s\n",
      "Function (get_prediction) Finished: 0.016549s\n",
      "Function (get_prediction) Finished: 0.018723s\n",
      "Function (get_prediction) Finished: 0.017013s\n",
      "Function (get_prediction) Finished: 0.022284s\n"
     ]
    },
    {
     "data": {
      "application/vnd.jupyter.widget-view+json": {
       "model_id": "d25f650e4f714ece8bf9fe3f7716f038",
       "version_major": 2,
       "version_minor": 0
      },
      "text/html": [
       "<p>Failed to display Jupyter Widget of type <code>HBox</code>.</p>\n",
       "<p>\n",
       "  If you're reading this message in the Jupyter Notebook or JupyterLab Notebook, it may mean\n",
       "  that the widgets JavaScript is still loading. If this message persists, it\n",
       "  likely means that the widgets JavaScript library is either not installed or\n",
       "  not enabled. See the <a href=\"https://ipywidgets.readthedocs.io/en/stable/user_install.html\">Jupyter\n",
       "  Widgets Documentation</a> for setup instructions.\n",
       "</p>\n",
       "<p>\n",
       "  If you're reading this message in another frontend (for example, a static\n",
       "  rendering on GitHub or <a href=\"https://nbviewer.jupyter.org/\">NBViewer</a>),\n",
       "  it may mean that your frontend doesn't currently support widgets.\n",
       "</p>\n"
      ],
      "text/plain": [
       "HBox(children=(IntProgress(value=0, description='Epoch 74', max=173), HTML(value='')))"
      ]
     },
     "metadata": {},
     "output_type": "display_data"
    },
    {
     "name": "stdout",
     "output_type": "stream",
     "text": [
      "\n",
      "Epoch 00075: saving model to ./tmp/weights__5.75--0.88.hdf5\n",
      "Function (get_prediction) Finished: 0.021495s\n",
      "Function (get_prediction) Finished: 0.01974s\n",
      "Function (get_prediction) Finished: 0.025402s\n",
      "Function (get_prediction) Finished: 0.016504s\n",
      "Function (get_prediction) Finished: 0.015662s\n",
      "Function (get_prediction) Finished: 0.018587s\n",
      "Function (get_prediction) Finished: 0.017076s\n",
      "Function (get_prediction) Finished: 0.018482s\n"
     ]
    },
    {
     "data": {
      "application/vnd.jupyter.widget-view+json": {
       "model_id": "4475fc16b6304a6ca2c4ddcb5acc28c4",
       "version_major": 2,
       "version_minor": 0
      },
      "text/html": [
       "<p>Failed to display Jupyter Widget of type <code>HBox</code>.</p>\n",
       "<p>\n",
       "  If you're reading this message in the Jupyter Notebook or JupyterLab Notebook, it may mean\n",
       "  that the widgets JavaScript is still loading. If this message persists, it\n",
       "  likely means that the widgets JavaScript library is either not installed or\n",
       "  not enabled. See the <a href=\"https://ipywidgets.readthedocs.io/en/stable/user_install.html\">Jupyter\n",
       "  Widgets Documentation</a> for setup instructions.\n",
       "</p>\n",
       "<p>\n",
       "  If you're reading this message in another frontend (for example, a static\n",
       "  rendering on GitHub or <a href=\"https://nbviewer.jupyter.org/\">NBViewer</a>),\n",
       "  it may mean that your frontend doesn't currently support widgets.\n",
       "</p>\n"
      ],
      "text/plain": [
       "HBox(children=(IntProgress(value=0, description='Epoch 75', max=173), HTML(value='')))"
      ]
     },
     "metadata": {},
     "output_type": "display_data"
    },
    {
     "name": "stdout",
     "output_type": "stream",
     "text": [
      "\n",
      "Epoch 00076: saving model to ./tmp/weights__5.76--0.89.hdf5\n",
      "Function (get_prediction) Finished: 0.020577s\n",
      "Function (get_prediction) Finished: 0.020396s\n",
      "Function (get_prediction) Finished: 0.020007s\n",
      "Function (get_prediction) Finished: 0.01809s\n",
      "Function (get_prediction) Finished: 0.018321s\n",
      "Function (get_prediction) Finished: 0.020317s\n",
      "Function (get_prediction) Finished: 0.018558s\n",
      "Function (get_prediction) Finished: 0.021118s\n"
     ]
    },
    {
     "data": {
      "application/vnd.jupyter.widget-view+json": {
       "model_id": "e19aca019f9740d3983f5afad03dee08",
       "version_major": 2,
       "version_minor": 0
      },
      "text/html": [
       "<p>Failed to display Jupyter Widget of type <code>HBox</code>.</p>\n",
       "<p>\n",
       "  If you're reading this message in the Jupyter Notebook or JupyterLab Notebook, it may mean\n",
       "  that the widgets JavaScript is still loading. If this message persists, it\n",
       "  likely means that the widgets JavaScript library is either not installed or\n",
       "  not enabled. See the <a href=\"https://ipywidgets.readthedocs.io/en/stable/user_install.html\">Jupyter\n",
       "  Widgets Documentation</a> for setup instructions.\n",
       "</p>\n",
       "<p>\n",
       "  If you're reading this message in another frontend (for example, a static\n",
       "  rendering on GitHub or <a href=\"https://nbviewer.jupyter.org/\">NBViewer</a>),\n",
       "  it may mean that your frontend doesn't currently support widgets.\n",
       "</p>\n"
      ],
      "text/plain": [
       "HBox(children=(IntProgress(value=0, description='Epoch 76', max=173), HTML(value='')))"
      ]
     },
     "metadata": {},
     "output_type": "display_data"
    },
    {
     "name": "stdout",
     "output_type": "stream",
     "text": [
      "\n",
      "Epoch 00077: saving model to ./tmp/weights__5.77--0.89.hdf5\n",
      "Function (get_prediction) Finished: 0.020129s\n",
      "Function (get_prediction) Finished: 0.020162s\n",
      "Function (get_prediction) Finished: 0.019961s\n",
      "Function (get_prediction) Finished: 0.018504s\n",
      "Function (get_prediction) Finished: 0.018284s\n",
      "Function (get_prediction) Finished: 0.020429s\n",
      "Function (get_prediction) Finished: 0.018409s\n",
      "Function (get_prediction) Finished: 0.020673s\n"
     ]
    },
    {
     "data": {
      "application/vnd.jupyter.widget-view+json": {
       "model_id": "3a610789e2164883bd08cb0ff7452ec2",
       "version_major": 2,
       "version_minor": 0
      },
      "text/html": [
       "<p>Failed to display Jupyter Widget of type <code>HBox</code>.</p>\n",
       "<p>\n",
       "  If you're reading this message in the Jupyter Notebook or JupyterLab Notebook, it may mean\n",
       "  that the widgets JavaScript is still loading. If this message persists, it\n",
       "  likely means that the widgets JavaScript library is either not installed or\n",
       "  not enabled. See the <a href=\"https://ipywidgets.readthedocs.io/en/stable/user_install.html\">Jupyter\n",
       "  Widgets Documentation</a> for setup instructions.\n",
       "</p>\n",
       "<p>\n",
       "  If you're reading this message in another frontend (for example, a static\n",
       "  rendering on GitHub or <a href=\"https://nbviewer.jupyter.org/\">NBViewer</a>),\n",
       "  it may mean that your frontend doesn't currently support widgets.\n",
       "</p>\n"
      ],
      "text/plain": [
       "HBox(children=(IntProgress(value=0, description='Epoch 77', max=173), HTML(value='')))"
      ]
     },
     "metadata": {},
     "output_type": "display_data"
    },
    {
     "name": "stdout",
     "output_type": "stream",
     "text": [
      "\n",
      "Epoch 00078: saving model to ./tmp/weights__5.78--0.89.hdf5\n",
      "Function (get_prediction) Finished: 0.021507s\n",
      "Function (get_prediction) Finished: 0.022914s\n",
      "Function (get_prediction) Finished: 0.022009s\n",
      "Function (get_prediction) Finished: 0.017504s\n",
      "Function (get_prediction) Finished: 0.019349s\n",
      "Function (get_prediction) Finished: 0.023614s\n",
      "Function (get_prediction) Finished: 0.020787s\n",
      "Function (get_prediction) Finished: 0.021436s\n"
     ]
    },
    {
     "data": {
      "application/vnd.jupyter.widget-view+json": {
       "model_id": "d418b67dd31941e98f591da34b259ccb",
       "version_major": 2,
       "version_minor": 0
      },
      "text/html": [
       "<p>Failed to display Jupyter Widget of type <code>HBox</code>.</p>\n",
       "<p>\n",
       "  If you're reading this message in the Jupyter Notebook or JupyterLab Notebook, it may mean\n",
       "  that the widgets JavaScript is still loading. If this message persists, it\n",
       "  likely means that the widgets JavaScript library is either not installed or\n",
       "  not enabled. See the <a href=\"https://ipywidgets.readthedocs.io/en/stable/user_install.html\">Jupyter\n",
       "  Widgets Documentation</a> for setup instructions.\n",
       "</p>\n",
       "<p>\n",
       "  If you're reading this message in another frontend (for example, a static\n",
       "  rendering on GitHub or <a href=\"https://nbviewer.jupyter.org/\">NBViewer</a>),\n",
       "  it may mean that your frontend doesn't currently support widgets.\n",
       "</p>\n"
      ],
      "text/plain": [
       "HBox(children=(IntProgress(value=0, description='Epoch 78', max=173), HTML(value='')))"
      ]
     },
     "metadata": {},
     "output_type": "display_data"
    },
    {
     "name": "stdout",
     "output_type": "stream",
     "text": [
      "\n",
      "Epoch 00079: saving model to ./tmp/weights__5.79--0.88.hdf5\n",
      "Function (get_prediction) Finished: 0.020141s\n",
      "Function (get_prediction) Finished: 0.019382s\n",
      "Function (get_prediction) Finished: 0.022208s\n",
      "Function (get_prediction) Finished: 0.020105s\n",
      "Function (get_prediction) Finished: 0.021759s\n",
      "Function (get_prediction) Finished: 0.022286s\n",
      "Function (get_prediction) Finished: 0.019421s\n",
      "Function (get_prediction) Finished: 0.024367s\n"
     ]
    },
    {
     "data": {
      "application/vnd.jupyter.widget-view+json": {
       "model_id": "c0d1543c82e8436cb912122f5177a100",
       "version_major": 2,
       "version_minor": 0
      },
      "text/html": [
       "<p>Failed to display Jupyter Widget of type <code>HBox</code>.</p>\n",
       "<p>\n",
       "  If you're reading this message in the Jupyter Notebook or JupyterLab Notebook, it may mean\n",
       "  that the widgets JavaScript is still loading. If this message persists, it\n",
       "  likely means that the widgets JavaScript library is either not installed or\n",
       "  not enabled. See the <a href=\"https://ipywidgets.readthedocs.io/en/stable/user_install.html\">Jupyter\n",
       "  Widgets Documentation</a> for setup instructions.\n",
       "</p>\n",
       "<p>\n",
       "  If you're reading this message in another frontend (for example, a static\n",
       "  rendering on GitHub or <a href=\"https://nbviewer.jupyter.org/\">NBViewer</a>),\n",
       "  it may mean that your frontend doesn't currently support widgets.\n",
       "</p>\n"
      ],
      "text/plain": [
       "HBox(children=(IntProgress(value=0, description='Epoch 79', max=173), HTML(value='')))"
      ]
     },
     "metadata": {},
     "output_type": "display_data"
    },
    {
     "name": "stdout",
     "output_type": "stream",
     "text": [
      "\n",
      "Epoch 00080: saving model to ./tmp/weights__5.80--0.89.hdf5\n",
      "Function (get_prediction) Finished: 0.020554s\n",
      "Function (get_prediction) Finished: 0.020463s\n",
      "Function (get_prediction) Finished: 0.019408s\n",
      "Function (get_prediction) Finished: 0.018456s\n",
      "Function (get_prediction) Finished: 0.01881s\n",
      "Function (get_prediction) Finished: 0.020637s\n",
      "Function (get_prediction) Finished: 0.017861s\n",
      "Function (get_prediction) Finished: 0.020865s\n"
     ]
    },
    {
     "data": {
      "application/vnd.jupyter.widget-view+json": {
       "model_id": "70f3cba57eee4cae8cfc9143d5b20a6e",
       "version_major": 2,
       "version_minor": 0
      },
      "text/html": [
       "<p>Failed to display Jupyter Widget of type <code>HBox</code>.</p>\n",
       "<p>\n",
       "  If you're reading this message in the Jupyter Notebook or JupyterLab Notebook, it may mean\n",
       "  that the widgets JavaScript is still loading. If this message persists, it\n",
       "  likely means that the widgets JavaScript library is either not installed or\n",
       "  not enabled. See the <a href=\"https://ipywidgets.readthedocs.io/en/stable/user_install.html\">Jupyter\n",
       "  Widgets Documentation</a> for setup instructions.\n",
       "</p>\n",
       "<p>\n",
       "  If you're reading this message in another frontend (for example, a static\n",
       "  rendering on GitHub or <a href=\"https://nbviewer.jupyter.org/\">NBViewer</a>),\n",
       "  it may mean that your frontend doesn't currently support widgets.\n",
       "</p>\n"
      ],
      "text/plain": [
       "HBox(children=(IntProgress(value=0, description='Epoch 80', max=173), HTML(value='')))"
      ]
     },
     "metadata": {},
     "output_type": "display_data"
    },
    {
     "name": "stdout",
     "output_type": "stream",
     "text": [
      "\n",
      "Epoch 00081: saving model to ./tmp/weights__5.81--0.89.hdf5\n",
      "Function (get_prediction) Finished: 0.021053s\n",
      "Function (get_prediction) Finished: 0.020983s\n",
      "Function (get_prediction) Finished: 0.019966s\n",
      "Function (get_prediction) Finished: 0.018136s\n",
      "Function (get_prediction) Finished: 0.018339s\n",
      "Function (get_prediction) Finished: 0.027571s\n",
      "Function (get_prediction) Finished: 0.016049s\n",
      "Function (get_prediction) Finished: 0.019033s\n"
     ]
    },
    {
     "data": {
      "application/vnd.jupyter.widget-view+json": {
       "model_id": "f394454646244c3299e4c7fe04a71225",
       "version_major": 2,
       "version_minor": 0
      },
      "text/html": [
       "<p>Failed to display Jupyter Widget of type <code>HBox</code>.</p>\n",
       "<p>\n",
       "  If you're reading this message in the Jupyter Notebook or JupyterLab Notebook, it may mean\n",
       "  that the widgets JavaScript is still loading. If this message persists, it\n",
       "  likely means that the widgets JavaScript library is either not installed or\n",
       "  not enabled. See the <a href=\"https://ipywidgets.readthedocs.io/en/stable/user_install.html\">Jupyter\n",
       "  Widgets Documentation</a> for setup instructions.\n",
       "</p>\n",
       "<p>\n",
       "  If you're reading this message in another frontend (for example, a static\n",
       "  rendering on GitHub or <a href=\"https://nbviewer.jupyter.org/\">NBViewer</a>),\n",
       "  it may mean that your frontend doesn't currently support widgets.\n",
       "</p>\n"
      ],
      "text/plain": [
       "HBox(children=(IntProgress(value=0, description='Epoch 81', max=173), HTML(value='')))"
      ]
     },
     "metadata": {},
     "output_type": "display_data"
    },
    {
     "name": "stdout",
     "output_type": "stream",
     "text": [
      "\n",
      "Epoch 00082: saving model to ./tmp/weights__5.82--0.82.hdf5\n",
      "Function (get_prediction) Finished: 0.020176s\n",
      "Function (get_prediction) Finished: 0.017686s\n",
      "Function (get_prediction) Finished: 0.017995s\n",
      "Function (get_prediction) Finished: 0.016372s\n",
      "Function (get_prediction) Finished: 0.016107s\n",
      "Function (get_prediction) Finished: 0.018192s\n",
      "Function (get_prediction) Finished: 0.022136s\n",
      "Function (get_prediction) Finished: 0.0216s\n"
     ]
    },
    {
     "data": {
      "application/vnd.jupyter.widget-view+json": {
       "model_id": "2b38de3282d042e7be6efc533ff9e8fd",
       "version_major": 2,
       "version_minor": 0
      },
      "text/html": [
       "<p>Failed to display Jupyter Widget of type <code>HBox</code>.</p>\n",
       "<p>\n",
       "  If you're reading this message in the Jupyter Notebook or JupyterLab Notebook, it may mean\n",
       "  that the widgets JavaScript is still loading. If this message persists, it\n",
       "  likely means that the widgets JavaScript library is either not installed or\n",
       "  not enabled. See the <a href=\"https://ipywidgets.readthedocs.io/en/stable/user_install.html\">Jupyter\n",
       "  Widgets Documentation</a> for setup instructions.\n",
       "</p>\n",
       "<p>\n",
       "  If you're reading this message in another frontend (for example, a static\n",
       "  rendering on GitHub or <a href=\"https://nbviewer.jupyter.org/\">NBViewer</a>),\n",
       "  it may mean that your frontend doesn't currently support widgets.\n",
       "</p>\n"
      ],
      "text/plain": [
       "HBox(children=(IntProgress(value=0, description='Epoch 82', max=173), HTML(value='')))"
      ]
     },
     "metadata": {},
     "output_type": "display_data"
    },
    {
     "name": "stdout",
     "output_type": "stream",
     "text": [
      "\n",
      "Epoch 00083: saving model to ./tmp/weights__5.83--0.56.hdf5\n",
      "Function (get_prediction) Finished: 0.020443s\n",
      "Function (get_prediction) Finished: 0.019475s\n",
      "Function (get_prediction) Finished: 0.018548s\n",
      "Function (get_prediction) Finished: 0.018706s\n",
      "Function (get_prediction) Finished: 0.018642s\n",
      "Function (get_prediction) Finished: 0.020593s\n",
      "Function (get_prediction) Finished: 0.018562s\n",
      "Function (get_prediction) Finished: 0.020534s\n"
     ]
    },
    {
     "data": {
      "application/vnd.jupyter.widget-view+json": {
       "model_id": "ee59e22f56bf4ca899bd33849ef1699e",
       "version_major": 2,
       "version_minor": 0
      },
      "text/html": [
       "<p>Failed to display Jupyter Widget of type <code>HBox</code>.</p>\n",
       "<p>\n",
       "  If you're reading this message in the Jupyter Notebook or JupyterLab Notebook, it may mean\n",
       "  that the widgets JavaScript is still loading. If this message persists, it\n",
       "  likely means that the widgets JavaScript library is either not installed or\n",
       "  not enabled. See the <a href=\"https://ipywidgets.readthedocs.io/en/stable/user_install.html\">Jupyter\n",
       "  Widgets Documentation</a> for setup instructions.\n",
       "</p>\n",
       "<p>\n",
       "  If you're reading this message in another frontend (for example, a static\n",
       "  rendering on GitHub or <a href=\"https://nbviewer.jupyter.org/\">NBViewer</a>),\n",
       "  it may mean that your frontend doesn't currently support widgets.\n",
       "</p>\n"
      ],
      "text/plain": [
       "HBox(children=(IntProgress(value=0, description='Epoch 83', max=173), HTML(value='')))"
      ]
     },
     "metadata": {},
     "output_type": "display_data"
    },
    {
     "name": "stdout",
     "output_type": "stream",
     "text": [
      "\n",
      "Epoch 00084: saving model to ./tmp/weights__5.84--0.84.hdf5\n",
      "Function (get_prediction) Finished: 0.023488s\n",
      "Function (get_prediction) Finished: 0.02014s\n",
      "Function (get_prediction) Finished: 0.019604s\n",
      "Function (get_prediction) Finished: 0.018577s\n",
      "Function (get_prediction) Finished: 0.01818s\n",
      "Function (get_prediction) Finished: 0.020054s\n",
      "Function (get_prediction) Finished: 0.019184s\n",
      "Function (get_prediction) Finished: 0.020545s\n"
     ]
    },
    {
     "data": {
      "application/vnd.jupyter.widget-view+json": {
       "model_id": "23851cf8d5e94ebfab50b288fc484580",
       "version_major": 2,
       "version_minor": 0
      },
      "text/html": [
       "<p>Failed to display Jupyter Widget of type <code>HBox</code>.</p>\n",
       "<p>\n",
       "  If you're reading this message in the Jupyter Notebook or JupyterLab Notebook, it may mean\n",
       "  that the widgets JavaScript is still loading. If this message persists, it\n",
       "  likely means that the widgets JavaScript library is either not installed or\n",
       "  not enabled. See the <a href=\"https://ipywidgets.readthedocs.io/en/stable/user_install.html\">Jupyter\n",
       "  Widgets Documentation</a> for setup instructions.\n",
       "</p>\n",
       "<p>\n",
       "  If you're reading this message in another frontend (for example, a static\n",
       "  rendering on GitHub or <a href=\"https://nbviewer.jupyter.org/\">NBViewer</a>),\n",
       "  it may mean that your frontend doesn't currently support widgets.\n",
       "</p>\n"
      ],
      "text/plain": [
       "HBox(children=(IntProgress(value=0, description='Epoch 84', max=173), HTML(value='')))"
      ]
     },
     "metadata": {},
     "output_type": "display_data"
    },
    {
     "name": "stdout",
     "output_type": "stream",
     "text": [
      "\n",
      "Epoch 00085: saving model to ./tmp/weights__5.85--0.88.hdf5\n",
      "Function (get_prediction) Finished: 0.02077s\n",
      "Function (get_prediction) Finished: 0.017883s\n",
      "Function (get_prediction) Finished: 0.018126s\n",
      "Function (get_prediction) Finished: 0.016217s\n",
      "Function (get_prediction) Finished: 0.015594s\n",
      "Function (get_prediction) Finished: 0.02123s\n",
      "Function (get_prediction) Finished: 0.017629s\n",
      "Function (get_prediction) Finished: 0.02067s\n"
     ]
    },
    {
     "data": {
      "application/vnd.jupyter.widget-view+json": {
       "model_id": "01547c1cc0444e8db4b3b712ecd3f524",
       "version_major": 2,
       "version_minor": 0
      },
      "text/html": [
       "<p>Failed to display Jupyter Widget of type <code>HBox</code>.</p>\n",
       "<p>\n",
       "  If you're reading this message in the Jupyter Notebook or JupyterLab Notebook, it may mean\n",
       "  that the widgets JavaScript is still loading. If this message persists, it\n",
       "  likely means that the widgets JavaScript library is either not installed or\n",
       "  not enabled. See the <a href=\"https://ipywidgets.readthedocs.io/en/stable/user_install.html\">Jupyter\n",
       "  Widgets Documentation</a> for setup instructions.\n",
       "</p>\n",
       "<p>\n",
       "  If you're reading this message in another frontend (for example, a static\n",
       "  rendering on GitHub or <a href=\"https://nbviewer.jupyter.org/\">NBViewer</a>),\n",
       "  it may mean that your frontend doesn't currently support widgets.\n",
       "</p>\n"
      ],
      "text/plain": [
       "HBox(children=(IntProgress(value=0, description='Epoch 85', max=173), HTML(value='')))"
      ]
     },
     "metadata": {},
     "output_type": "display_data"
    },
    {
     "name": "stdout",
     "output_type": "stream",
     "text": [
      "\n",
      "Epoch 00086: saving model to ./tmp/weights__5.86--0.52.hdf5\n",
      "Function (get_prediction) Finished: 0.020019s\n",
      "Function (get_prediction) Finished: 0.019824s\n",
      "Function (get_prediction) Finished: 0.019812s\n",
      "Function (get_prediction) Finished: 0.018378s\n",
      "Function (get_prediction) Finished: 0.018077s\n",
      "Function (get_prediction) Finished: 0.020884s\n",
      "Function (get_prediction) Finished: 0.018944s\n",
      "Function (get_prediction) Finished: 0.020358s\n"
     ]
    },
    {
     "data": {
      "application/vnd.jupyter.widget-view+json": {
       "model_id": "194187d38a334a608113d2e22230c95c",
       "version_major": 2,
       "version_minor": 0
      },
      "text/html": [
       "<p>Failed to display Jupyter Widget of type <code>HBox</code>.</p>\n",
       "<p>\n",
       "  If you're reading this message in the Jupyter Notebook or JupyterLab Notebook, it may mean\n",
       "  that the widgets JavaScript is still loading. If this message persists, it\n",
       "  likely means that the widgets JavaScript library is either not installed or\n",
       "  not enabled. See the <a href=\"https://ipywidgets.readthedocs.io/en/stable/user_install.html\">Jupyter\n",
       "  Widgets Documentation</a> for setup instructions.\n",
       "</p>\n",
       "<p>\n",
       "  If you're reading this message in another frontend (for example, a static\n",
       "  rendering on GitHub or <a href=\"https://nbviewer.jupyter.org/\">NBViewer</a>),\n",
       "  it may mean that your frontend doesn't currently support widgets.\n",
       "</p>\n"
      ],
      "text/plain": [
       "HBox(children=(IntProgress(value=0, description='Epoch 86', max=173), HTML(value='')))"
      ]
     },
     "metadata": {},
     "output_type": "display_data"
    },
    {
     "name": "stdout",
     "output_type": "stream",
     "text": [
      "\n",
      "Epoch 00087: saving model to ./tmp/weights__5.87--0.78.hdf5\n",
      "Function (get_prediction) Finished: 0.020644s\n",
      "Function (get_prediction) Finished: 0.020791s\n",
      "Function (get_prediction) Finished: 0.020176s\n",
      "Function (get_prediction) Finished: 0.019075s\n",
      "Function (get_prediction) Finished: 0.018207s\n",
      "Function (get_prediction) Finished: 0.02042s\n",
      "Function (get_prediction) Finished: 0.019123s\n",
      "Function (get_prediction) Finished: 0.022517s\n"
     ]
    },
    {
     "data": {
      "application/vnd.jupyter.widget-view+json": {
       "model_id": "f19a68497012452daf747c70577a5e58",
       "version_major": 2,
       "version_minor": 0
      },
      "text/html": [
       "<p>Failed to display Jupyter Widget of type <code>HBox</code>.</p>\n",
       "<p>\n",
       "  If you're reading this message in the Jupyter Notebook or JupyterLab Notebook, it may mean\n",
       "  that the widgets JavaScript is still loading. If this message persists, it\n",
       "  likely means that the widgets JavaScript library is either not installed or\n",
       "  not enabled. See the <a href=\"https://ipywidgets.readthedocs.io/en/stable/user_install.html\">Jupyter\n",
       "  Widgets Documentation</a> for setup instructions.\n",
       "</p>\n",
       "<p>\n",
       "  If you're reading this message in another frontend (for example, a static\n",
       "  rendering on GitHub or <a href=\"https://nbviewer.jupyter.org/\">NBViewer</a>),\n",
       "  it may mean that your frontend doesn't currently support widgets.\n",
       "</p>\n"
      ],
      "text/plain": [
       "HBox(children=(IntProgress(value=0, description='Epoch 87', max=173), HTML(value='')))"
      ]
     },
     "metadata": {},
     "output_type": "display_data"
    },
    {
     "name": "stdout",
     "output_type": "stream",
     "text": [
      "\n",
      "Epoch 00088: saving model to ./tmp/weights__5.88--0.90.hdf5\n",
      "Function (get_prediction) Finished: 0.0198s\n",
      "Function (get_prediction) Finished: 0.02067s\n",
      "Function (get_prediction) Finished: 0.019064s\n",
      "Function (get_prediction) Finished: 0.018298s\n",
      "Function (get_prediction) Finished: 0.018361s\n",
      "Function (get_prediction) Finished: 0.020355s\n",
      "Function (get_prediction) Finished: 0.01876s\n",
      "Function (get_prediction) Finished: 0.020494s\n"
     ]
    },
    {
     "data": {
      "application/vnd.jupyter.widget-view+json": {
       "model_id": "ffe53ae654ea436793c62dd5b9119536",
       "version_major": 2,
       "version_minor": 0
      },
      "text/html": [
       "<p>Failed to display Jupyter Widget of type <code>HBox</code>.</p>\n",
       "<p>\n",
       "  If you're reading this message in the Jupyter Notebook or JupyterLab Notebook, it may mean\n",
       "  that the widgets JavaScript is still loading. If this message persists, it\n",
       "  likely means that the widgets JavaScript library is either not installed or\n",
       "  not enabled. See the <a href=\"https://ipywidgets.readthedocs.io/en/stable/user_install.html\">Jupyter\n",
       "  Widgets Documentation</a> for setup instructions.\n",
       "</p>\n",
       "<p>\n",
       "  If you're reading this message in another frontend (for example, a static\n",
       "  rendering on GitHub or <a href=\"https://nbviewer.jupyter.org/\">NBViewer</a>),\n",
       "  it may mean that your frontend doesn't currently support widgets.\n",
       "</p>\n"
      ],
      "text/plain": [
       "HBox(children=(IntProgress(value=0, description='Epoch 88', max=173), HTML(value='')))"
      ]
     },
     "metadata": {},
     "output_type": "display_data"
    },
    {
     "name": "stdout",
     "output_type": "stream",
     "text": [
      "\n",
      "Epoch 00089: saving model to ./tmp/weights__5.89--0.62.hdf5\n",
      "Function (get_prediction) Finished: 0.019969s\n",
      "Function (get_prediction) Finished: 0.017817s\n",
      "Function (get_prediction) Finished: 0.016986s\n",
      "Function (get_prediction) Finished: 0.015792s\n",
      "Function (get_prediction) Finished: 0.015818s\n",
      "Function (get_prediction) Finished: 0.017982s\n",
      "Function (get_prediction) Finished: 0.019302s\n",
      "Function (get_prediction) Finished: 0.020262s\n"
     ]
    },
    {
     "data": {
      "application/vnd.jupyter.widget-view+json": {
       "model_id": "845c74478fc7428cae54e6e76d4dabd1",
       "version_major": 2,
       "version_minor": 0
      },
      "text/html": [
       "<p>Failed to display Jupyter Widget of type <code>HBox</code>.</p>\n",
       "<p>\n",
       "  If you're reading this message in the Jupyter Notebook or JupyterLab Notebook, it may mean\n",
       "  that the widgets JavaScript is still loading. If this message persists, it\n",
       "  likely means that the widgets JavaScript library is either not installed or\n",
       "  not enabled. See the <a href=\"https://ipywidgets.readthedocs.io/en/stable/user_install.html\">Jupyter\n",
       "  Widgets Documentation</a> for setup instructions.\n",
       "</p>\n",
       "<p>\n",
       "  If you're reading this message in another frontend (for example, a static\n",
       "  rendering on GitHub or <a href=\"https://nbviewer.jupyter.org/\">NBViewer</a>),\n",
       "  it may mean that your frontend doesn't currently support widgets.\n",
       "</p>\n"
      ],
      "text/plain": [
       "HBox(children=(IntProgress(value=0, description='Epoch 89', max=173), HTML(value='')))"
      ]
     },
     "metadata": {},
     "output_type": "display_data"
    },
    {
     "name": "stdout",
     "output_type": "stream",
     "text": [
      "\n",
      "Epoch 00090: saving model to ./tmp/weights__5.90--0.87.hdf5\n",
      "Function (get_prediction) Finished: 0.021481s\n",
      "Function (get_prediction) Finished: 0.0201s\n",
      "Function (get_prediction) Finished: 0.020037s\n",
      "Function (get_prediction) Finished: 0.019295s\n",
      "Function (get_prediction) Finished: 0.021612s\n",
      "Function (get_prediction) Finished: 0.024626s\n",
      "Function (get_prediction) Finished: 0.016806s\n",
      "Function (get_prediction) Finished: 0.017431s\n"
     ]
    },
    {
     "data": {
      "application/vnd.jupyter.widget-view+json": {
       "model_id": "3d6db001406b40e99ce1723d9e264cf3",
       "version_major": 2,
       "version_minor": 0
      },
      "text/html": [
       "<p>Failed to display Jupyter Widget of type <code>HBox</code>.</p>\n",
       "<p>\n",
       "  If you're reading this message in the Jupyter Notebook or JupyterLab Notebook, it may mean\n",
       "  that the widgets JavaScript is still loading. If this message persists, it\n",
       "  likely means that the widgets JavaScript library is either not installed or\n",
       "  not enabled. See the <a href=\"https://ipywidgets.readthedocs.io/en/stable/user_install.html\">Jupyter\n",
       "  Widgets Documentation</a> for setup instructions.\n",
       "</p>\n",
       "<p>\n",
       "  If you're reading this message in another frontend (for example, a static\n",
       "  rendering on GitHub or <a href=\"https://nbviewer.jupyter.org/\">NBViewer</a>),\n",
       "  it may mean that your frontend doesn't currently support widgets.\n",
       "</p>\n"
      ],
      "text/plain": [
       "HBox(children=(IntProgress(value=0, description='Epoch 90', max=173), HTML(value='')))"
      ]
     },
     "metadata": {},
     "output_type": "display_data"
    },
    {
     "name": "stdout",
     "output_type": "stream",
     "text": [
      "\n",
      "Epoch 00091: saving model to ./tmp/weights__5.91--0.90.hdf5\n",
      "Function (get_prediction) Finished: 0.021083s\n",
      "Function (get_prediction) Finished: 0.019464s\n",
      "Function (get_prediction) Finished: 0.019566s\n",
      "Function (get_prediction) Finished: 0.018314s\n",
      "Function (get_prediction) Finished: 0.017957s\n",
      "Function (get_prediction) Finished: 0.02065s\n",
      "Function (get_prediction) Finished: 0.018863s\n",
      "Function (get_prediction) Finished: 0.02025s\n"
     ]
    },
    {
     "data": {
      "application/vnd.jupyter.widget-view+json": {
       "model_id": "639d39b644d1411eb8c005a4e23cd9d1",
       "version_major": 2,
       "version_minor": 0
      },
      "text/html": [
       "<p>Failed to display Jupyter Widget of type <code>HBox</code>.</p>\n",
       "<p>\n",
       "  If you're reading this message in the Jupyter Notebook or JupyterLab Notebook, it may mean\n",
       "  that the widgets JavaScript is still loading. If this message persists, it\n",
       "  likely means that the widgets JavaScript library is either not installed or\n",
       "  not enabled. See the <a href=\"https://ipywidgets.readthedocs.io/en/stable/user_install.html\">Jupyter\n",
       "  Widgets Documentation</a> for setup instructions.\n",
       "</p>\n",
       "<p>\n",
       "  If you're reading this message in another frontend (for example, a static\n",
       "  rendering on GitHub or <a href=\"https://nbviewer.jupyter.org/\">NBViewer</a>),\n",
       "  it may mean that your frontend doesn't currently support widgets.\n",
       "</p>\n"
      ],
      "text/plain": [
       "HBox(children=(IntProgress(value=0, description='Epoch 91', max=173), HTML(value='')))"
      ]
     },
     "metadata": {},
     "output_type": "display_data"
    },
    {
     "name": "stdout",
     "output_type": "stream",
     "text": [
      "\n",
      "Epoch 00092: saving model to ./tmp/weights__5.92--0.79.hdf5\n",
      "Function (get_prediction) Finished: 0.019405s\n",
      "Function (get_prediction) Finished: 0.018127s\n",
      "Function (get_prediction) Finished: 0.016831s\n",
      "Function (get_prediction) Finished: 0.016581s\n",
      "Function (get_prediction) Finished: 0.01592s\n",
      "Function (get_prediction) Finished: 0.017513s\n",
      "Function (get_prediction) Finished: 0.017152s\n",
      "Function (get_prediction) Finished: 0.020806s\n"
     ]
    },
    {
     "data": {
      "application/vnd.jupyter.widget-view+json": {
       "model_id": "f711f85138794c11ac001776846f8d86",
       "version_major": 2,
       "version_minor": 0
      },
      "text/html": [
       "<p>Failed to display Jupyter Widget of type <code>HBox</code>.</p>\n",
       "<p>\n",
       "  If you're reading this message in the Jupyter Notebook or JupyterLab Notebook, it may mean\n",
       "  that the widgets JavaScript is still loading. If this message persists, it\n",
       "  likely means that the widgets JavaScript library is either not installed or\n",
       "  not enabled. See the <a href=\"https://ipywidgets.readthedocs.io/en/stable/user_install.html\">Jupyter\n",
       "  Widgets Documentation</a> for setup instructions.\n",
       "</p>\n",
       "<p>\n",
       "  If you're reading this message in another frontend (for example, a static\n",
       "  rendering on GitHub or <a href=\"https://nbviewer.jupyter.org/\">NBViewer</a>),\n",
       "  it may mean that your frontend doesn't currently support widgets.\n",
       "</p>\n"
      ],
      "text/plain": [
       "HBox(children=(IntProgress(value=0, description='Epoch 92', max=173), HTML(value='')))"
      ]
     },
     "metadata": {},
     "output_type": "display_data"
    },
    {
     "name": "stdout",
     "output_type": "stream",
     "text": [
      "\n",
      "Epoch 00093: saving model to ./tmp/weights__5.93--0.89.hdf5\n",
      "Function (get_prediction) Finished: 0.020905s\n",
      "Function (get_prediction) Finished: 0.020895s\n",
      "Function (get_prediction) Finished: 0.019369s\n",
      "Function (get_prediction) Finished: 0.019443s\n",
      "Function (get_prediction) Finished: 0.01947s\n",
      "Function (get_prediction) Finished: 0.020078s\n",
      "Function (get_prediction) Finished: 0.018359s\n",
      "Function (get_prediction) Finished: 0.021151s\n"
     ]
    },
    {
     "data": {
      "application/vnd.jupyter.widget-view+json": {
       "model_id": "372d60c2d1fa4d72a7809ce76d756916",
       "version_major": 2,
       "version_minor": 0
      },
      "text/html": [
       "<p>Failed to display Jupyter Widget of type <code>HBox</code>.</p>\n",
       "<p>\n",
       "  If you're reading this message in the Jupyter Notebook or JupyterLab Notebook, it may mean\n",
       "  that the widgets JavaScript is still loading. If this message persists, it\n",
       "  likely means that the widgets JavaScript library is either not installed or\n",
       "  not enabled. See the <a href=\"https://ipywidgets.readthedocs.io/en/stable/user_install.html\">Jupyter\n",
       "  Widgets Documentation</a> for setup instructions.\n",
       "</p>\n",
       "<p>\n",
       "  If you're reading this message in another frontend (for example, a static\n",
       "  rendering on GitHub or <a href=\"https://nbviewer.jupyter.org/\">NBViewer</a>),\n",
       "  it may mean that your frontend doesn't currently support widgets.\n",
       "</p>\n"
      ],
      "text/plain": [
       "HBox(children=(IntProgress(value=0, description='Epoch 93', max=173), HTML(value='')))"
      ]
     },
     "metadata": {},
     "output_type": "display_data"
    },
    {
     "name": "stdout",
     "output_type": "stream",
     "text": [
      "\n",
      "Epoch 00094: saving model to ./tmp/weights__5.94--0.88.hdf5\n",
      "Function (get_prediction) Finished: 0.019939s\n",
      "Function (get_prediction) Finished: 0.020019s\n",
      "Function (get_prediction) Finished: 0.02026s\n",
      "Function (get_prediction) Finished: 0.018553s\n",
      "Function (get_prediction) Finished: 0.019415s\n",
      "Function (get_prediction) Finished: 0.023354s\n",
      "Function (get_prediction) Finished: 0.019287s\n",
      "Function (get_prediction) Finished: 0.024502s\n"
     ]
    },
    {
     "data": {
      "application/vnd.jupyter.widget-view+json": {
       "model_id": "5571beeb9f814c63802e0442e58f1840",
       "version_major": 2,
       "version_minor": 0
      },
      "text/html": [
       "<p>Failed to display Jupyter Widget of type <code>HBox</code>.</p>\n",
       "<p>\n",
       "  If you're reading this message in the Jupyter Notebook or JupyterLab Notebook, it may mean\n",
       "  that the widgets JavaScript is still loading. If this message persists, it\n",
       "  likely means that the widgets JavaScript library is either not installed or\n",
       "  not enabled. See the <a href=\"https://ipywidgets.readthedocs.io/en/stable/user_install.html\">Jupyter\n",
       "  Widgets Documentation</a> for setup instructions.\n",
       "</p>\n",
       "<p>\n",
       "  If you're reading this message in another frontend (for example, a static\n",
       "  rendering on GitHub or <a href=\"https://nbviewer.jupyter.org/\">NBViewer</a>),\n",
       "  it may mean that your frontend doesn't currently support widgets.\n",
       "</p>\n"
      ],
      "text/plain": [
       "HBox(children=(IntProgress(value=0, description='Epoch 94', max=173), HTML(value='')))"
      ]
     },
     "metadata": {},
     "output_type": "display_data"
    },
    {
     "name": "stdout",
     "output_type": "stream",
     "text": [
      "\n",
      "Epoch 00095: saving model to ./tmp/weights__5.95--0.84.hdf5\n",
      "Function (get_prediction) Finished: 0.028001s\n",
      "Function (get_prediction) Finished: 0.020525s\n",
      "Function (get_prediction) Finished: 0.020523s\n",
      "Function (get_prediction) Finished: 0.017845s\n",
      "Function (get_prediction) Finished: 0.022423s\n",
      "Function (get_prediction) Finished: 0.024637s\n",
      "Function (get_prediction) Finished: 0.024933s\n",
      "Function (get_prediction) Finished: 0.025509s\n"
     ]
    },
    {
     "data": {
      "application/vnd.jupyter.widget-view+json": {
       "model_id": "8d7b3f3de40e409eade0ad66ab521ed8",
       "version_major": 2,
       "version_minor": 0
      },
      "text/html": [
       "<p>Failed to display Jupyter Widget of type <code>HBox</code>.</p>\n",
       "<p>\n",
       "  If you're reading this message in the Jupyter Notebook or JupyterLab Notebook, it may mean\n",
       "  that the widgets JavaScript is still loading. If this message persists, it\n",
       "  likely means that the widgets JavaScript library is either not installed or\n",
       "  not enabled. See the <a href=\"https://ipywidgets.readthedocs.io/en/stable/user_install.html\">Jupyter\n",
       "  Widgets Documentation</a> for setup instructions.\n",
       "</p>\n",
       "<p>\n",
       "  If you're reading this message in another frontend (for example, a static\n",
       "  rendering on GitHub or <a href=\"https://nbviewer.jupyter.org/\">NBViewer</a>),\n",
       "  it may mean that your frontend doesn't currently support widgets.\n",
       "</p>\n"
      ],
      "text/plain": [
       "HBox(children=(IntProgress(value=0, description='Epoch 95', max=173), HTML(value='')))"
      ]
     },
     "metadata": {},
     "output_type": "display_data"
    },
    {
     "name": "stdout",
     "output_type": "stream",
     "text": [
      "\n",
      "Epoch 00096: saving model to ./tmp/weights__5.96--0.36.hdf5\n",
      "Function (get_prediction) Finished: 0.020513s\n",
      "Function (get_prediction) Finished: 0.018985s\n",
      "Function (get_prediction) Finished: 0.018424s\n",
      "Function (get_prediction) Finished: 0.01839s\n",
      "Function (get_prediction) Finished: 0.018593s\n",
      "Function (get_prediction) Finished: 0.020374s\n",
      "Function (get_prediction) Finished: 0.019108s\n",
      "Function (get_prediction) Finished: 0.020119s\n"
     ]
    },
    {
     "data": {
      "application/vnd.jupyter.widget-view+json": {
       "model_id": "13e97ae87de14dad802014194684e543",
       "version_major": 2,
       "version_minor": 0
      },
      "text/html": [
       "<p>Failed to display Jupyter Widget of type <code>HBox</code>.</p>\n",
       "<p>\n",
       "  If you're reading this message in the Jupyter Notebook or JupyterLab Notebook, it may mean\n",
       "  that the widgets JavaScript is still loading. If this message persists, it\n",
       "  likely means that the widgets JavaScript library is either not installed or\n",
       "  not enabled. See the <a href=\"https://ipywidgets.readthedocs.io/en/stable/user_install.html\">Jupyter\n",
       "  Widgets Documentation</a> for setup instructions.\n",
       "</p>\n",
       "<p>\n",
       "  If you're reading this message in another frontend (for example, a static\n",
       "  rendering on GitHub or <a href=\"https://nbviewer.jupyter.org/\">NBViewer</a>),\n",
       "  it may mean that your frontend doesn't currently support widgets.\n",
       "</p>\n"
      ],
      "text/plain": [
       "HBox(children=(IntProgress(value=0, description='Epoch 96', max=173), HTML(value='')))"
      ]
     },
     "metadata": {},
     "output_type": "display_data"
    },
    {
     "name": "stdout",
     "output_type": "stream",
     "text": [
      "\n",
      "Epoch 00097: saving model to ./tmp/weights__5.97--0.52.hdf5\n",
      "Function (get_prediction) Finished: 0.021349s\n",
      "Function (get_prediction) Finished: 0.020009s\n",
      "Function (get_prediction) Finished: 0.018918s\n",
      "Function (get_prediction) Finished: 0.018994s\n",
      "Function (get_prediction) Finished: 0.01865s\n",
      "Function (get_prediction) Finished: 0.018041s\n",
      "Function (get_prediction) Finished: 0.015823s\n",
      "Function (get_prediction) Finished: 0.01722s\n"
     ]
    },
    {
     "data": {
      "application/vnd.jupyter.widget-view+json": {
       "model_id": "507bb65d073b49b986c83757d9d911e1",
       "version_major": 2,
       "version_minor": 0
      },
      "text/html": [
       "<p>Failed to display Jupyter Widget of type <code>HBox</code>.</p>\n",
       "<p>\n",
       "  If you're reading this message in the Jupyter Notebook or JupyterLab Notebook, it may mean\n",
       "  that the widgets JavaScript is still loading. If this message persists, it\n",
       "  likely means that the widgets JavaScript library is either not installed or\n",
       "  not enabled. See the <a href=\"https://ipywidgets.readthedocs.io/en/stable/user_install.html\">Jupyter\n",
       "  Widgets Documentation</a> for setup instructions.\n",
       "</p>\n",
       "<p>\n",
       "  If you're reading this message in another frontend (for example, a static\n",
       "  rendering on GitHub or <a href=\"https://nbviewer.jupyter.org/\">NBViewer</a>),\n",
       "  it may mean that your frontend doesn't currently support widgets.\n",
       "</p>\n"
      ],
      "text/plain": [
       "HBox(children=(IntProgress(value=0, description='Epoch 97', max=173), HTML(value='')))"
      ]
     },
     "metadata": {},
     "output_type": "display_data"
    },
    {
     "name": "stdout",
     "output_type": "stream",
     "text": [
      "\n",
      "Epoch 00098: saving model to ./tmp/weights__5.98--0.83.hdf5\n",
      "Function (get_prediction) Finished: 0.020404s\n",
      "Function (get_prediction) Finished: 0.019179s\n",
      "Function (get_prediction) Finished: 0.019042s\n",
      "Function (get_prediction) Finished: 0.017926s\n",
      "Function (get_prediction) Finished: 0.018544s\n",
      "Function (get_prediction) Finished: 0.021246s\n",
      "Function (get_prediction) Finished: 0.017954s\n",
      "Function (get_prediction) Finished: 0.020327s\n"
     ]
    },
    {
     "data": {
      "application/vnd.jupyter.widget-view+json": {
       "model_id": "b54c3050e1884f8c9d0ce5c8cffd51eb",
       "version_major": 2,
       "version_minor": 0
      },
      "text/html": [
       "<p>Failed to display Jupyter Widget of type <code>HBox</code>.</p>\n",
       "<p>\n",
       "  If you're reading this message in the Jupyter Notebook or JupyterLab Notebook, it may mean\n",
       "  that the widgets JavaScript is still loading. If this message persists, it\n",
       "  likely means that the widgets JavaScript library is either not installed or\n",
       "  not enabled. See the <a href=\"https://ipywidgets.readthedocs.io/en/stable/user_install.html\">Jupyter\n",
       "  Widgets Documentation</a> for setup instructions.\n",
       "</p>\n",
       "<p>\n",
       "  If you're reading this message in another frontend (for example, a static\n",
       "  rendering on GitHub or <a href=\"https://nbviewer.jupyter.org/\">NBViewer</a>),\n",
       "  it may mean that your frontend doesn't currently support widgets.\n",
       "</p>\n"
      ],
      "text/plain": [
       "HBox(children=(IntProgress(value=0, description='Epoch 98', max=173), HTML(value='')))"
      ]
     },
     "metadata": {},
     "output_type": "display_data"
    },
    {
     "name": "stdout",
     "output_type": "stream",
     "text": [
      "\n",
      "Epoch 00099: saving model to ./tmp/weights__5.99--0.89.hdf5\n",
      "Function (get_prediction) Finished: 0.020136s\n",
      "Function (get_prediction) Finished: 0.02098s\n",
      "Function (get_prediction) Finished: 0.020053s\n",
      "Function (get_prediction) Finished: 0.018524s\n",
      "Function (get_prediction) Finished: 0.019087s\n",
      "Function (get_prediction) Finished: 0.023467s\n",
      "Function (get_prediction) Finished: 0.020101s\n",
      "Function (get_prediction) Finished: 0.023768s\n"
     ]
    },
    {
     "data": {
      "application/vnd.jupyter.widget-view+json": {
       "model_id": "79e249d158d848c7b33535269b76852a",
       "version_major": 2,
       "version_minor": 0
      },
      "text/html": [
       "<p>Failed to display Jupyter Widget of type <code>HBox</code>.</p>\n",
       "<p>\n",
       "  If you're reading this message in the Jupyter Notebook or JupyterLab Notebook, it may mean\n",
       "  that the widgets JavaScript is still loading. If this message persists, it\n",
       "  likely means that the widgets JavaScript library is either not installed or\n",
       "  not enabled. See the <a href=\"https://ipywidgets.readthedocs.io/en/stable/user_install.html\">Jupyter\n",
       "  Widgets Documentation</a> for setup instructions.\n",
       "</p>\n",
       "<p>\n",
       "  If you're reading this message in another frontend (for example, a static\n",
       "  rendering on GitHub or <a href=\"https://nbviewer.jupyter.org/\">NBViewer</a>),\n",
       "  it may mean that your frontend doesn't currently support widgets.\n",
       "</p>\n"
      ],
      "text/plain": [
       "HBox(children=(IntProgress(value=0, description='Epoch 99', max=173), HTML(value='')))"
      ]
     },
     "metadata": {},
     "output_type": "display_data"
    },
    {
     "name": "stdout",
     "output_type": "stream",
     "text": [
      "\n",
      "Epoch 00100: saving model to ./tmp/weights__5.100--0.90.hdf5\n",
      "Function (get_prediction) Finished: 0.020895s\n",
      "Function (get_prediction) Finished: 0.025588s\n",
      "Function (get_prediction) Finished: 0.01988s\n",
      "Function (get_prediction) Finished: 0.019112s\n",
      "Function (get_prediction) Finished: 0.017702s\n",
      "Function (get_prediction) Finished: 0.020381s\n",
      "Function (get_prediction) Finished: 0.021667s\n",
      "Function (get_prediction) Finished: 0.023171s\n"
     ]
    }
   ],
   "source": [
    "from keras.callbacks import ModelCheckpoint, Callback\n",
    "checkpointer = ModelCheckpoint(filepath=\"./tmp/weights__5.{epoch:02d}-{val_loss:.2f}.hdf5\", verbose=1)\n",
    "clear_stored_images()\n",
    "model = get_model(training_set[0][0].shape[0],training_set[0][0].shape[1])\n",
    "@time_function()\n",
    "def get_prediction(model, image):\n",
    "    predicted_mask = model.predict(np.array([image]))[0]\n",
    "    return np.resize(predicted_mask, (predicted_mask.shape[0], predicted_mask.shape[1]))\n",
    "\n",
    "base_image = np.concatenate((validation_set[15][0],\n",
    "                             validation_set[16][0],\n",
    "                             validation_set[17][0],\n",
    "                             validation_set[18][0],\n",
    "                             validation_set[19][0],\n",
    "                             validation_set[12][0],\n",
    "                             validation_set[13][0],\n",
    "                             validation_set[14][0],), axis=1)\n",
    "\n",
    "scipy.misc.imsave(f\"./test_data/base_image.jpg\", base_image)\n",
    "\n",
    "\n",
    "class other_callback(Callback):\n",
    "    \n",
    "    def on_epoch_end(*args, **kwargs):\n",
    "        i1 = get_prediction(model, validation_set[15][0])\n",
    "        i2 = get_prediction(model, validation_set[16][0])\n",
    "        i3 = get_prediction(model, validation_set[17][0])\n",
    "        i4 = get_prediction(model, validation_set[18][0])\n",
    "        i5 = get_prediction(model, validation_set[19][0])\n",
    "        i6 = get_prediction(model, validation_set[12][0])\n",
    "        i7 = get_prediction(model, validation_set[13][0])\n",
    "        i8 = get_prediction(model, validation_set[14][0])\n",
    "\n",
    "        image = np.concatenate((i1,i2,i3,i4,i5,i6,i7,i8), axis=1)\n",
    "        \n",
    "        scipy.misc.imsave(f\"./test_data/E{str(args[1]).zfill(5)}_{args[2]['val_dice_coef']:.2f}.jpg\", image)\n",
    "#         validation = validation_set[15][0]\n",
    "#         predicted_mask = model.predict(np.array([validation]))[0]\n",
    "#         show_image(np.resize(predicted_mask, (predicted_mask.shape[0], predicted_mask.shape[1])))\n",
    "        \n",
    "        \n",
    "        #import pdb; pdb.set_trace()\n",
    "        pass\n",
    "model.fit_generator(training_generator, \n",
    "                    steps_per_epoch=len(training_set), \n",
    "                    epochs=100, \n",
    "                    verbose=0,\n",
    "                    validation_data=validating_generator, \n",
    "                    validation_steps=len(validation_set), \n",
    "                    callbacks=[checkpointer,TQDMNotebookCallback(),other_callback()])\n",
    "\n",
    "model.save_weights('./fast_traffic_detection_model_v2.hdf5')"
   ]
  },
  {
   "cell_type": "code",
   "execution_count": null,
   "metadata": {},
   "outputs": [],
   "source": []
  },
  {
   "cell_type": "code",
   "execution_count": null,
   "metadata": {},
   "outputs": [],
   "source": []
  }
 ],
 "metadata": {
  "kernelspec": {
   "display_name": "Python 3",
   "language": "python",
   "name": "python3"
  },
  "language_info": {
   "codemirror_mode": {
    "name": "ipython",
    "version": 3
   },
   "file_extension": ".py",
   "mimetype": "text/x-python",
   "name": "python",
   "nbconvert_exporter": "python",
   "pygments_lexer": "ipython3",
   "version": "3.6.4"
  }
 },
 "nbformat": 4,
 "nbformat_minor": 2
}
